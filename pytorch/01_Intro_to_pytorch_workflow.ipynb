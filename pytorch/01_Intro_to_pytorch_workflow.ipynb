{
 "cells": [
  {
   "cell_type": "markdown",
   "id": "b33d3e6e",
   "metadata": {},
   "source": [
    "# Introduction to Pytorch Workflow\n"
   ]
  },
  {
   "cell_type": "code",
   "execution_count": 20,
   "id": "8b2ded2b",
   "metadata": {},
   "outputs": [
    {
     "name": "stdout",
     "output_type": "stream",
     "text": [
      "2.7.1+cu118\n"
     ]
    }
   ],
   "source": [
    "import torch\n",
    "import pandas as pd\n",
    "import numpy as np\n",
    "import matplotlib.pyplot as plt\n",
    "import seaborn as sn\n",
    "from torch import nn  #neural networks\n",
    "print(torch.__version__)"
   ]
  },
  {
   "cell_type": "code",
   "execution_count": 21,
   "id": "b22a939a",
   "metadata": {},
   "outputs": [],
   "source": [
    "what_were_covering={\n",
    "    1:'data preparations and loading', \n",
    "    2:'building a model', \n",
    "    3:'fitting a model', \n",
    "    4:'making predictions and evaluating a model', \n",
    "    5:'saving and loading a model', \n",
    "    6:'putting a model on GPU'\n",
    "    }"
   ]
  },
  {
   "cell_type": "markdown",
   "id": "ab5276b4",
   "metadata": {},
   "source": [
    "## 1. Data Preparations and Loading"
   ]
  },
  {
   "cell_type": "code",
   "execution_count": 22,
   "id": "d89993cd",
   "metadata": {},
   "outputs": [
    {
     "name": "stdout",
     "output_type": "stream",
     "text": [
      "tensor([[0.0000],\n",
      "        [0.0200],\n",
      "        [0.0400],\n",
      "        [0.0600],\n",
      "        [0.0800],\n",
      "        [0.1000],\n",
      "        [0.1200],\n",
      "        [0.1400],\n",
      "        [0.1600],\n",
      "        [0.1800]]) tensor([[0.3000],\n",
      "        [0.3140],\n",
      "        [0.3280],\n",
      "        [0.3420],\n",
      "        [0.3560],\n",
      "        [0.3700],\n",
      "        [0.3840],\n",
      "        [0.3980],\n",
      "        [0.4120],\n",
      "        [0.4260]]) 50 50\n"
     ]
    }
   ],
   "source": [
    "# creatig Known parameters\n",
    "weight=0.7\n",
    "bias=0.3\n",
    "\n",
    "#create\n",
    "start=0\n",
    "end=1\n",
    "step=0.02\n",
    "X=torch.arange(start,end,step).unsqueeze(dim=1) #unsqueeze to add a dimension\n",
    "Y=weight*X+bias\n",
    "print(X[:10],Y[:10],len(X),len(Y))"
   ]
  },
  {
   "cell_type": "markdown",
   "id": "2280c768",
   "metadata": {},
   "source": [
    "### Spliting the dataset to train and test datasets"
   ]
  },
  {
   "cell_type": "code",
   "execution_count": 23,
   "id": "a16d0126",
   "metadata": {},
   "outputs": [
    {
     "name": "stdout",
     "output_type": "stream",
     "text": [
      "X_train: tensor([[0.0000],\n",
      "        [0.0200],\n",
      "        [0.0400],\n",
      "        [0.0600],\n",
      "        [0.0800],\n",
      "        [0.1000],\n",
      "        [0.1200],\n",
      "        [0.1400],\n",
      "        [0.1600],\n",
      "        [0.1800]]), Y_train: tensor([[0.3000],\n",
      "        [0.3140],\n",
      "        [0.3280],\n",
      "        [0.3420],\n",
      "        [0.3560],\n",
      "        [0.3700],\n",
      "        [0.3840],\n",
      "        [0.3980],\n",
      "        [0.4120],\n",
      "        [0.4260]])\n",
      "X_test: tensor([[0.8000],\n",
      "        [0.8200],\n",
      "        [0.8400],\n",
      "        [0.8600],\n",
      "        [0.8800],\n",
      "        [0.9000],\n",
      "        [0.9200],\n",
      "        [0.9400],\n",
      "        [0.9600],\n",
      "        [0.9800]]), Y_test: tensor([[0.8600],\n",
      "        [0.8740],\n",
      "        [0.8880],\n",
      "        [0.9020],\n",
      "        [0.9160],\n",
      "        [0.9300],\n",
      "        [0.9440],\n",
      "        [0.9580],\n",
      "        [0.9720],\n",
      "        [0.9860]])\n",
      "Length of X_train: 40, Length of Y_train: 40\n",
      "Length of X_test: 10, Length of Y_test: 10\n"
     ]
    }
   ],
   "source": [
    "#create train and test split\n",
    "train_split=int(0.8*len(X))\n",
    "X_train, Y_train=X[:train_split], Y[:train_split]\n",
    "X_test, Y_test=X[train_split:], Y[train_split:]\n",
    "print(f\"X_train: {X_train[:10]}, Y_train: {Y_train[:10]}\")\n",
    "print(f\"X_test: {X_test[:10]}, Y_test: {Y_test[:10]}\")\n",
    "print(f\"Length of X_train: {len(X_train)}, Length of Y_train: {len(Y_train)}\")\n",
    "print(f\"Length of X_test: {len(X_test)}, Length of Y_test: {len(Y_test)}\")"
   ]
  },
  {
   "cell_type": "markdown",
   "id": "ac077bf3",
   "metadata": {},
   "source": [
    "### Visualizing Data"
   ]
  },
  {
   "cell_type": "code",
   "execution_count": 24,
   "id": "b0e92fd5",
   "metadata": {},
   "outputs": [],
   "source": [
    "def plot_pred(train_data=X_train, train_labels=Y_train,test_data=X_test,test_labels=Y_test,predictions=None):\n",
    "    plt.figure(figsize=(10,7))\n",
    "\n",
    "    plt.scatter(train_data, train_labels, c='b', s=4, label='Training data')\n",
    "    plt.scatter(test_data, test_labels, c='g', s=4, label='Testing data')\n",
    "    if predictions is not None:\n",
    "        if len(predictions) != len(test_data):\n",
    "            plt.scatter(train_data, predictions, c='r', s=4, label='Predictions')\n",
    "        else:\n",
    "            plt.scatter(test_data, predictions, c='r', s=4, label='Predictions')\n",
    "\n",
    "    plt.legend(prop={'size':14})"
   ]
  },
  {
   "cell_type": "code",
   "execution_count": 25,
   "id": "d0cacd0f",
   "metadata": {},
   "outputs": [
    {
     "data": {
      "image/png": "[encoded data removed]",
      "text/plain": [
       "<Figure size 1000x700 with 1 Axes>"
      ]
     },
     "metadata": {},
     "output_type": "display_data"
    }
   ],
   "source": [
    "plot_pred()"
   ]
  },
  {
   "cell_type": "markdown",
   "id": "85df6861",
   "metadata": {},
   "source": [
    "### Building a Model\n",
    "\n",
    "using two main Concepts :\n",
    "1. Gradiant descent\n",
    "2. Backpropagation"
   ]
  },
  {
   "cell_type": "code",
   "execution_count": 48,
   "id": "607487a6",
   "metadata": {},
   "outputs": [],
   "source": [
    "# creating a linear regression model\n",
    "class LinearRegressionModel(nn.Module): ## almost every th### Building a Model\n",
    "\n",
    "    def __init__(self):\n",
    "        super().__init__()\n",
    "        self.weights=nn.Parameter(torch.randn(1,requires_grad=True,dtype=torch.float)) #requires_grad=True means we want to learn the weights\n",
    "        self.bias=nn.Parameter(torch.randn(1,requires_grad=True,dtype=torch.float)) #requires_grad=True means we want to learn the weights\n",
    "    def forward(self,x:torch.tensor)->torch.tensor:\n",
    "        return self.weights*x+self.bias #this is linear rigression formulation"
   ]
  },
  {
   "cell_type": "markdown",
   "id": "022aa774",
   "metadata": {},
   "source": [
    "### Pytorch model building Essentials\n",
    "\n",
    "1. **torch.nn** => contains all the computational graphs\n",
    "2. **torch.nn.Parameter** => parameters that the odel needs and change\n",
    "3. **torch.nnn.Module** => base class for all the models in pytorch\n",
    "4. **torch.optim** => they will help with gradient descent for reducting errors\n",
    "5. **def forward()** =>all nn.module subclasses need this to get what this model doing\n"
   ]
  },
  {
   "cell_type": "code",
   "execution_count": 59,
   "id": "46efbf89",
   "metadata": {},
   "outputs": [
    {
     "name": "stdout",
     "output_type": "stream",
     "text": [
      "LinearRegressionModel()\n",
      "[Parameter containing:\n",
      "tensor([0.3367], requires_grad=True), Parameter containing:\n",
      "tensor([0.1288], requires_grad=True)]\n"
     ]
    }
   ],
   "source": [
    "torch.manual_seed(42)\n",
    "#creatig a instance of the model\n",
    "model_0=LinearRegressionModel()\n",
    "#checking the model parameters\n",
    "print(model_0) \n",
    "print(list(model_0.parameters()))"
   ]
  },
  {
   "cell_type": "code",
   "execution_count": 60,
   "id": "7d04ff6e",
   "metadata": {},
   "outputs": [
    {
     "data": {
      "text/plain": [
       "OrderedDict([('weights', tensor([0.3367])), ('bias', tensor([0.1288]))])"
      ]
     },
     "execution_count": 60,
     "metadata": {},
     "output_type": "execute_result"
    }
   ],
   "source": [
    "#linst the named parameters\n",
    "model_0.state_dict()"
   ]
  },
  {
   "cell_type": "markdown",
   "id": "3934ccda",
   "metadata": {},
   "source": [
    "### Making predictions using torch.inference_mode()"
   ]
  },
  {
   "cell_type": "code",
   "execution_count": 61,
   "id": "4dc53359",
   "metadata": {},
   "outputs": [
    {
     "data": {
      "text/plain": [
       "tensor([[0.3982],\n",
       "        [0.4049],\n",
       "        [0.4116],\n",
       "        [0.4184],\n",
       "        [0.4251],\n",
       "        [0.4318],\n",
       "        [0.4386],\n",
       "        [0.4453],\n",
       "        [0.4520],\n",
       "        [0.4588]])"
      ]
     },
     "execution_count": 61,
     "metadata": {},
     "output_type": "execute_result"
    }
   ],
   "source": [
    "with torch.inference_mode():# inference mode is used for making predictions without tracking gradients\n",
    "    y_preds=model_0(X_test)\n",
    "\n",
    "# with torch.no_grad():  # no_grad is used for making predictions without tracking gradients\n",
    "#     y_preds=model_0(X_test)\n",
    "\n",
    "y_preds"
   ]
  },
  {
   "cell_type": "code",
   "execution_count": 62,
   "id": "d576e322",
   "metadata": {},
   "outputs": [
    {
     "data": {
      "text/plain": [
       "tensor([[0.8600],\n",
       "        [0.8740],\n",
       "        [0.8880],\n",
       "        [0.9020],\n",
       "        [0.9160],\n",
       "        [0.9300],\n",
       "        [0.9440],\n",
       "        [0.9580],\n",
       "        [0.9720],\n",
       "        [0.9860]])"
      ]
     },
     "execution_count": 62,
     "metadata": {},
     "output_type": "execute_result"
    }
   ],
   "source": [
    "Y_test"
   ]
  },
  {
   "cell_type": "code",
   "execution_count": 63,
   "id": "5b31e219",
   "metadata": {},
   "outputs": [
    {
     "data": {
      "image/png": "[encoded data removed]",
      "text/plain": [
       "<Figure size 1000x700 with 1 Axes>"
      ]
     },
     "metadata": {},
     "output_type": "display_data"
    }
   ],
   "source": [
    "plot_pred(predictions=y_preds)"
   ]
  },
  {
   "cell_type": "markdown",
   "id": "1f7a2646",
   "metadata": {},
   "source": [
    "### Training Model using loss funtion and Optimizer"
   ]
  },
  {
   "cell_type": "code",
   "execution_count": 64,
   "id": "79d3501c",
   "metadata": {},
   "outputs": [
    {
     "data": {
      "text/plain": [
       "OrderedDict([('weights', tensor([0.3367])), ('bias', tensor([0.1288]))])"
      ]
     },
     "execution_count": 64,
     "metadata": {},
     "output_type": "execute_result"
    }
   ],
   "source": [
    "model_0.state_dict()"
   ]
  },
  {
   "cell_type": "code",
   "execution_count": 65,
   "id": "61dd87c2",
   "metadata": {},
   "outputs": [],
   "source": [
    "loss_fn=nn.L1Loss()#loss function for regression\n",
    "optimizer=torch.optim.SGD(params=model_0.parameters(),lr=0.01)# Stochastic Gradient Descent optimizer "
   ]
  },
  {
   "cell_type": "markdown",
   "id": "afd0556d",
   "metadata": {},
   "source": [
    "\n",
    "\n",
    "### Building a training loop and testing loop"
   ]
  },
  {
   "cell_type": "code",
   "execution_count": 66,
   "id": "2170dff7",
   "metadata": {},
   "outputs": [
    {
     "name": "stdout",
     "output_type": "stream",
     "text": [
      "Epoch: 1 | Loss: 0.31288138031959534\n",
      "Epochs: 1 | Test Loss: 0.48106518387794495\n",
      "Epoch: 2 | Loss: 0.3013603389263153\n",
      "Epochs: 2 | Test Loss: 0.4675942063331604\n",
      "Epoch: 3 | Loss: 0.28983935713768005\n",
      "Epochs: 3 | Test Loss: 0.4541231691837311\n",
      "Epoch: 4 | Loss: 0.2783183455467224\n",
      "Epochs: 4 | Test Loss: 0.44065219163894653\n",
      "Epoch: 5 | Loss: 0.26679736375808716\n",
      "Epochs: 5 | Test Loss: 0.4271811842918396\n",
      "Epoch: 6 | Loss: 0.2552763521671295\n",
      "Epochs: 6 | Test Loss: 0.41371020674705505\n",
      "Epoch: 7 | Loss: 0.24375534057617188\n",
      "Epochs: 7 | Test Loss: 0.40023916959762573\n",
      "Epoch: 8 | Loss: 0.23223432898521423\n",
      "Epochs: 8 | Test Loss: 0.3867681920528412\n",
      "Epoch: 9 | Loss: 0.22071333229541779\n",
      "Epochs: 9 | Test Loss: 0.37329721450805664\n",
      "Epoch: 10 | Loss: 0.20919232070446014\n",
      "Epochs: 10 | Test Loss: 0.3598262071609497\n",
      "Model parameters: OrderedDict({'weights': tensor([0.3757]), 'bias': tensor([0.2288])})\n",
      "Epoch: 11 | Loss: 0.1976713240146637\n",
      "Epochs: 11 | Test Loss: 0.3463551998138428\n",
      "Epoch: 12 | Loss: 0.18615034222602844\n",
      "Epochs: 12 | Test Loss: 0.3328842222690582\n",
      "Epoch: 13 | Loss: 0.1746293306350708\n",
      "Epochs: 13 | Test Loss: 0.3194132149219513\n",
      "Epoch: 14 | Loss: 0.16310831904411316\n",
      "Epochs: 14 | Test Loss: 0.30594223737716675\n",
      "Epoch: 15 | Loss: 0.1515873372554779\n",
      "Epochs: 15 | Test Loss: 0.2924712300300598\n",
      "Epoch: 16 | Loss: 0.14006635546684265\n",
      "Epochs: 16 | Test Loss: 0.27900025248527527\n",
      "Epoch: 17 | Loss: 0.1285453587770462\n",
      "Epochs: 17 | Test Loss: 0.2655292749404907\n",
      "Epoch: 18 | Loss: 0.11702437698841095\n",
      "Epochs: 18 | Test Loss: 0.2520582973957062\n",
      "Epoch: 19 | Loss: 0.1060912236571312\n",
      "Epochs: 19 | Test Loss: 0.2395961582660675\n",
      "Epoch: 20 | Loss: 0.09681284427642822\n",
      "Epochs: 20 | Test Loss: 0.22817862033843994\n",
      "Model parameters: OrderedDict({'weights': tensor([0.4146]), 'bias': tensor([0.3258])})\n",
      "Epoch: 21 | Loss: 0.08908725529909134\n",
      "Epochs: 21 | Test Loss: 0.21729660034179688\n",
      "Epoch: 22 | Loss: 0.08227583020925522\n",
      "Epochs: 22 | Test Loss: 0.2069590985774994\n",
      "Epoch: 23 | Loss: 0.07638873159885406\n",
      "Epochs: 23 | Test Loss: 0.19773726165294647\n",
      "Epoch: 24 | Loss: 0.07160007208585739\n",
      "Epochs: 24 | Test Loss: 0.1890866756439209\n",
      "Epoch: 25 | Loss: 0.06747635453939438\n",
      "Epochs: 25 | Test Loss: 0.18101617693901062\n",
      "Epoch: 26 | Loss: 0.06395438313484192\n",
      "Epochs: 26 | Test Loss: 0.17353470623493195\n",
      "Epoch: 27 | Loss: 0.06097004935145378\n",
      "Epochs: 27 | Test Loss: 0.16665108501911163\n",
      "Epoch: 28 | Loss: 0.05845819041132927\n",
      "Epochs: 28 | Test Loss: 0.16037428379058838\n",
      "Epoch: 29 | Loss: 0.05635259300470352\n",
      "Epochs: 29 | Test Loss: 0.15471318364143372\n",
      "Epoch: 30 | Loss: 0.0545857772231102\n",
      "Epochs: 30 | Test Loss: 0.14967669546604156\n",
      "Model parameters: OrderedDict({'weights': tensor([0.4483]), 'bias': tensor([0.3743])})\n",
      "Epoch: 31 | Loss: 0.053148526698350906\n",
      "Epochs: 31 | Test Loss: 0.14464017748832703\n",
      "Epoch: 32 | Loss: 0.05181945487856865\n",
      "Epochs: 32 | Test Loss: 0.14023718237876892\n",
      "Epoch: 33 | Loss: 0.05069301277399063\n",
      "Epochs: 33 | Test Loss: 0.13647659122943878\n",
      "Epoch: 34 | Loss: 0.0498228520154953\n",
      "Epochs: 34 | Test Loss: 0.13271598517894745\n",
      "Epoch: 35 | Loss: 0.04895269125699997\n",
      "Epochs: 35 | Test Loss: 0.12895536422729492\n",
      "Epoch: 36 | Loss: 0.04819351062178612\n",
      "Epochs: 36 | Test Loss: 0.12584610283374786\n",
      "Epoch: 37 | Loss: 0.047531817108392715\n",
      "Epochs: 37 | Test Loss: 0.12273679673671722\n",
      "Epoch: 38 | Loss: 0.04692792519927025\n",
      "Epochs: 38 | Test Loss: 0.1202877014875412\n",
      "Epoch: 39 | Loss: 0.04642331600189209\n",
      "Epochs: 39 | Test Loss: 0.11783860623836517\n",
      "Epoch: 40 | Loss: 0.04591871052980423\n",
      "Epochs: 40 | Test Loss: 0.11538954079151154\n",
      "Model parameters: OrderedDict({'weights': tensor([0.4728]), 'bias': tensor([0.3868])})\n",
      "Epoch: 41 | Loss: 0.04543796554207802\n",
      "Epochs: 41 | Test Loss: 0.11360953003168106\n",
      "Epoch: 42 | Loss: 0.04503796249628067\n",
      "Epochs: 42 | Test Loss: 0.11182951927185059\n",
      "Epoch: 43 | Loss: 0.04463795945048332\n",
      "Epochs: 43 | Test Loss: 0.1100495308637619\n",
      "Epoch: 44 | Loss: 0.04423796385526657\n",
      "Epochs: 44 | Test Loss: 0.10826952755451202\n",
      "Epoch: 45 | Loss: 0.04383796453475952\n",
      "Epochs: 45 | Test Loss: 0.10648951679468155\n",
      "Epoch: 46 | Loss: 0.04343796148896217\n",
      "Epochs: 46 | Test Loss: 0.10470950603485107\n",
      "Epoch: 47 | Loss: 0.043074630200862885\n",
      "Epochs: 47 | Test Loss: 0.10360751301050186\n",
      "Epoch: 48 | Loss: 0.04272563382983208\n",
      "Epochs: 48 | Test Loss: 0.10250549018383026\n",
      "Epoch: 49 | Loss: 0.04237663000822067\n",
      "Epochs: 49 | Test Loss: 0.10140349715948105\n",
      "Epoch: 50 | Loss: 0.04202762991189957\n",
      "Epochs: 50 | Test Loss: 0.10030148178339005\n",
      "Model parameters: OrderedDict({'weights': tensor([0.4920]), 'bias': tensor([0.3848])})\n",
      "Epoch: 51 | Loss: 0.04167863354086876\n",
      "Epochs: 51 | Test Loss: 0.09919948130846024\n",
      "Epoch: 52 | Loss: 0.04132963344454765\n",
      "Epochs: 52 | Test Loss: 0.09809747338294983\n",
      "Epoch: 53 | Loss: 0.04098063334822655\n",
      "Epochs: 53 | Test Loss: 0.09699545800685883\n",
      "Epoch: 54 | Loss: 0.04063162952661514\n",
      "Epochs: 54 | Test Loss: 0.09589345753192902\n",
      "Epoch: 55 | Loss: 0.040282636880874634\n",
      "Epochs: 55 | Test Loss: 0.0947914719581604\n",
      "Epoch: 56 | Loss: 0.039933640509843826\n",
      "Epochs: 56 | Test Loss: 0.09368947893381119\n",
      "Epoch: 57 | Loss: 0.03958464413881302\n",
      "Epochs: 57 | Test Loss: 0.09258746355772018\n",
      "Epoch: 58 | Loss: 0.03923564404249191\n",
      "Epochs: 58 | Test Loss: 0.09148545563220978\n",
      "Epoch: 59 | Loss: 0.03888664394617081\n",
      "Epochs: 59 | Test Loss: 0.09038344770669937\n",
      "Epoch: 60 | Loss: 0.0385376438498497\n",
      "Epochs: 60 | Test Loss: 0.08928143978118896\n",
      "Model parameters: OrderedDict({'weights': tensor([0.5100]), 'bias': tensor([0.3798])})\n",
      "Epoch: 61 | Loss: 0.03818932920694351\n",
      "Epochs: 61 | Test Loss: 0.08886633068323135\n",
      "Epoch: 62 | Loss: 0.03785243630409241\n",
      "Epochs: 62 | Test Loss: 0.08776430785655975\n",
      "Epoch: 63 | Loss: 0.0375034399330616\n",
      "Epochs: 63 | Test Loss: 0.08666229248046875\n",
      "Epoch: 64 | Loss: 0.037164121866226196\n",
      "Epochs: 64 | Test Loss: 0.08624717593193054\n",
      "Epoch: 65 | Loss: 0.03681822493672371\n",
      "Epochs: 65 | Test Loss: 0.08514519035816193\n",
      "Epoch: 66 | Loss: 0.03647511452436447\n",
      "Epochs: 66 | Test Loss: 0.08473004400730133\n",
      "Epoch: 67 | Loss: 0.03613303601741791\n",
      "Epochs: 67 | Test Loss: 0.08362803608179092\n",
      "Epoch: 68 | Loss: 0.03578609973192215\n",
      "Epochs: 68 | Test Loss: 0.08321291208267212\n",
      "Epoch: 69 | Loss: 0.03544783592224121\n",
      "Epochs: 69 | Test Loss: 0.08211090415716171\n",
      "Epoch: 70 | Loss: 0.035098835825920105\n",
      "Epochs: 70 | Test Loss: 0.0810088962316513\n",
      "Model parameters: OrderedDict({'weights': tensor([0.5272]), 'bias': tensor([0.3728])})\n",
      "Epoch: 71 | Loss: 0.03476089984178543\n",
      "Epochs: 71 | Test Loss: 0.0805937647819519\n",
      "Epoch: 72 | Loss: 0.03441363573074341\n",
      "Epochs: 72 | Test Loss: 0.0794917643070221\n",
      "Epoch: 73 | Loss: 0.03407188132405281\n",
      "Epochs: 73 | Test Loss: 0.07907666265964508\n",
      "Epoch: 74 | Loss: 0.03372843936085701\n",
      "Epochs: 74 | Test Loss: 0.07797462493181229\n",
      "Epoch: 75 | Loss: 0.03338287025690079\n",
      "Epochs: 75 | Test Loss: 0.07755951583385468\n",
      "Epoch: 76 | Loss: 0.033043231815099716\n",
      "Epochs: 76 | Test Loss: 0.07645749300718307\n",
      "Epoch: 77 | Loss: 0.03269423171877861\n",
      "Epochs: 77 | Test Loss: 0.07535548508167267\n",
      "Epoch: 78 | Loss: 0.032357655465602875\n",
      "Epochs: 78 | Test Loss: 0.07494036853313446\n",
      "Epoch: 79 | Loss: 0.03200903534889221\n",
      "Epochs: 79 | Test Loss: 0.07383836805820465\n",
      "Epoch: 80 | Loss: 0.03166864812374115\n",
      "Epochs: 80 | Test Loss: 0.07342323660850525\n",
      "Model parameters: OrderedDict({'weights': tensor([0.5441]), 'bias': tensor([0.3653])})\n",
      "Epoch: 81 | Loss: 0.03132382780313492\n",
      "Epochs: 81 | Test Loss: 0.07232122868299484\n",
      "Epoch: 82 | Loss: 0.030979642644524574\n",
      "Epochs: 82 | Test Loss: 0.07190609723329544\n",
      "Epoch: 83 | Loss: 0.030638623982667923\n",
      "Epochs: 83 | Test Loss: 0.07080408930778503\n",
      "Epoch: 84 | Loss: 0.0302906334400177\n",
      "Epochs: 84 | Test Loss: 0.07038896530866623\n",
      "Epoch: 85 | Loss: 0.029953425750136375\n",
      "Epochs: 85 | Test Loss: 0.06928696483373642\n",
      "Epoch: 86 | Loss: 0.02960442565381527\n",
      "Epochs: 86 | Test Loss: 0.06818496435880661\n",
      "Epoch: 87 | Loss: 0.029265418648719788\n",
      "Epochs: 87 | Test Loss: 0.0677698403596878\n",
      "Epoch: 88 | Loss: 0.028919223695993423\n",
      "Epochs: 88 | Test Loss: 0.0666678324341774\n",
      "Epoch: 89 | Loss: 0.028576409444212914\n",
      "Epochs: 89 | Test Loss: 0.066252700984478\n",
      "Epoch: 90 | Loss: 0.028234025463461876\n",
      "Epochs: 90 | Test Loss: 0.06515069305896759\n",
      "Model parameters: OrderedDict({'weights': tensor([0.5613]), 'bias': tensor([0.3583])})\n",
      "Epoch: 91 | Loss: 0.02788739837706089\n",
      "Epochs: 91 | Test Loss: 0.06473556160926819\n",
      "Epoch: 92 | Loss: 0.02754882536828518\n",
      "Epochs: 92 | Test Loss: 0.06363357603549957\n",
      "Epoch: 93 | Loss: 0.027199819684028625\n",
      "Epochs: 93 | Test Loss: 0.06253156810998917\n",
      "Epoch: 94 | Loss: 0.026862185448408127\n",
      "Epochs: 94 | Test Loss: 0.062116436660289764\n",
      "Epoch: 95 | Loss: 0.02651461586356163\n",
      "Epochs: 95 | Test Loss: 0.061014432460069656\n",
      "Epoch: 96 | Loss: 0.026173178106546402\n",
      "Epochs: 96 | Test Loss: 0.06059930846095085\n",
      "Epoch: 97 | Loss: 0.025829419493675232\n",
      "Epochs: 97 | Test Loss: 0.05949730426073074\n",
      "Epoch: 98 | Loss: 0.02548416517674923\n",
      "Epochs: 98 | Test Loss: 0.05908216908574104\n",
      "Epoch: 99 | Loss: 0.025144213810563087\n",
      "Epochs: 99 | Test Loss: 0.057980168610811234\n",
      "Epoch: 100 | Loss: 0.02479521557688713\n",
      "Epochs: 100 | Test Loss: 0.05687814950942993\n",
      "Model parameters: OrderedDict({'weights': tensor([0.5784]), 'bias': tensor([0.3513])})\n",
      "Epoch: 101 | Loss: 0.024458957836031914\n",
      "Epochs: 101 | Test Loss: 0.05646304413676262\n",
      "Epoch: 102 | Loss: 0.024110013619065285\n",
      "Epochs: 102 | Test Loss: 0.05536102131009102\n",
      "Epoch: 103 | Loss: 0.02376994863152504\n",
      "Epochs: 103 | Test Loss: 0.05494590476155281\n",
      "Epoch: 104 | Loss: 0.02342480979859829\n",
      "Epochs: 104 | Test Loss: 0.05384388566017151\n",
      "Epoch: 105 | Loss: 0.023080935701727867\n",
      "Epochs: 105 | Test Loss: 0.0534287691116333\n",
      "Epoch: 106 | Loss: 0.022739607840776443\n",
      "Epochs: 106 | Test Loss: 0.052326757460832596\n",
      "Epoch: 107 | Loss: 0.022391926497220993\n",
      "Epochs: 107 | Test Loss: 0.05191164091229439\n",
      "Epoch: 108 | Loss: 0.022054409608244896\n",
      "Epochs: 108 | Test Loss: 0.05080962926149368\n",
      "Epoch: 109 | Loss: 0.02170540764927864\n",
      "Epochs: 109 | Test Loss: 0.049707621335983276\n",
      "Epoch: 110 | Loss: 0.021366719156503677\n",
      "Epochs: 110 | Test Loss: 0.04929249361157417\n",
      "Model parameters: OrderedDict({'weights': tensor([0.5954]), 'bias': tensor([0.3438])})\n",
      "Epoch: 111 | Loss: 0.021020207554101944\n",
      "Epochs: 111 | Test Loss: 0.04819049686193466\n",
      "Epoch: 112 | Loss: 0.020677709951996803\n",
      "Epochs: 112 | Test Loss: 0.04777535796165466\n",
      "Epoch: 113 | Loss: 0.02033500373363495\n",
      "Epochs: 113 | Test Loss: 0.046673357486724854\n",
      "Epoch: 114 | Loss: 0.01998869702219963\n",
      "Epochs: 114 | Test Loss: 0.04625822976231575\n",
      "Epoch: 115 | Loss: 0.019649803638458252\n",
      "Epochs: 115 | Test Loss: 0.045156221836805344\n",
      "Epoch: 116 | Loss: 0.019300809130072594\n",
      "Epochs: 116 | Test Loss: 0.04405422881245613\n",
      "Epoch: 117 | Loss: 0.018963487818837166\n",
      "Epochs: 117 | Test Loss: 0.04363910108804703\n",
      "Epoch: 118 | Loss: 0.01861560344696045\n",
      "Epochs: 118 | Test Loss: 0.04253707453608513\n",
      "Epoch: 119 | Loss: 0.018274478614330292\n",
      "Epochs: 119 | Test Loss: 0.042121969163417816\n",
      "Epoch: 120 | Loss: 0.017930403351783752\n",
      "Epochs: 120 | Test Loss: 0.04101995751261711\n",
      "Model parameters: OrderedDict({'weights': tensor([0.6126]), 'bias': tensor([0.3368])})\n",
      "Epoch: 121 | Loss: 0.01758546568453312\n",
      "Epochs: 121 | Test Loss: 0.04060482233762741\n",
      "Epoch: 122 | Loss: 0.017245199531316757\n",
      "Epochs: 122 | Test Loss: 0.0395028181374073\n",
      "Epoch: 123 | Loss: 0.016896454617381096\n",
      "Epochs: 123 | Test Loss: 0.0390876941382885\n",
      "Epoch: 124 | Loss: 0.01656000316143036\n",
      "Epochs: 124 | Test Loss: 0.037985701113939285\n",
      "Epoch: 125 | Loss: 0.016210997477173805\n",
      "Epochs: 125 | Test Loss: 0.03688368946313858\n",
      "Epoch: 126 | Loss: 0.01587124727666378\n",
      "Epochs: 126 | Test Loss: 0.036468543112277985\n",
      "Epoch: 127 | Loss: 0.015525798313319683\n",
      "Epochs: 127 | Test Loss: 0.035366542637348175\n",
      "Epoch: 128 | Loss: 0.015182236209511757\n",
      "Epochs: 128 | Test Loss: 0.034951429814100266\n",
      "Epoch: 129 | Loss: 0.014840595424175262\n",
      "Epochs: 129 | Test Loss: 0.03384942561388016\n",
      "Epoch: 130 | Loss: 0.01449323259294033\n",
      "Epochs: 130 | Test Loss: 0.03343429043889046\n",
      "Model parameters: OrderedDict({'weights': tensor([0.6295]), 'bias': tensor([0.3293])})\n",
      "Epoch: 131 | Loss: 0.014155393466353416\n",
      "Epochs: 131 | Test Loss: 0.03233227878808975\n",
      "Epoch: 132 | Loss: 0.013806397095322609\n",
      "Epochs: 132 | Test Loss: 0.031230276450514793\n",
      "Epoch: 133 | Loss: 0.013468016870319843\n",
      "Epochs: 133 | Test Loss: 0.030815154314041138\n",
      "Epoch: 134 | Loss: 0.013121193274855614\n",
      "Epochs: 134 | Test Loss: 0.02971314825117588\n",
      "Epoch: 135 | Loss: 0.01277900766581297\n",
      "Epochs: 135 | Test Loss: 0.02929801307618618\n",
      "Epoch: 136 | Loss: 0.012435992248356342\n",
      "Epochs: 136 | Test Loss: 0.028196018189191818\n",
      "Epoch: 137 | Loss: 0.01208999752998352\n",
      "Epochs: 137 | Test Loss: 0.027780896052718163\n",
      "Epoch: 138 | Loss: 0.011750795878469944\n",
      "Epochs: 138 | Test Loss: 0.026678884401917458\n",
      "Epoch: 139 | Loss: 0.011401787400245667\n",
      "Epochs: 139 | Test Loss: 0.025576870888471603\n",
      "Epoch: 140 | Loss: 0.011064787395298481\n",
      "Epochs: 140 | Test Loss: 0.025161748751997948\n",
      "Model parameters: OrderedDict({'weights': tensor([0.6467]), 'bias': tensor([0.3223])})\n",
      "Epoch: 141 | Loss: 0.010716589167714119\n",
      "Epochs: 141 | Test Loss: 0.024059748277068138\n",
      "Epoch: 142 | Loss: 0.010375778190791607\n",
      "Epochs: 142 | Test Loss: 0.023644620552659035\n",
      "Epoch: 143 | Loss: 0.010031387209892273\n",
      "Epochs: 143 | Test Loss: 0.022542614489793777\n",
      "Epoch: 144 | Loss: 0.009686763398349285\n",
      "Epochs: 144 | Test Loss: 0.022127490490674973\n",
      "Epoch: 145 | Loss: 0.009346187114715576\n",
      "Epochs: 145 | Test Loss: 0.021025484427809715\n",
      "Epoch: 146 | Loss: 0.008997755125164986\n",
      "Epochs: 146 | Test Loss: 0.020610356703400612\n",
      "Epoch: 147 | Loss: 0.008660981431603432\n",
      "Epochs: 147 | Test Loss: 0.019508343189954758\n",
      "Epoch: 148 | Loss: 0.008311985060572624\n",
      "Epochs: 148 | Test Loss: 0.018406350165605545\n",
      "Epoch: 149 | Loss: 0.007972544990479946\n",
      "Epochs: 149 | Test Loss: 0.017991220578551292\n",
      "Epoch: 150 | Loss: 0.007626785431057215\n",
      "Epochs: 150 | Test Loss: 0.016889220103621483\n",
      "Model parameters: OrderedDict({'weights': tensor([0.6638]), 'bias': tensor([0.3153])})\n",
      "Epoch: 151 | Loss: 0.0072835334576666355\n",
      "Epochs: 151 | Test Loss: 0.016474086791276932\n",
      "Epoch: 152 | Loss: 0.006941580679267645\n",
      "Epochs: 152 | Test Loss: 0.0153720797970891\n",
      "Epoch: 153 | Loss: 0.006594526115804911\n",
      "Epochs: 153 | Test Loss: 0.01495695672929287\n",
      "Epoch: 154 | Loss: 0.006256377790123224\n",
      "Epochs: 154 | Test Loss: 0.013854950666427612\n",
      "Epoch: 155 | Loss: 0.005907376762479544\n",
      "Epochs: 155 | Test Loss: 0.012752944603562355\n",
      "Epoch: 156 | Loss: 0.005569315515458584\n",
      "Epochs: 156 | Test Loss: 0.012337815947830677\n",
      "Epoch: 157 | Loss: 0.005222178064286709\n",
      "Epochs: 157 | Test Loss: 0.011235815472900867\n",
      "Epoch: 158 | Loss: 0.004880306776612997\n",
      "Epochs: 158 | Test Loss: 0.010820692405104637\n",
      "Epoch: 159 | Loss: 0.004536976106464863\n",
      "Epochs: 159 | Test Loss: 0.009718680754303932\n",
      "Epoch: 160 | Loss: 0.00419129803776741\n",
      "Epochs: 160 | Test Loss: 0.009303552098572254\n",
      "Model parameters: OrderedDict({'weights': tensor([0.6808]), 'bias': tensor([0.3078])})\n",
      "Epoch: 161 | Loss: 0.0038517764769494534\n",
      "Epochs: 161 | Test Loss: 0.008201557211577892\n",
      "Epoch: 162 | Loss: 0.0035027749836444855\n",
      "Epochs: 162 | Test Loss: 0.007099539041519165\n",
      "Epoch: 163 | Loss: 0.0031660839449614286\n",
      "Epochs: 163 | Test Loss: 0.006684416439384222\n",
      "Epoch: 164 | Loss: 0.002817571861669421\n",
      "Epochs: 164 | Test Loss: 0.0055824099108576775\n",
      "Epoch: 165 | Loss: 0.0024770735763013363\n",
      "Epochs: 165 | Test Loss: 0.005167287774384022\n",
      "Epoch: 166 | Loss: 0.0021323717664927244\n",
      "Epochs: 166 | Test Loss: 0.004065275192260742\n",
      "Epoch: 167 | Loss: 0.0017880648374557495\n",
      "Epochs: 167 | Test Loss: 0.003650152590125799\n",
      "Epoch: 168 | Loss: 0.0014518328243866563\n",
      "Epochs: 168 | Test Loss: 0.0018701612716540694\n",
      "Epoch: 169 | Loss: 0.0011887758737429976\n",
      "Epochs: 169 | Test Loss: 0.005023092031478882\n",
      "Epoch: 170 | Loss: 0.0025885067880153656\n",
      "Epochs: 170 | Test Loss: 0.008447891101241112\n",
      "Model parameters: OrderedDict({'weights': tensor([0.6990]), 'bias': tensor([0.3093])})\n"
     ]
    },
    {
     "data": {
      "image/png": "[encoded data removed]",
      "text/plain": [
       "<Figure size 1000x700 with 1 Axes>"
      ]
     },
     "metadata": {},
     "output_type": "display_data"
    },
    {
     "data": {
      "image/png": "[encoded data removed]",
      "text/plain": [
       "<Figure size 1000x700 with 1 Axes>"
      ]
     },
     "metadata": {},
     "output_type": "display_data"
    }
   ],
   "source": [
    "torch.manual_seed(42) #set the random seed for reproducibility\n",
    "epochs=170\n",
    "\n",
    "#tracking different values\n",
    "epoch_count=[]\n",
    "loss_values=[]\n",
    "test_loss_values=[]\n",
    "\n",
    "for epoch in range(epochs):\n",
    "    model_0.train() #train the model\n",
    "    y_pred=model_0(X_train) #make predictions on the training data\n",
    "    loss=loss_fn(y_pred,Y_train) #calculate the loss\n",
    "    print(f\"Epoch: {epoch+1} | Loss: {loss.item()}\") #print the loss\n",
    "    #print the model parameters\n",
    "    optimizer.zero_grad() #zero the gradients\n",
    "    loss.backward() #backpropagation\n",
    "    optimizer.step() #update the weights\n",
    "    model_0.eval() #set the model to evaluation mode \n",
    "    \n",
    "\n",
    "    ##Testing code\n",
    "    with torch.inference_mode():# inference mode is used for making predictions without tracking gradients\n",
    "        y_preds=model_0(X_test)\n",
    "        test_loss=loss_fn(y_preds,Y_test)\n",
    "        print(f'Epochs: {epoch+1} | Test Loss: {test_loss.item()}') #print the test loss\n",
    "        if epoch % 10 == 9:\n",
    "            epoch_count.append(epoch+1)\n",
    "            loss_values.append(loss.item())\n",
    "            test_loss_values.append(test_loss.item())\n",
    "            print(f\"Model parameters: {model_0.state_dict()}\") #print the model parameters\n",
    "plot_pred(train_data=X_train, train_labels=Y_train, test_data=X_test, test_labels=Y_test, predictions=y_pred.detach().numpy() ) #plot the predictions\n",
    "plot_pred(predictions=y_preds)"
   ]
  },
  {
   "cell_type": "code",
   "execution_count": 67,
   "id": "aede8fc3",
   "metadata": {},
   "outputs": [
    {
     "data": {
      "text/plain": [
       "(0.7, 0.3)"
      ]
     },
     "execution_count": 67,
     "metadata": {},
     "output_type": "execute_result"
    }
   ],
   "source": [
    "weight, bias"
   ]
  },
  {
   "cell_type": "code",
   "execution_count": 68,
   "id": "c6e89200",
   "metadata": {},
   "outputs": [
    {
     "data": {
      "text/plain": [
       "<matplotlib.legend.Legend at 0x1f049c5f610>"
      ]
     },
     "execution_count": 68,
     "metadata": {},
     "output_type": "execute_result"
    },
    {
     "data": {
      "image/png": "[encoded data removed]",
      "text/plain": [
       "<Figure size 640x480 with 1 Axes>"
      ]
     },
     "metadata": {},
     "output_type": "display_data"
    }
   ],
   "source": [
    "plt.plot(epoch_count,loss_values, label='Train Loss')\n",
    "plt.plot(epoch_count,test_loss_values, label='Test Loss')\n",
    "plt.title('Loss vs Epochs')\n",
    "plt.ylabel('Loss')\n",
    "plt.xlabel('Epochs')\n",
    "plt.legend()"
   ]
  },
  {
   "cell_type": "code",
   "execution_count": null,
   "id": "d30f32ab",
   "metadata": {},
   "outputs": [],
   "source": []
  },
  {
   "cell_type": "code",
   "execution_count": null,
   "id": "9c40d964",
   "metadata": {},
   "outputs": [],
   "source": []
  }
 ],
 "metadata": {
  "kernelspec": {
   "display_name": "myenv",
   "language": "python",
   "name": "python3"
  },
  "language_info": {
   "codemirror_mode": {
    "name": "ipython",
    "version": 3
   },
   "file_extension": ".py",
   "mimetype": "text/x-python",
   "name": "python",
   "nbconvert_exporter": "python",
   "pygments_lexer": "ipython3",
   "version": "3.13.5"
  }
 },
 "nbformat": 4,
 "nbformat_minor": 5
}
