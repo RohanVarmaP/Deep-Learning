{
 "cells": [
  {
   "cell_type": "markdown",
   "id": "b33d3e6e",
   "metadata": {},
   "source": [
    "# Introduction to Pytorch Workflow\n"
   ]
  },
  {
   "cell_type": "code",
   "execution_count": 11,
   "id": "8b2ded2b",
   "metadata": {},
   "outputs": [
    {
     "name": "stdout",
     "output_type": "stream",
     "text": [
      "2.7.1+cu118\n"
     ]
    }
   ],
   "source": [
    "import torch\n",
    "import pandas as pd\n",
    "import numpy as np\n",
    "import matplotlib.pyplot as plt\n",
    "import seaborn as sn\n",
    "from torch import nn  #neural networks\n",
    "print(torch.__version__)"
   ]
  },
  {
   "cell_type": "code",
   "execution_count": 12,
   "id": "b22a939a",
   "metadata": {},
   "outputs": [],
   "source": [
    "what_were_covering={\n",
    "    1:'data preparations and loading', \n",
    "    2:'building a model', \n",
    "    3:'fitting a model', \n",
    "    4:'making predictions and evaluating a model', \n",
    "    5:'saving and loading a model', \n",
    "    6:'putting a model on GPU'\n",
    "    }"
   ]
  },
  {
   "cell_type": "markdown",
   "id": "ab5276b4",
   "metadata": {},
   "source": [
    "## 1. Data Preparations and Loading"
   ]
  },
  {
   "cell_type": "code",
   "execution_count": 13,
   "id": "d89993cd",
   "metadata": {},
   "outputs": [
    {
     "name": "stdout",
     "output_type": "stream",
     "text": [
      "tensor([[0.0000],\n",
      "        [0.0200],\n",
      "        [0.0400],\n",
      "        [0.0600],\n",
      "        [0.0800],\n",
      "        [0.1000],\n",
      "        [0.1200],\n",
      "        [0.1400],\n",
      "        [0.1600],\n",
      "        [0.1800]]) tensor([[0.3000],\n",
      "        [0.3140],\n",
      "        [0.3280],\n",
      "        [0.3420],\n",
      "        [0.3560],\n",
      "        [0.3700],\n",
      "        [0.3840],\n",
      "        [0.3980],\n",
      "        [0.4120],\n",
      "        [0.4260]]) 50 50\n"
     ]
    }
   ],
   "source": [
    "# creatig Known parameters\n",
    "weight=0.7\n",
    "bias=0.3\n",
    "\n",
    "#create\n",
    "start=0\n",
    "end=1\n",
    "step=0.02\n",
    "X=torch.arange(start,end,step).unsqueeze(dim=1) #unsqueeze to add a dimension\n",
    "Y=weight*X+bias\n",
    "print(X[:10],Y[:10],len(X),len(Y))"
   ]
  },
  {
   "cell_type": "markdown",
   "id": "2280c768",
   "metadata": {},
   "source": [
    "### Spliting the dataset to train and test datasets"
   ]
  },
  {
   "cell_type": "code",
   "execution_count": 14,
   "id": "a16d0126",
   "metadata": {},
   "outputs": [],
   "source": [
    "#create train and test split\n",
    "train_split=int(0.8*len(X))\n",
    "X_train, Y_train=X[:train_split], Y[:train_split]\n",
    "X_test, Y_test=X[train_split:], Y[train_split:]"
   ]
  },
  {
   "cell_type": "code",
   "execution_count": null,
   "id": "b0e92fd5",
   "metadata": {},
   "outputs": [],
   "source": []
  }
 ],
 "metadata": {
  "kernelspec": {
   "display_name": "myenv",
   "language": "python",
   "name": "python3"
  },
  "language_info": {
   "codemirror_mode": {
    "name": "ipython",
    "version": 3
   },
   "file_extension": ".py",
   "mimetype": "text/x-python",
   "name": "python",
   "nbconvert_exporter": "python",
   "pygments_lexer": "ipython3",
   "version": "3.13.5"
  }
 },
 "nbformat": 4,
 "nbformat_minor": 5
}
