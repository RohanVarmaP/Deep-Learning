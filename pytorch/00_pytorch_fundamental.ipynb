{
 "cells": [
  {
   "cell_type": "code",
   "execution_count": 1,
   "id": "d843d47f",
   "metadata": {},
   "outputs": [
    {
     "name": "stdout",
     "output_type": "stream",
     "text": [
      "2.7.1+cu118\n"
     ]
    }
   ],
   "source": [
    "import torch\n",
    "import pandas as pd\n",
    "import numpy as np\n",
    "import matplotlib.pyplot as plt\n",
    "import seaborn as sn\n",
    "print(torch.__version__)"
   ]
  },
  {
   "cell_type": "markdown",
   "id": "b95b319f",
   "metadata": {},
   "source": [
    "## Intoduction to Tensors"
   ]
  },
  {
   "cell_type": "markdown",
   "id": "6c953f75",
   "metadata": {},
   "source": [
    "### Creating tensors"
   ]
  },
  {
   "cell_type": "code",
   "execution_count": 2,
   "id": "799ac83a",
   "metadata": {},
   "outputs": [
    {
     "data": {
      "text/plain": [
       "tensor(7)"
      ]
     },
     "execution_count": 2,
     "metadata": {},
     "output_type": "execute_result"
    }
   ],
   "source": [
    "#scalar\n",
    "scalar=torch.tensor(7)\n",
    "scalar"
   ]
  },
  {
   "cell_type": "code",
   "execution_count": 3,
   "id": "c20234b3",
   "metadata": {},
   "outputs": [
    {
     "data": {
      "text/plain": [
       "tensor(7)"
      ]
     },
     "execution_count": 3,
     "metadata": {},
     "output_type": "execute_result"
    }
   ],
   "source": [
    "#scalar\n",
    "scalar=torch.tensor(7)\n",
    "scalar"
   ]
  },
  {
   "cell_type": "code",
   "execution_count": 4,
   "id": "699e4aaf",
   "metadata": {},
   "outputs": [
    {
     "data": {
      "text/plain": [
       "0"
      ]
     },
     "execution_count": 4,
     "metadata": {},
     "output_type": "execute_result"
    }
   ],
   "source": [
    "scalar.ndim\n"
   ]
  },
  {
   "cell_type": "code",
   "execution_count": 5,
   "id": "9044a72e",
   "metadata": {},
   "outputs": [
    {
     "data": {
      "text/plain": [
       "7"
      ]
     },
     "execution_count": 5,
     "metadata": {},
     "output_type": "execute_result"
    }
   ],
   "source": [
    "#get tensor back as python int\n",
    "scalar.item()"
   ]
  },
  {
   "cell_type": "code",
   "execution_count": 6,
   "id": "61ee28b4",
   "metadata": {},
   "outputs": [
    {
     "data": {
      "text/plain": [
       "tensor([ 7, 11])"
      ]
     },
     "execution_count": 6,
     "metadata": {},
     "output_type": "execute_result"
    }
   ],
   "source": [
    "#vector\n",
    "vector=torch.tensor((7,11))\n",
    "vector"
   ]
  },
  {
   "cell_type": "code",
   "execution_count": 7,
   "id": "ef67a4ff",
   "metadata": {},
   "outputs": [
    {
     "data": {
      "text/plain": [
       "1"
      ]
     },
     "execution_count": 7,
     "metadata": {},
     "output_type": "execute_result"
    }
   ],
   "source": [
    "vector.ndim\n"
   ]
  },
  {
   "cell_type": "code",
   "execution_count": 8,
   "id": "9f460299",
   "metadata": {},
   "outputs": [
    {
     "data": {
      "text/plain": [
       "torch.Size([2])"
      ]
     },
     "execution_count": 8,
     "metadata": {},
     "output_type": "execute_result"
    }
   ],
   "source": [
    "vector.shape\n"
   ]
  },
  {
   "cell_type": "code",
   "execution_count": 9,
   "id": "c624c5fe",
   "metadata": {},
   "outputs": [
    {
     "data": {
      "text/plain": [
       "tensor([[ 7,  8],\n",
       "        [ 9, 10]])"
      ]
     },
     "execution_count": 9,
     "metadata": {},
     "output_type": "execute_result"
    }
   ],
   "source": [
    "#matrix\n",
    "MATRIX=torch.tensor([[7,8],[9,10]])\n",
    "MATRIX"
   ]
  },
  {
   "cell_type": "code",
   "execution_count": 10,
   "id": "9f405ef0",
   "metadata": {},
   "outputs": [
    {
     "data": {
      "text/plain": [
       "2"
      ]
     },
     "execution_count": 10,
     "metadata": {},
     "output_type": "execute_result"
    }
   ],
   "source": [
    "MATRIX.ndim\n"
   ]
  },
  {
   "cell_type": "code",
   "execution_count": 11,
   "id": "c807f6d6",
   "metadata": {},
   "outputs": [
    {
     "data": {
      "text/plain": [
       "torch.Size([2, 2])"
      ]
     },
     "execution_count": 11,
     "metadata": {},
     "output_type": "execute_result"
    }
   ],
   "source": [
    "MATRIX.shape\n"
   ]
  },
  {
   "cell_type": "code",
   "execution_count": 12,
   "id": "fbb7940d",
   "metadata": {},
   "outputs": [
    {
     "data": {
      "text/plain": [
       "tensor([[[ 1,  2,  3],\n",
       "         [ 4,  5,  6],\n",
       "         [ 7,  8,  9]],\n",
       "\n",
       "        [[11, 12, 13],\n",
       "         [14, 15, 16],\n",
       "         [17, 18, 19]]])"
      ]
     },
     "execution_count": 12,
     "metadata": {},
     "output_type": "execute_result"
    }
   ],
   "source": [
    "TENSOR=torch.tensor([[[1,2,3],[4,5,6],[7,8,9]],[[11,12,13],[14,15,16],[17,18,19]]])\n",
    "TENSOR"
   ]
  },
  {
   "cell_type": "code",
   "execution_count": 13,
   "id": "506e8ffb",
   "metadata": {},
   "outputs": [
    {
     "data": {
      "text/plain": [
       "3"
      ]
     },
     "execution_count": 13,
     "metadata": {},
     "output_type": "execute_result"
    }
   ],
   "source": [
    "TENSOR.ndim"
   ]
  },
  {
   "cell_type": "code",
   "execution_count": 14,
   "id": "4df4f4ca",
   "metadata": {},
   "outputs": [
    {
     "data": {
      "text/plain": [
       "torch.Size([2, 3, 3])"
      ]
     },
     "execution_count": 14,
     "metadata": {},
     "output_type": "execute_result"
    }
   ],
   "source": [
    "TENSOR.shape"
   ]
  },
  {
   "cell_type": "code",
   "execution_count": 15,
   "id": "6d4e1a99",
   "metadata": {},
   "outputs": [
    {
     "data": {
      "text/plain": [
       "tensor([[1, 2, 3],\n",
       "        [4, 5, 6],\n",
       "        [7, 8, 9]])"
      ]
     },
     "execution_count": 15,
     "metadata": {},
     "output_type": "execute_result"
    }
   ],
   "source": [
    "TENSOR[0]"
   ]
  },
  {
   "cell_type": "code",
   "execution_count": 16,
   "id": "e4ccba45",
   "metadata": {},
   "outputs": [
    {
     "data": {
      "text/plain": [
       "tensor([1, 2, 3])"
      ]
     },
     "execution_count": 16,
     "metadata": {},
     "output_type": "execute_result"
    }
   ],
   "source": [
    "TENSOR[0][0]"
   ]
  },
  {
   "cell_type": "code",
   "execution_count": 17,
   "id": "c14831df",
   "metadata": {},
   "outputs": [
    {
     "data": {
      "text/plain": [
       "tensor(1)"
      ]
     },
     "execution_count": 17,
     "metadata": {},
     "output_type": "execute_result"
    }
   ],
   "source": [
    "TENSOR[0][0][0]"
   ]
  },
  {
   "cell_type": "markdown",
   "id": "15ef419d",
   "metadata": {},
   "source": [
    "### Random Tensors"
   ]
  },
  {
   "cell_type": "code",
   "execution_count": 18,
   "id": "dc706407",
   "metadata": {},
   "outputs": [
    {
     "data": {
      "text/plain": [
       "tensor([[[0.2458, 0.9740, 0.3673],\n",
       "         [0.8701, 0.8538, 0.0950],\n",
       "         [0.1347, 0.7540, 0.5904]],\n",
       "\n",
       "        [[0.6455, 0.1245, 0.3753],\n",
       "         [0.2759, 0.0946, 0.5029],\n",
       "         [0.6793, 0.1251, 0.1445]]])"
      ]
     },
     "execution_count": 18,
     "metadata": {},
     "output_type": "execute_result"
    }
   ],
   "source": [
    "#creating a random tensors\n",
    "random_tensor=torch.rand(2,3,3)\n",
    "random_tensor"
   ]
  },
  {
   "cell_type": "code",
   "execution_count": 19,
   "id": "efde6b37",
   "metadata": {},
   "outputs": [
    {
     "data": {
      "text/plain": [
       "3"
      ]
     },
     "execution_count": 19,
     "metadata": {},
     "output_type": "execute_result"
    }
   ],
   "source": [
    "random_tensor.ndim"
   ]
  },
  {
   "cell_type": "code",
   "execution_count": 20,
   "id": "3dffc7af",
   "metadata": {},
   "outputs": [
    {
     "data": {
      "text/plain": [
       "tensor([[[2.2182e-02, 4.7994e-01, 6.1517e-01,  ..., 7.3696e-01,\n",
       "          4.4275e-01, 8.6558e-01],\n",
       "         [1.9112e-01, 3.0663e-01, 8.8582e-01,  ..., 1.0634e-01,\n",
       "          5.4454e-01, 2.5833e-04],\n",
       "         [5.1236e-02, 3.8981e-01, 3.0964e-01,  ..., 1.9573e-01,\n",
       "          9.4630e-03, 6.5145e-01],\n",
       "         ...,\n",
       "         [8.2163e-01, 6.5383e-01, 3.7323e-01,  ..., 8.2573e-01,\n",
       "          4.2576e-01, 3.5252e-01],\n",
       "         [9.8836e-03, 5.2862e-01, 2.7760e-01,  ..., 6.2975e-01,\n",
       "          2.1988e-01, 4.2437e-01],\n",
       "         [2.1694e-01, 4.8338e-01, 7.3325e-01,  ..., 8.7270e-02,\n",
       "          3.5674e-01, 8.1385e-01]],\n",
       "\n",
       "        [[6.5467e-01, 4.2154e-01, 4.4013e-01,  ..., 6.5495e-01,\n",
       "          5.4832e-01, 7.9087e-01],\n",
       "         [4.1985e-01, 5.5701e-04, 6.2096e-01,  ..., 1.3518e-01,\n",
       "          9.4520e-01, 6.8901e-01],\n",
       "         [4.6868e-01, 5.7688e-01, 6.1190e-01,  ..., 8.3030e-01,\n",
       "          1.7856e-01, 1.8575e-01],\n",
       "         ...,\n",
       "         [2.2490e-01, 6.8446e-01, 1.8197e-01,  ..., 9.5298e-01,\n",
       "          6.0440e-01, 5.2276e-01],\n",
       "         [2.5611e-02, 3.0039e-01, 9.9488e-01,  ..., 3.1486e-01,\n",
       "          8.0370e-01, 9.3305e-01],\n",
       "         [1.1937e-01, 1.8951e-01, 2.9253e-01,  ..., 6.4081e-01,\n",
       "          2.0981e-02, 2.7212e-01]],\n",
       "\n",
       "        [[6.3561e-01, 3.4741e-01, 6.4738e-02,  ..., 7.8338e-02,\n",
       "          4.0022e-02, 7.7282e-01],\n",
       "         [2.9106e-01, 4.9166e-01, 4.8292e-01,  ..., 2.3724e-01,\n",
       "          2.8998e-01, 2.3412e-01],\n",
       "         [1.5854e-03, 6.5540e-01, 7.0662e-01,  ..., 6.2407e-01,\n",
       "          8.1291e-01, 9.9897e-01],\n",
       "         ...,\n",
       "         [3.7281e-01, 4.3915e-01, 2.1062e-01,  ..., 6.6747e-01,\n",
       "          6.2702e-01, 5.3763e-01],\n",
       "         [3.6168e-01, 5.8218e-01, 2.1830e-01,  ..., 1.7325e-01,\n",
       "          2.1275e-01, 2.1525e-01],\n",
       "         [7.6721e-01, 1.7154e-01, 7.4700e-01,  ..., 5.6057e-02,\n",
       "          1.6495e-01, 8.7282e-01]]])"
      ]
     },
     "execution_count": 20,
     "metadata": {},
     "output_type": "execute_result"
    }
   ],
   "source": [
    "#creating a random tensor with similar shape to a image tensor\n",
    "random_image_tensor=torch.rand(size=(3,244,224))#colour channel, height and width \n",
    "random_image_tensor"
   ]
  },
  {
   "cell_type": "code",
   "execution_count": 21,
   "id": "b0e970c6",
   "metadata": {},
   "outputs": [
    {
     "data": {
      "text/plain": [
       "(torch.Size([3, 244, 224]), 3)"
      ]
     },
     "execution_count": 21,
     "metadata": {},
     "output_type": "execute_result"
    }
   ],
   "source": [
    "random_image_tensor.shape, random_image_tensor.ndim"
   ]
  },
  {
   "cell_type": "markdown",
   "id": "2549832f",
   "metadata": {},
   "source": [
    "### Zeros and Ones"
   ]
  },
  {
   "cell_type": "code",
   "execution_count": 22,
   "id": "5044c108",
   "metadata": {},
   "outputs": [
    {
     "data": {
      "text/plain": [
       "tensor([[0., 0., 0.],\n",
       "        [0., 0., 0.],\n",
       "        [0., 0., 0.]])"
      ]
     },
     "execution_count": 22,
     "metadata": {},
     "output_type": "execute_result"
    }
   ],
   "source": [
    "#creating all zeros\n",
    "zeros=torch.zeros(size=(3,3))\n",
    "zeros"
   ]
  },
  {
   "cell_type": "code",
   "execution_count": 23,
   "id": "7ecfa2e1",
   "metadata": {},
   "outputs": [
    {
     "data": {
      "text/plain": [
       "tensor([[[0., 0., 0.],\n",
       "         [0., 0., 0.],\n",
       "         [0., 0., 0.]],\n",
       "\n",
       "        [[0., 0., 0.],\n",
       "         [0., 0., 0.],\n",
       "         [0., 0., 0.]]])"
      ]
     },
     "execution_count": 23,
     "metadata": {},
     "output_type": "execute_result"
    }
   ],
   "source": [
    "zeros*random_tensor"
   ]
  },
  {
   "cell_type": "code",
   "execution_count": 24,
   "id": "9615e611",
   "metadata": {},
   "outputs": [
    {
     "data": {
      "text/plain": [
       "tensor([[1., 1., 1.],\n",
       "        [1., 1., 1.],\n",
       "        [1., 1., 1.]])"
      ]
     },
     "execution_count": 24,
     "metadata": {},
     "output_type": "execute_result"
    }
   ],
   "source": [
    "#creating all ones\n",
    "ones=torch.ones(size=(3,3))\n",
    "ones"
   ]
  },
  {
   "cell_type": "code",
   "execution_count": 25,
   "id": "1f67de7e",
   "metadata": {},
   "outputs": [
    {
     "data": {
      "text/plain": [
       "torch.float32"
      ]
     },
     "execution_count": 25,
     "metadata": {},
     "output_type": "execute_result"
    }
   ],
   "source": [
    "ones.dtype"
   ]
  },
  {
   "cell_type": "markdown",
   "id": "051e39e0",
   "metadata": {},
   "source": [
    "### Creating tensors with a range"
   ]
  },
  {
   "cell_type": "code",
   "execution_count": 26,
   "id": "4cdc22f4",
   "metadata": {},
   "outputs": [
    {
     "data": {
      "text/plain": [
       "tensor([ 0,  9, 18, 27, 36, 45, 54, 63, 72, 81, 90, 99])"
      ]
     },
     "execution_count": 26,
     "metadata": {},
     "output_type": "execute_result"
    }
   ],
   "source": [
    "one_to_hundred=torch.arange(start=0,end=100,step=9)\n",
    "one_to_hundred"
   ]
  },
  {
   "cell_type": "code",
   "execution_count": 27,
   "id": "7117111d",
   "metadata": {},
   "outputs": [
    {
     "data": {
      "text/plain": [
       "tensor([0, 0, 0, 0, 0, 0, 0, 0, 0, 0, 0, 0])"
      ]
     },
     "execution_count": 27,
     "metadata": {},
     "output_type": "execute_result"
    }
   ],
   "source": [
    "#creating a tensor like\n",
    "hundred_zeros=torch.zeros_like(input=one_to_hundred)\n",
    "hundred_zeros"
   ]
  },
  {
   "cell_type": "markdown",
   "id": "0be26942",
   "metadata": {},
   "source": [
    "### Tensor datatypes"
   ]
  },
  {
   "cell_type": "code",
   "execution_count": 28,
   "id": "7dbef23e",
   "metadata": {},
   "outputs": [
    {
     "data": {
      "text/plain": [
       "(tensor([3., 6., 9.]), torch.float32)"
      ]
     },
     "execution_count": 28,
     "metadata": {},
     "output_type": "execute_result"
    }
   ],
   "source": [
    "#lfoat 32\n",
    "float_32_tensor=torch.tensor([3.0,6.0,9.0], \n",
    "                             dtype=None, # specify dtype of tensor, if None, it will be inferred from data\n",
    "                             device=None, # specify device of tensor, if None, it will be inferred from data\n",
    "                             requires_grad=False # specify if tensor requires gradient, default is False\n",
    "                             )\n",
    "float_32_tensor, float_32_tensor.dtype\n"
   ]
  },
  {
   "cell_type": "code",
   "execution_count": 29,
   "id": "fb55d5f5",
   "metadata": {},
   "outputs": [
    {
     "data": {
      "text/plain": [
       "(tensor([3., 6., 9.], dtype=torch.float16), torch.float16)"
      ]
     },
     "execution_count": 29,
     "metadata": {},
     "output_type": "execute_result"
    }
   ],
   "source": [
    "floar_16_tensor=float_32_tensor.type(torch.float16)\n",
    "floar_16_tensor, floar_16_tensor.dtype\n"
   ]
  },
  {
   "cell_type": "code",
   "execution_count": 30,
   "id": "84585f21",
   "metadata": {},
   "outputs": [
    {
     "data": {
      "text/plain": [
       "(tensor([ 9., 36., 81.]), torch.float32)"
      ]
     },
     "execution_count": 30,
     "metadata": {},
     "output_type": "execute_result"
    }
   ],
   "source": [
    "float_32_tensor*floar_16_tensor,(float_32_tensor*floar_16_tensor).dtype"
   ]
  },
  {
   "cell_type": "code",
   "execution_count": 31,
   "id": "5bad1421",
   "metadata": {},
   "outputs": [
    {
     "data": {
      "text/plain": [
       "(tensor([3, 6, 9], dtype=torch.int32), torch.int32)"
      ]
     },
     "execution_count": 31,
     "metadata": {},
     "output_type": "execute_result"
    }
   ],
   "source": [
    "int_32_tensor=torch.tensor([3,6,9], dtype=torch.int32)\n",
    "int_32_tensor, int_32_tensor.dtype"
   ]
  },
  {
   "cell_type": "code",
   "execution_count": 32,
   "id": "5025e9a7",
   "metadata": {},
   "outputs": [
    {
     "data": {
      "text/plain": [
       "(tensor([ 9., 36., 81.], dtype=torch.float16), torch.float16)"
      ]
     },
     "execution_count": 32,
     "metadata": {},
     "output_type": "execute_result"
    }
   ],
   "source": [
    "int_32_tensor*floar_16_tensor,(int_32_tensor*floar_16_tensor).dtype"
   ]
  },
  {
   "cell_type": "markdown",
   "id": "a53b93d1",
   "metadata": {},
   "source": [
    "### Getting info from Tensors\n",
    "info like: datatype, shape of tensor and device its present"
   ]
  },
  {
   "cell_type": "code",
   "execution_count": 33,
   "id": "89cf8ca0",
   "metadata": {},
   "outputs": [
    {
     "data": {
      "text/plain": [
       "tensor([[0.8795, 0.9334, 0.1188, 0.1123],\n",
       "        [0.3698, 0.0738, 0.1289, 0.7790],\n",
       "        [0.5869, 0.6834, 0.2289, 0.9778]])"
      ]
     },
     "execution_count": 33,
     "metadata": {},
     "output_type": "execute_result"
    }
   ],
   "source": [
    "#creating a general tensor\n",
    "some_tensor=torch.rand(3,4)\n",
    "some_tensor"
   ]
  },
  {
   "cell_type": "code",
   "execution_count": 34,
   "id": "6b9e4eec",
   "metadata": {},
   "outputs": [
    {
     "name": "stdout",
     "output_type": "stream",
     "text": [
      "Datatype of Tensor:  torch.float32\n",
      "Shape of Tensor:  torch.Size([3, 4])\n",
      "Device of Tensor:  cpu\n"
     ]
    }
   ],
   "source": [
    "print('Datatype of Tensor: ',some_tensor.dtype)\n",
    "print('Shape of Tensor: ',some_tensor.shape)\n",
    "print('Device of Tensor: ',some_tensor.device)"
   ]
  },
  {
   "cell_type": "markdown",
   "id": "1c22dd90",
   "metadata": {},
   "source": [
    "### Manipulating a tensor"
   ]
  },
  {
   "cell_type": "code",
   "execution_count": 35,
   "id": "1893e069",
   "metadata": {},
   "outputs": [
    {
     "data": {
      "text/plain": [
       "tensor([101, 102, 103])"
      ]
     },
     "execution_count": 35,
     "metadata": {},
     "output_type": "execute_result"
    }
   ],
   "source": [
    "#creating a dummy tensor\n",
    "dummy_tensor=torch.tensor([1,2,3])\n",
    "dummy_tensor+100"
   ]
  },
  {
   "cell_type": "code",
   "execution_count": 36,
   "id": "127d04bf",
   "metadata": {},
   "outputs": [
    {
     "data": {
      "text/plain": [
       "tensor([100, 200, 300])"
      ]
     },
     "execution_count": 36,
     "metadata": {},
     "output_type": "execute_result"
    }
   ],
   "source": [
    "dummy_tensor*100"
   ]
  },
  {
   "cell_type": "code",
   "execution_count": 37,
   "id": "fce0ca91",
   "metadata": {},
   "outputs": [
    {
     "data": {
      "text/plain": [
       "tensor([-99, -98, -97])"
      ]
     },
     "execution_count": 37,
     "metadata": {},
     "output_type": "execute_result"
    }
   ],
   "source": [
    "dummy_tensor-100"
   ]
  },
  {
   "cell_type": "code",
   "execution_count": 38,
   "id": "a93b966e",
   "metadata": {},
   "outputs": [
    {
     "data": {
      "text/plain": [
       "tensor([10, 20, 30])"
      ]
     },
     "execution_count": 38,
     "metadata": {},
     "output_type": "execute_result"
    }
   ],
   "source": [
    "torch.mul(dummy_tensor,10)"
   ]
  },
  {
   "cell_type": "code",
   "execution_count": 39,
   "id": "5b2dd279",
   "metadata": {},
   "outputs": [
    {
     "data": {
      "text/plain": [
       "tensor([11, 12, 13])"
      ]
     },
     "execution_count": 39,
     "metadata": {},
     "output_type": "execute_result"
    }
   ],
   "source": [
    "torch.add(dummy_tensor,10)"
   ]
  },
  {
   "cell_type": "markdown",
   "id": "5faa7836",
   "metadata": {},
   "source": [
    "### Matrix mulltiplication"
   ]
  },
  {
   "cell_type": "code",
   "execution_count": 40,
   "id": "3266354b",
   "metadata": {},
   "outputs": [
    {
     "data": {
      "text/plain": [
       "(tensor([1, 2, 3]), tensor([10, 20, 30]))"
      ]
     },
     "execution_count": 40,
     "metadata": {},
     "output_type": "execute_result"
    }
   ],
   "source": [
    "test_tensor=torch.tensor([1,2,3])\n",
    "second_tensor=torch.tensor([10,20,30])\n",
    "test_tensor, second_tensor"
   ]
  },
  {
   "cell_type": "code",
   "execution_count": 41,
   "id": "2c128403",
   "metadata": {},
   "outputs": [
    {
     "name": "stdout",
     "output_type": "stream",
     "text": [
      "CPU times: total: 0 ns\n",
      "Wall time: 196 μs\n"
     ]
    },
    {
     "data": {
      "text/plain": [
       "tensor([10, 40, 90])"
      ]
     },
     "execution_count": 41,
     "metadata": {},
     "output_type": "execute_result"
    }
   ],
   "source": [
    "%%time\n",
    "test_tensor*second_tensor"
   ]
  },
  {
   "cell_type": "code",
   "execution_count": 42,
   "id": "b57bf41b",
   "metadata": {},
   "outputs": [
    {
     "name": "stdout",
     "output_type": "stream",
     "text": [
      "CPU times: total: 0 ns\n",
      "Wall time: 174 μs\n"
     ]
    },
    {
     "data": {
      "text/plain": [
       "tensor(140)"
      ]
     },
     "execution_count": 42,
     "metadata": {},
     "output_type": "execute_result"
    }
   ],
   "source": [
    "%%time\n",
    "torch.matmul(test_tensor,second_tensor)"
   ]
  },
  {
   "cell_type": "code",
   "execution_count": 43,
   "id": "dda13c09",
   "metadata": {},
   "outputs": [
    {
     "data": {
      "text/plain": [
       "140"
      ]
     },
     "execution_count": 43,
     "metadata": {},
     "output_type": "execute_result"
    }
   ],
   "source": [
    "#matrix multiplication by hand\n",
    "1*10+2*20+3*30"
   ]
  },
  {
   "cell_type": "code",
   "execution_count": 44,
   "id": "64c4f899",
   "metadata": {},
   "outputs": [
    {
     "name": "stdout",
     "output_type": "stream",
     "text": [
      "tensor(140)\n",
      "CPU times: total: 0 ns\n",
      "Wall time: 1.06 ms\n"
     ]
    }
   ],
   "source": [
    "%%time\n",
    "val=0\n",
    "for i in range(len(test_tensor)):\n",
    "    val+=test_tensor[i]*second_tensor[i]\n",
    "print(val)"
   ]
  },
  {
   "cell_type": "markdown",
   "id": "a80cab39",
   "metadata": {},
   "source": [
    "### Finding min, max, mean ,sum , etc (tensor aggregation)"
   ]
  },
  {
   "cell_type": "code",
   "execution_count": 45,
   "id": "04dc08c8",
   "metadata": {},
   "outputs": [
    {
     "data": {
      "text/plain": [
       "(tensor([ 0, 10, 20, 30, 40, 50, 60, 70, 80, 90]), torch.int64)"
      ]
     },
     "execution_count": 45,
     "metadata": {},
     "output_type": "execute_result"
    }
   ],
   "source": [
    "x=torch.arange(0,100,10)\n",
    "x,x.dtype"
   ]
  },
  {
   "cell_type": "code",
   "execution_count": 46,
   "id": "84cc3050",
   "metadata": {},
   "outputs": [
    {
     "data": {
      "text/plain": [
       "(tensor(0), tensor(90), tensor(450))"
      ]
     },
     "execution_count": 46,
     "metadata": {},
     "output_type": "execute_result"
    }
   ],
   "source": [
    "torch.min(x),torch.max(x),torch.sum(x)"
   ]
  },
  {
   "cell_type": "code",
   "execution_count": 47,
   "id": "aaac8ffc",
   "metadata": {},
   "outputs": [
    {
     "data": {
      "text/plain": [
       "(tensor(45.), tensor(45.))"
      ]
     },
     "execution_count": 47,
     "metadata": {},
     "output_type": "execute_result"
    }
   ],
   "source": [
    "torch.mean(x.type(torch.float32)),x.type(torch.float32).mean() # mean requires float tensor"
   ]
  },
  {
   "cell_type": "code",
   "execution_count": 48,
   "id": "15fb7df3",
   "metadata": {},
   "outputs": [
    {
     "data": {
      "text/plain": [
       "(tensor(9), tensor(0))"
      ]
     },
     "execution_count": 48,
     "metadata": {},
     "output_type": "execute_result"
    }
   ],
   "source": [
    "#finding positional max and min\n",
    "x.argmax(),x.argmin()"
   ]
  },
  {
   "cell_type": "markdown",
   "id": "507a7742",
   "metadata": {},
   "source": [
    "### Reshaping, Stacking, Sqeezing and Unsqueeezing tensors"
   ]
  },
  {
   "cell_type": "code",
   "execution_count": 49,
   "id": "9c0e45e1",
   "metadata": {},
   "outputs": [
    {
     "data": {
      "text/plain": [
       "(tensor([1., 2., 3., 4., 5., 6., 7., 8., 9.]), torch.float32, torch.Size([9]))"
      ]
     },
     "execution_count": 49,
     "metadata": {},
     "output_type": "execute_result"
    }
   ],
   "source": [
    "x=torch.arange(1.,10.)\n",
    "x,x.dtype,x.shape"
   ]
  },
  {
   "cell_type": "code",
   "execution_count": 50,
   "id": "a709de45",
   "metadata": {},
   "outputs": [
    {
     "data": {
      "text/plain": [
       "(tensor([[[1., 2., 3.],\n",
       "          [4., 5., 6.],\n",
       "          [7., 8., 9.]]]),\n",
       " torch.float32,\n",
       " torch.Size([1, 3, 3]))"
      ]
     },
     "execution_count": 50,
     "metadata": {},
     "output_type": "execute_result"
    }
   ],
   "source": [
    "x_reshaped=x.reshape(1,3,3)\n",
    "x_reshaped,x_reshaped.dtype,x_reshaped.shape"
   ]
  },
  {
   "cell_type": "code",
   "execution_count": 51,
   "id": "ab05ddbc",
   "metadata": {},
   "outputs": [
    {
     "data": {
      "text/plain": [
       "(tensor([[1., 2., 3.],\n",
       "         [4., 5., 6.],\n",
       "         [7., 8., 9.]]),\n",
       " torch.float32,\n",
       " torch.Size([3, 3]))"
      ]
     },
     "execution_count": 51,
     "metadata": {},
     "output_type": "execute_result"
    }
   ],
   "source": [
    "z=x.view(3,3)\n",
    "z,z.dtype,z.shape"
   ]
  },
  {
   "cell_type": "code",
   "execution_count": 52,
   "id": "d669c177",
   "metadata": {},
   "outputs": [
    {
     "name": "stdout",
     "output_type": "stream",
     "text": [
      "original x: tensor([1., 2., 3., 4., 5., 6., 7., 8., 9.]), z: tensor([[1., 2., 3.],\n",
      "        [4., 5., 6.],\n",
      "        [7., 8., 9.]])\n",
      "After changeing z x: tensor([9., 2., 3., 9., 5., 6., 9., 8., 9.]), z: tensor([[9., 2., 3.],\n",
      "        [9., 5., 6.],\n",
      "        [9., 8., 9.]])\n"
     ]
    }
   ],
   "source": [
    "print(f\"original x: {x}, z: {z}\")\n",
    "z[:,0]=9\n",
    "print(f\"After changeing z x: {x}, z: {z}\")"
   ]
  },
  {
   "cell_type": "code",
   "execution_count": 53,
   "id": "7903207b",
   "metadata": {},
   "outputs": [
    {
     "data": {
      "text/plain": [
       "(tensor([[9., 2., 3., 9., 5., 6., 9., 8., 9.],\n",
       "         [9., 2., 3., 9., 5., 6., 9., 8., 9.],\n",
       "         [9., 2., 3., 9., 5., 6., 9., 8., 9.],\n",
       "         [9., 2., 3., 9., 5., 6., 9., 8., 9.]]),\n",
       " torch.float32,\n",
       " torch.Size([4, 9]))"
      ]
     },
     "execution_count": 53,
     "metadata": {},
     "output_type": "execute_result"
    }
   ],
   "source": [
    "x_stacked=torch.stack([x,x,x,x],dim=0)\n",
    "x_stacked,x_stacked.dtype,x_stacked.shape"
   ]
  },
  {
   "cell_type": "code",
   "execution_count": 54,
   "id": "2fed2823",
   "metadata": {},
   "outputs": [
    {
     "name": "stdout",
     "output_type": "stream",
     "text": [
      "tensor([[[9., 2., 3.],\n",
      "         [9., 5., 6.],\n",
      "         [9., 8., 9.]]]) torch.float32 torch.Size([1, 3, 3])\n",
      "tensor([[9., 2., 3.],\n",
      "        [9., 5., 6.],\n",
      "        [9., 8., 9.]]) torch.float32 torch.Size([3, 3])\n"
     ]
    }
   ],
   "source": [
    "print(x_reshaped,x_reshaped.dtype,x_reshaped.shape)\n",
    "x_squeezed=x_reshaped.squeeze()\n",
    "print(x_squeezed,x_squeezed.dtype,x_squeezed.shape)"
   ]
  },
  {
   "cell_type": "code",
   "execution_count": 55,
   "id": "e0855909",
   "metadata": {},
   "outputs": [
    {
     "name": "stdout",
     "output_type": "stream",
     "text": [
      "tensor([[9., 2., 3.],\n",
      "        [9., 5., 6.],\n",
      "        [9., 8., 9.]]) torch.float32 torch.Size([3, 3])\n",
      "tensor([[[9.],\n",
      "         [2.],\n",
      "         [3.]],\n",
      "\n",
      "        [[9.],\n",
      "         [5.],\n",
      "         [6.]],\n",
      "\n",
      "        [[9.],\n",
      "         [8.],\n",
      "         [9.]]]) torch.float32 torch.Size([3, 3, 1])\n"
     ]
    }
   ],
   "source": [
    "print(x_squeezed,x_squeezed.dtype,x_squeezed.shape)\n",
    "x_unsqueezed=x_squeezed.unsqueeze(dim=2)\n",
    "print(x_unsqueezed,x_unsqueezed.dtype,x_unsqueezed.shape)"
   ]
  },
  {
   "cell_type": "markdown",
   "id": "f39f6f8a",
   "metadata": {},
   "source": [
    "## Indexing (Selecting data from tensors)"
   ]
  },
  {
   "cell_type": "code",
   "execution_count": 56,
   "id": "b799370b",
   "metadata": {},
   "outputs": [
    {
     "data": {
      "text/plain": [
       "(tensor([[[1., 2., 3.],\n",
       "          [4., 5., 6.],\n",
       "          [7., 8., 9.]]]),\n",
       " torch.float32,\n",
       " torch.Size([1, 3, 3]))"
      ]
     },
     "execution_count": 56,
     "metadata": {},
     "output_type": "execute_result"
    }
   ],
   "source": [
    "x=torch.arange(1.,10.).reshape(1,3,3)\n",
    "x,x.dtype,x.shape"
   ]
  },
  {
   "cell_type": "code",
   "execution_count": 57,
   "id": "0d705978",
   "metadata": {},
   "outputs": [
    {
     "data": {
      "text/plain": [
       "tensor([[1., 2., 3.],\n",
       "        [4., 5., 6.],\n",
       "        [7., 8., 9.]])"
      ]
     },
     "execution_count": 57,
     "metadata": {},
     "output_type": "execute_result"
    }
   ],
   "source": [
    "x[0]"
   ]
  },
  {
   "cell_type": "code",
   "execution_count": 58,
   "id": "9703f055",
   "metadata": {},
   "outputs": [
    {
     "data": {
      "text/plain": [
       "tensor([1., 2., 3.])"
      ]
     },
     "execution_count": 58,
     "metadata": {},
     "output_type": "execute_result"
    }
   ],
   "source": [
    "x[0][0]"
   ]
  },
  {
   "cell_type": "code",
   "execution_count": 59,
   "id": "8ed3dcc6",
   "metadata": {},
   "outputs": [
    {
     "data": {
      "text/plain": [
       "tensor(1.)"
      ]
     },
     "execution_count": 59,
     "metadata": {},
     "output_type": "execute_result"
    }
   ],
   "source": [
    "x[0][0][0]"
   ]
  },
  {
   "cell_type": "code",
   "execution_count": 60,
   "id": "9a80c48c",
   "metadata": {},
   "outputs": [
    {
     "data": {
      "text/plain": [
       "tensor([[1., 2., 3.]])"
      ]
     },
     "execution_count": 60,
     "metadata": {},
     "output_type": "execute_result"
    }
   ],
   "source": [
    "x[:,0]"
   ]
  },
  {
   "cell_type": "code",
   "execution_count": 61,
   "id": "86a9dbf9",
   "metadata": {},
   "outputs": [
    {
     "data": {
      "text/plain": [
       "tensor([[1., 4., 7.]])"
      ]
     },
     "execution_count": 61,
     "metadata": {},
     "output_type": "execute_result"
    }
   ],
   "source": [
    "x[:,:,0]"
   ]
  },
  {
   "cell_type": "code",
   "execution_count": 62,
   "id": "a8a91312",
   "metadata": {},
   "outputs": [
    {
     "data": {
      "text/plain": [
       "tensor([4., 5., 6.])"
      ]
     },
     "execution_count": 62,
     "metadata": {},
     "output_type": "execute_result"
    }
   ],
   "source": [
    "x[0,1,:]"
   ]
  },
  {
   "cell_type": "markdown",
   "id": "f04c214b",
   "metadata": {},
   "source": [
    "## Reproducbility(trying to kake random out of random)"
   ]
  },
  {
   "cell_type": "code",
   "execution_count": 63,
   "id": "d0de2ce8",
   "metadata": {},
   "outputs": [
    {
     "name": "stdout",
     "output_type": "stream",
     "text": [
      "tensor([[0.4037, 0.5179, 0.7651, 0.0457],\n",
      "        [0.1419, 0.9173, 0.6121, 0.0683],\n",
      "        [0.8537, 0.2565, 0.0490, 0.8255]]) tensor([[0.2647, 0.1367, 0.5300, 0.6446],\n",
      "        [0.2601, 0.3410, 0.2700, 0.4760],\n",
      "        [0.8653, 0.1390, 0.0347, 0.1645]]) tensor([[False, False, False, False],\n",
      "        [False, False, False, False],\n",
      "        [False, False, False, False]])\n"
     ]
    }
   ],
   "source": [
    "import torch\n",
    "\n",
    "rand_tensor_a=torch.rand(3,4)\n",
    "rand_tensor_b=torch.rand(3,4)\n",
    "\n",
    "print(rand_tensor_a, rand_tensor_b,rand_tensor_a==rand_tensor_b)"
   ]
  },
  {
   "cell_type": "code",
   "execution_count": 64,
   "id": "97999c91",
   "metadata": {},
   "outputs": [
    {
     "name": "stdout",
     "output_type": "stream",
     "text": [
      "tensor([[0.8823, 0.9150, 0.3829, 0.9593],\n",
      "        [0.3904, 0.6009, 0.2566, 0.7936],\n",
      "        [0.9408, 0.1332, 0.9346, 0.5936]]) tensor([[0.8823, 0.9150, 0.3829, 0.9593],\n",
      "        [0.3904, 0.6009, 0.2566, 0.7936],\n",
      "        [0.9408, 0.1332, 0.9346, 0.5936]]) tensor([[True, True, True, True],\n",
      "        [True, True, True, True],\n",
      "        [True, True, True, True]])\n"
     ]
    }
   ],
   "source": [
    "import torch\n",
    "\n",
    "RANDOM_SEED=42\n",
    "\n",
    "torch.manual_seed(RANDOM_SEED)  # Set seed for reproducibility\n",
    "\n",
    "rand_tensor_c=torch.rand(3,4)\n",
    "\n",
    "torch.manual_seed(RANDOM_SEED)  # Set seed for reproducibility\n",
    "\n",
    "rand_tensor_d=torch.rand(3,4)\n",
    "\n",
    "print(rand_tensor_c, rand_tensor_d,rand_tensor_c==rand_tensor_d)"
   ]
  },
  {
   "cell_type": "markdown",
   "id": "9db3430c",
   "metadata": {},
   "source": [
    "## Running tensors and Pytorch objects on the GPUs"
   ]
  },
  {
   "cell_type": "code",
   "execution_count": 65,
   "id": "6f054e2e",
   "metadata": {},
   "outputs": [
    {
     "name": "stdout",
     "output_type": "stream",
     "text": [
      "2.7.1+cu118\n",
      "11.8\n",
      "True\n"
     ]
    }
   ],
   "source": [
    "import torch\n",
    "print(torch.__version__)\n",
    "print(torch.version.cuda)\n",
    "print(torch.cuda.is_available())\n"
   ]
  },
  {
   "cell_type": "code",
   "execution_count": 67,
   "id": "134c7f71",
   "metadata": {},
   "outputs": [
    {
     "name": "stdout",
     "output_type": "stream",
     "text": [
      "Using device: cuda\n"
     ]
    }
   ],
   "source": [
    "device = \"cuda\" if torch.cuda.is_available() else \"cpu\"\n",
    "print(f\"Using device: {device}\")\n"
   ]
  },
  {
   "cell_type": "code",
   "execution_count": 68,
   "id": "08c41297",
   "metadata": {},
   "outputs": [
    {
     "data": {
      "text/plain": [
       "1"
      ]
     },
     "execution_count": 68,
     "metadata": {},
     "output_type": "execute_result"
    }
   ],
   "source": [
    "torch.cuda.device_count()"
   ]
  },
  {
   "cell_type": "markdown",
   "id": "62df9233",
   "metadata": {},
   "source": [
    "## Putting tensors (and Models) on GPU"
   ]
  },
  {
   "cell_type": "code",
   "execution_count": 73,
   "id": "b865b5bd",
   "metadata": {},
   "outputs": [
    {
     "name": "stdout",
     "output_type": "stream",
     "text": [
      "tensor([1, 2, 3]) cpu\n",
      "tensor([1, 2, 3], device='cuda:0') cuda:0\n"
     ]
    }
   ],
   "source": [
    "tensor=torch.tensor([1,2,3])\n",
    "print(tensor,tensor.device)\n",
    "tensor_on_gpu=torch.tensor([1,2,3],device=device)\n",
    "print(tensor_on_gpu,tensor_on_gpu.device)"
   ]
  },
  {
   "cell_type": "markdown",
   "id": "3ccc375e",
   "metadata": {},
   "source": [
    "## Moving tensors back to CPU"
   ]
  },
  {
   "cell_type": "code",
   "execution_count": 75,
   "id": "507e8c28",
   "metadata": {},
   "outputs": [
    {
     "ename": "TypeError",
     "evalue": "can't convert cuda:0 device type tensor to numpy. Use Tensor.cpu() to copy the tensor to host memory first.",
     "output_type": "error",
     "traceback": [
      "\u001b[31m---------------------------------------------------------------------------\u001b[39m",
      "\u001b[31mTypeError\u001b[39m                                 Traceback (most recent call last)",
      "\u001b[36mCell\u001b[39m\u001b[36m \u001b[39m\u001b[32mIn[75]\u001b[39m\u001b[32m, line 1\u001b[39m\n\u001b[32m----> \u001b[39m\u001b[32m1\u001b[39m \u001b[43mtensor_on_gpu\u001b[49m\u001b[43m.\u001b[49m\u001b[43mnumpy\u001b[49m\u001b[43m(\u001b[49m\u001b[43m)\u001b[49m\u001b[38;5;66;03m#can't use numpy on gpu\u001b[39;00m\n",
      "\u001b[31mTypeError\u001b[39m: can't convert cuda:0 device type tensor to numpy. Use Tensor.cpu() to copy the tensor to host memory first."
     ]
    }
   ],
   "source": [
    "tensor_on_gpu.numpy()#can't use numpy on gpu"
   ]
  },
  {
   "cell_type": "code",
   "execution_count": 77,
   "id": "02057ac3",
   "metadata": {},
   "outputs": [
    {
     "data": {
      "text/plain": [
       "array([1, 2, 3])"
      ]
     },
     "execution_count": 77,
     "metadata": {},
     "output_type": "execute_result"
    }
   ],
   "source": [
    "tensor_backto_cpu=tensor_on_gpu.cpu().numpy()#converting to cpu just before changing to numpy\n",
    "tensor_backto_cpu"
   ]
  },
  {
   "cell_type": "code",
   "execution_count": null,
   "id": "df6c4e7a",
   "metadata": {},
   "outputs": [],
   "source": []
  }
 ],
 "metadata": {
  "kernelspec": {
   "display_name": "myenv",
   "language": "python",
   "name": "python3"
  },
  "language_info": {
   "codemirror_mode": {
    "name": "ipython",
    "version": 3
   },
   "file_extension": ".py",
   "mimetype": "text/x-python",
   "name": "python",
   "nbconvert_exporter": "python",
   "pygments_lexer": "ipython3",
   "version": "3.13.5"
  }
 },
 "nbformat": 4,
 "nbformat_minor": 5
}
