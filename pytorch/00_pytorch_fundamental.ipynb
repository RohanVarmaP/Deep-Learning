{
 "cells": [
  {
   "cell_type": "code",
   "execution_count": 1,
   "id": "d843d47f",
   "metadata": {},
   "outputs": [
    {
     "name": "stdout",
     "output_type": "stream",
     "text": [
      "2.7.1+cpu\n"
     ]
    }
   ],
   "source": [
    "import torch\n",
    "import pandas as pd\n",
    "import numpy as np\n",
    "import matplotlib.pyplot as plt\n",
    "import seaborn as sn\n",
    "print(torch.__version__)"
   ]
  },
  {
   "cell_type": "markdown",
   "id": "b95b319f",
   "metadata": {},
   "source": [
    "## Intoduction to Tensors"
   ]
  },
  {
   "cell_type": "markdown",
   "id": "6c953f75",
   "metadata": {},
   "source": [
    "### Creating tensors"
   ]
  },
  {
   "cell_type": "code",
   "execution_count": 2,
   "id": "799ac83a",
   "metadata": {},
   "outputs": [
    {
     "data": {
      "text/plain": [
       "tensor(7)"
      ]
     },
     "execution_count": 2,
     "metadata": {},
     "output_type": "execute_result"
    }
   ],
   "source": [
    "#scalar\n",
    "scalar=torch.tensor(7)\n",
    "scalar"
   ]
  },
  {
   "cell_type": "code",
   "execution_count": 3,
   "id": "c20234b3",
   "metadata": {},
   "outputs": [
    {
     "data": {
      "text/plain": [
       "tensor(7)"
      ]
     },
     "execution_count": 3,
     "metadata": {},
     "output_type": "execute_result"
    }
   ],
   "source": [
    "#scalar\n",
    "scalar=torch.tensor(7)\n",
    "scalar"
   ]
  },
  {
   "cell_type": "code",
   "execution_count": 4,
   "id": "699e4aaf",
   "metadata": {},
   "outputs": [
    {
     "data": {
      "text/plain": [
       "0"
      ]
     },
     "execution_count": 4,
     "metadata": {},
     "output_type": "execute_result"
    }
   ],
   "source": [
    "scalar.ndim\n"
   ]
  },
  {
   "cell_type": "code",
   "execution_count": 5,
   "id": "9044a72e",
   "metadata": {},
   "outputs": [
    {
     "data": {
      "text/plain": [
       "7"
      ]
     },
     "execution_count": 5,
     "metadata": {},
     "output_type": "execute_result"
    }
   ],
   "source": [
    "#get tensor back as python int\n",
    "scalar.item()"
   ]
  },
  {
   "cell_type": "code",
   "execution_count": 6,
   "id": "61ee28b4",
   "metadata": {},
   "outputs": [
    {
     "data": {
      "text/plain": [
       "tensor([ 7, 11])"
      ]
     },
     "execution_count": 6,
     "metadata": {},
     "output_type": "execute_result"
    }
   ],
   "source": [
    "#vector\n",
    "vector=torch.tensor((7,11))\n",
    "vector"
   ]
  },
  {
   "cell_type": "code",
   "execution_count": 7,
   "id": "ef67a4ff",
   "metadata": {},
   "outputs": [
    {
     "data": {
      "text/plain": [
       "1"
      ]
     },
     "execution_count": 7,
     "metadata": {},
     "output_type": "execute_result"
    }
   ],
   "source": [
    "vector.ndim\n"
   ]
  },
  {
   "cell_type": "code",
   "execution_count": 8,
   "id": "9f460299",
   "metadata": {},
   "outputs": [
    {
     "data": {
      "text/plain": [
       "torch.Size([2])"
      ]
     },
     "execution_count": 8,
     "metadata": {},
     "output_type": "execute_result"
    }
   ],
   "source": [
    "vector.shape\n"
   ]
  },
  {
   "cell_type": "code",
   "execution_count": 9,
   "id": "c624c5fe",
   "metadata": {},
   "outputs": [
    {
     "data": {
      "text/plain": [
       "tensor([[ 7,  8],\n",
       "        [ 9, 10]])"
      ]
     },
     "execution_count": 9,
     "metadata": {},
     "output_type": "execute_result"
    }
   ],
   "source": [
    "#matrix\n",
    "MATRIX=torch.tensor([[7,8],[9,10]])\n",
    "MATRIX"
   ]
  },
  {
   "cell_type": "code",
   "execution_count": 10,
   "id": "9f405ef0",
   "metadata": {},
   "outputs": [
    {
     "data": {
      "text/plain": [
       "2"
      ]
     },
     "execution_count": 10,
     "metadata": {},
     "output_type": "execute_result"
    }
   ],
   "source": [
    "MATRIX.ndim\n"
   ]
  },
  {
   "cell_type": "code",
   "execution_count": 11,
   "id": "c807f6d6",
   "metadata": {},
   "outputs": [
    {
     "data": {
      "text/plain": [
       "torch.Size([2, 2])"
      ]
     },
     "execution_count": 11,
     "metadata": {},
     "output_type": "execute_result"
    }
   ],
   "source": [
    "MATRIX.shape\n"
   ]
  },
  {
   "cell_type": "code",
   "execution_count": 12,
   "id": "fbb7940d",
   "metadata": {},
   "outputs": [
    {
     "data": {
      "text/plain": [
       "tensor([[[ 1,  2,  3],\n",
       "         [ 4,  5,  6],\n",
       "         [ 7,  8,  9]],\n",
       "\n",
       "        [[11, 12, 13],\n",
       "         [14, 15, 16],\n",
       "         [17, 18, 19]]])"
      ]
     },
     "execution_count": 12,
     "metadata": {},
     "output_type": "execute_result"
    }
   ],
   "source": [
    "TENSOR=torch.tensor([[[1,2,3],[4,5,6],[7,8,9]],[[11,12,13],[14,15,16],[17,18,19]]])\n",
    "TENSOR"
   ]
  },
  {
   "cell_type": "code",
   "execution_count": 13,
   "id": "506e8ffb",
   "metadata": {},
   "outputs": [
    {
     "data": {
      "text/plain": [
       "3"
      ]
     },
     "execution_count": 13,
     "metadata": {},
     "output_type": "execute_result"
    }
   ],
   "source": [
    "TENSOR.ndim"
   ]
  },
  {
   "cell_type": "code",
   "execution_count": 14,
   "id": "4df4f4ca",
   "metadata": {},
   "outputs": [
    {
     "data": {
      "text/plain": [
       "torch.Size([2, 3, 3])"
      ]
     },
     "execution_count": 14,
     "metadata": {},
     "output_type": "execute_result"
    }
   ],
   "source": [
    "TENSOR.shape"
   ]
  },
  {
   "cell_type": "code",
   "execution_count": 15,
   "id": "6d4e1a99",
   "metadata": {},
   "outputs": [
    {
     "data": {
      "text/plain": [
       "tensor([[1, 2, 3],\n",
       "        [4, 5, 6],\n",
       "        [7, 8, 9]])"
      ]
     },
     "execution_count": 15,
     "metadata": {},
     "output_type": "execute_result"
    }
   ],
   "source": [
    "TENSOR[0]"
   ]
  },
  {
   "cell_type": "code",
   "execution_count": 16,
   "id": "e4ccba45",
   "metadata": {},
   "outputs": [
    {
     "data": {
      "text/plain": [
       "tensor([1, 2, 3])"
      ]
     },
     "execution_count": 16,
     "metadata": {},
     "output_type": "execute_result"
    }
   ],
   "source": [
    "TENSOR[0][0]"
   ]
  },
  {
   "cell_type": "code",
   "execution_count": 17,
   "id": "c14831df",
   "metadata": {},
   "outputs": [
    {
     "data": {
      "text/plain": [
       "tensor(1)"
      ]
     },
     "execution_count": 17,
     "metadata": {},
     "output_type": "execute_result"
    }
   ],
   "source": [
    "TENSOR[0][0][0]"
   ]
  },
  {
   "cell_type": "markdown",
   "id": "15ef419d",
   "metadata": {},
   "source": [
    "### Random Tensors"
   ]
  },
  {
   "cell_type": "code",
   "execution_count": 18,
   "id": "dc706407",
   "metadata": {},
   "outputs": [
    {
     "data": {
      "text/plain": [
       "tensor([[[0.2204, 0.8271, 0.4813],\n",
       "         [0.2156, 0.1572, 0.1353],\n",
       "         [0.6926, 0.7856, 0.5433]],\n",
       "\n",
       "        [[0.0761, 0.0659, 0.5193],\n",
       "         [0.0465, 0.2903, 0.5615],\n",
       "         [0.0341, 0.3397, 0.9645]]])"
      ]
     },
     "execution_count": 18,
     "metadata": {},
     "output_type": "execute_result"
    }
   ],
   "source": [
    "#creating a random tensors\n",
    "random_tensor=torch.rand(2,3,3)\n",
    "random_tensor"
   ]
  },
  {
   "cell_type": "code",
   "execution_count": 19,
   "id": "efde6b37",
   "metadata": {},
   "outputs": [
    {
     "data": {
      "text/plain": [
       "3"
      ]
     },
     "execution_count": 19,
     "metadata": {},
     "output_type": "execute_result"
    }
   ],
   "source": [
    "random_tensor.ndim"
   ]
  },
  {
   "cell_type": "code",
   "execution_count": 20,
   "id": "3dffc7af",
   "metadata": {},
   "outputs": [
    {
     "data": {
      "text/plain": [
       "tensor([[[0.1097, 0.4485, 0.2775,  ..., 0.0186, 0.3208, 0.1491],\n",
       "         [0.5230, 0.9888, 0.4031,  ..., 0.7913, 0.9232, 0.1532],\n",
       "         [0.9632, 0.5056, 0.0927,  ..., 0.1970, 0.2081, 0.4227],\n",
       "         ...,\n",
       "         [0.7393, 0.2854, 0.7947,  ..., 0.2229, 0.1038, 0.0775],\n",
       "         [0.5478, 0.2371, 0.6913,  ..., 0.5779, 0.0510, 0.5379],\n",
       "         [0.6986, 0.8200, 0.6517,  ..., 0.7395, 0.8167, 0.1361]],\n",
       "\n",
       "        [[0.0385, 0.5415, 0.9279,  ..., 0.7280, 0.6333, 0.9279],\n",
       "         [0.4990, 0.4964, 0.1813,  ..., 0.1287, 0.2715, 0.6934],\n",
       "         [0.2582, 0.9427, 0.2023,  ..., 0.4638, 0.1049, 0.9357],\n",
       "         ...,\n",
       "         [0.6780, 0.2435, 0.8161,  ..., 0.3047, 0.3814, 0.3935],\n",
       "         [0.8792, 0.5881, 0.0351,  ..., 0.0170, 0.5588, 0.3681],\n",
       "         [0.9821, 0.2575, 0.5620,  ..., 0.3092, 0.2325, 0.7168]],\n",
       "\n",
       "        [[0.4192, 0.7355, 0.5604,  ..., 0.7203, 0.0137, 0.9814],\n",
       "         [0.6458, 0.9577, 0.8969,  ..., 0.7989, 0.9547, 0.6039],\n",
       "         [0.4072, 0.6792, 0.5506,  ..., 0.9727, 0.2077, 0.5865],\n",
       "         ...,\n",
       "         [0.5413, 0.0864, 0.1875,  ..., 0.7859, 0.8668, 0.2090],\n",
       "         [0.6274, 0.8954, 0.8524,  ..., 0.8550, 0.3494, 0.1223],\n",
       "         [0.9186, 0.3938, 0.9341,  ..., 0.2136, 0.6641, 0.3326]]])"
      ]
     },
     "execution_count": 20,
     "metadata": {},
     "output_type": "execute_result"
    }
   ],
   "source": [
    "#creating a random tensor with similar shape to a image tensor\n",
    "random_image_tensor=torch.rand(size=(3,244,224))#colour channel, height and width \n",
    "random_image_tensor"
   ]
  },
  {
   "cell_type": "code",
   "execution_count": 21,
   "id": "b0e970c6",
   "metadata": {},
   "outputs": [
    {
     "data": {
      "text/plain": [
       "(torch.Size([3, 244, 224]), 3)"
      ]
     },
     "execution_count": 21,
     "metadata": {},
     "output_type": "execute_result"
    }
   ],
   "source": [
    "random_image_tensor.shape, random_image_tensor.ndim"
   ]
  },
  {
   "cell_type": "markdown",
   "id": "2549832f",
   "metadata": {},
   "source": [
    "### Zeros and Ones"
   ]
  },
  {
   "cell_type": "code",
   "execution_count": 22,
   "id": "5044c108",
   "metadata": {},
   "outputs": [
    {
     "data": {
      "text/plain": [
       "tensor([[0., 0., 0.],\n",
       "        [0., 0., 0.],\n",
       "        [0., 0., 0.]])"
      ]
     },
     "execution_count": 22,
     "metadata": {},
     "output_type": "execute_result"
    }
   ],
   "source": [
    "#creating all zeros\n",
    "zeros=torch.zeros(size=(3,3))\n",
    "zeros"
   ]
  },
  {
   "cell_type": "code",
   "execution_count": 23,
   "id": "7ecfa2e1",
   "metadata": {},
   "outputs": [
    {
     "data": {
      "text/plain": [
       "tensor([[[0., 0., 0.],\n",
       "         [0., 0., 0.],\n",
       "         [0., 0., 0.]],\n",
       "\n",
       "        [[0., 0., 0.],\n",
       "         [0., 0., 0.],\n",
       "         [0., 0., 0.]]])"
      ]
     },
     "execution_count": 23,
     "metadata": {},
     "output_type": "execute_result"
    }
   ],
   "source": [
    "zeros*random_tensor"
   ]
  },
  {
   "cell_type": "code",
   "execution_count": 24,
   "id": "9615e611",
   "metadata": {},
   "outputs": [
    {
     "data": {
      "text/plain": [
       "tensor([[1., 1., 1.],\n",
       "        [1., 1., 1.],\n",
       "        [1., 1., 1.]])"
      ]
     },
     "execution_count": 24,
     "metadata": {},
     "output_type": "execute_result"
    }
   ],
   "source": [
    "#creating all ones\n",
    "ones=torch.ones(size=(3,3))\n",
    "ones"
   ]
  },
  {
   "cell_type": "code",
   "execution_count": 25,
   "id": "1f67de7e",
   "metadata": {},
   "outputs": [
    {
     "data": {
      "text/plain": [
       "torch.float32"
      ]
     },
     "execution_count": 25,
     "metadata": {},
     "output_type": "execute_result"
    }
   ],
   "source": [
    "ones.dtype"
   ]
  },
  {
   "cell_type": "markdown",
   "id": "051e39e0",
   "metadata": {},
   "source": [
    "### Creating tensors with a range"
   ]
  },
  {
   "cell_type": "code",
   "execution_count": 26,
   "id": "4cdc22f4",
   "metadata": {},
   "outputs": [
    {
     "data": {
      "text/plain": [
       "tensor([ 0,  9, 18, 27, 36, 45, 54, 63, 72, 81, 90, 99])"
      ]
     },
     "execution_count": 26,
     "metadata": {},
     "output_type": "execute_result"
    }
   ],
   "source": [
    "one_to_hundred=torch.arange(start=0,end=100,step=9)\n",
    "one_to_hundred"
   ]
  },
  {
   "cell_type": "code",
   "execution_count": 27,
   "id": "7117111d",
   "metadata": {},
   "outputs": [
    {
     "data": {
      "text/plain": [
       "tensor([0, 0, 0, 0, 0, 0, 0, 0, 0, 0, 0, 0])"
      ]
     },
     "execution_count": 27,
     "metadata": {},
     "output_type": "execute_result"
    }
   ],
   "source": [
    "#creating a tensor like\n",
    "hundred_zeros=torch.zeros_like(input=one_to_hundred)\n",
    "hundred_zeros"
   ]
  },
  {
   "cell_type": "markdown",
   "id": "0be26942",
   "metadata": {},
   "source": [
    "### Tensor datatypes"
   ]
  },
  {
   "cell_type": "code",
   "execution_count": null,
   "id": "7dbef23e",
   "metadata": {},
   "outputs": [
    {
     "data": {
      "text/plain": [
       "(tensor([3., 6., 9.]), torch.float32)"
      ]
     },
     "execution_count": 30,
     "metadata": {},
     "output_type": "execute_result"
    }
   ],
   "source": [
    "#lfoat 32\n",
    "float_32_tensor=torch.tensor([3.0,6.0,9.0], \n",
    "                             dtype=None, # specify dtype of tensor, if None, it will be inferred from data\n",
    "                             device=None, # specify device of tensor, if None, it will be inferred from data\n",
    "                             requires_grad=False # specify if tensor requires gradient, default is False\n",
    "                             )\n",
    "float_32_tensor, float_32_tensor.dtype\n"
   ]
  },
  {
   "cell_type": "code",
   "execution_count": 31,
   "id": "fb55d5f5",
   "metadata": {},
   "outputs": [
    {
     "data": {
      "text/plain": [
       "(tensor([3., 6., 9.], dtype=torch.float16), torch.float16)"
      ]
     },
     "execution_count": 31,
     "metadata": {},
     "output_type": "execute_result"
    }
   ],
   "source": [
    "floar_16_tensor=float_32_tensor.type(torch.float16)\n",
    "floar_16_tensor, floar_16_tensor.dtype\n"
   ]
  },
  {
   "cell_type": "code",
   "execution_count": 33,
   "id": "84585f21",
   "metadata": {},
   "outputs": [
    {
     "data": {
      "text/plain": [
       "(tensor([ 9., 36., 81.]), torch.float32)"
      ]
     },
     "execution_count": 33,
     "metadata": {},
     "output_type": "execute_result"
    }
   ],
   "source": [
    "float_32_tensor*floar_16_tensor,(float_32_tensor*floar_16_tensor).dtype"
   ]
  },
  {
   "cell_type": "code",
   "execution_count": 34,
   "id": "5bad1421",
   "metadata": {},
   "outputs": [
    {
     "data": {
      "text/plain": [
       "(tensor([3, 6, 9], dtype=torch.int32), torch.int32)"
      ]
     },
     "execution_count": 34,
     "metadata": {},
     "output_type": "execute_result"
    }
   ],
   "source": [
    "int_32_tensor=torch.tensor([3,6,9], dtype=torch.int32)\n",
    "int_32_tensor, int_32_tensor.dtype"
   ]
  },
  {
   "cell_type": "code",
   "execution_count": 35,
   "id": "5025e9a7",
   "metadata": {},
   "outputs": [
    {
     "data": {
      "text/plain": [
       "(tensor([ 9., 36., 81.], dtype=torch.float16), torch.float16)"
      ]
     },
     "execution_count": 35,
     "metadata": {},
     "output_type": "execute_result"
    }
   ],
   "source": [
    "int_32_tensor*floar_16_tensor,(int_32_tensor*floar_16_tensor).dtype"
   ]
  },
  {
   "cell_type": "markdown",
   "id": "a53b93d1",
   "metadata": {},
   "source": [
    "### Getting info from Tensors\n",
    "info like: datatype, shape of tensor and device its present"
   ]
  },
  {
   "cell_type": "code",
   "execution_count": 36,
   "id": "89cf8ca0",
   "metadata": {},
   "outputs": [
    {
     "data": {
      "text/plain": [
       "tensor([[0.5074, 0.9299, 0.4461, 0.2416],\n",
       "        [0.5981, 0.6474, 0.7174, 0.7136],\n",
       "        [0.6333, 0.6856, 0.9333, 0.7205]])"
      ]
     },
     "execution_count": 36,
     "metadata": {},
     "output_type": "execute_result"
    }
   ],
   "source": [
    "#creating a general tensor\n",
    "some_tensor=torch.rand(3,4)\n",
    "some_tensor"
   ]
  },
  {
   "cell_type": "code",
   "execution_count": 37,
   "id": "6b9e4eec",
   "metadata": {},
   "outputs": [
    {
     "name": "stdout",
     "output_type": "stream",
     "text": [
      "Datatype of Tensor:  torch.float32\n",
      "Shape of Tensor:  torch.Size([3, 4])\n",
      "Device of Tensor:  cpu\n"
     ]
    }
   ],
   "source": [
    "print('Datatype of Tensor: ',some_tensor.dtype)\n",
    "print('Shape of Tensor: ',some_tensor.shape)\n",
    "print('Device of Tensor: ',some_tensor.device)"
   ]
  },
  {
   "cell_type": "markdown",
   "id": "1c22dd90",
   "metadata": {},
   "source": [
    "### Manipulating a tensor"
   ]
  },
  {
   "cell_type": "code",
   "execution_count": 40,
   "id": "1893e069",
   "metadata": {},
   "outputs": [
    {
     "data": {
      "text/plain": [
       "tensor([101, 102, 103])"
      ]
     },
     "execution_count": 40,
     "metadata": {},
     "output_type": "execute_result"
    }
   ],
   "source": [
    "#creating a dummy tensor\n",
    "dummy_tensor=torch.tensor([1,2,3])\n",
    "dummy_tensor+100"
   ]
  },
  {
   "cell_type": "code",
   "execution_count": 41,
   "id": "127d04bf",
   "metadata": {},
   "outputs": [
    {
     "data": {
      "text/plain": [
       "tensor([100, 200, 300])"
      ]
     },
     "execution_count": 41,
     "metadata": {},
     "output_type": "execute_result"
    }
   ],
   "source": [
    "dummy_tensor*100"
   ]
  },
  {
   "cell_type": "code",
   "execution_count": 42,
   "id": "fce0ca91",
   "metadata": {},
   "outputs": [
    {
     "data": {
      "text/plain": [
       "tensor([-99, -98, -97])"
      ]
     },
     "execution_count": 42,
     "metadata": {},
     "output_type": "execute_result"
    }
   ],
   "source": [
    "dummy_tensor-100"
   ]
  },
  {
   "cell_type": "code",
   "execution_count": 43,
   "id": "a93b966e",
   "metadata": {},
   "outputs": [
    {
     "data": {
      "text/plain": [
       "tensor([10, 20, 30])"
      ]
     },
     "execution_count": 43,
     "metadata": {},
     "output_type": "execute_result"
    }
   ],
   "source": [
    "torch.mul(dummy_tensor,10)"
   ]
  },
  {
   "cell_type": "code",
   "execution_count": 44,
   "id": "5b2dd279",
   "metadata": {},
   "outputs": [
    {
     "data": {
      "text/plain": [
       "tensor([11, 12, 13])"
      ]
     },
     "execution_count": 44,
     "metadata": {},
     "output_type": "execute_result"
    }
   ],
   "source": [
    "torch.add(dummy_tensor,10)"
   ]
  },
  {
   "cell_type": "markdown",
   "id": "5faa7836",
   "metadata": {},
   "source": [
    "### Matrix mulltiplication"
   ]
  },
  {
   "cell_type": "code",
   "execution_count": 73,
   "id": "3266354b",
   "metadata": {},
   "outputs": [
    {
     "data": {
      "text/plain": [
       "(tensor([1, 2, 3]), tensor([10, 20, 30]))"
      ]
     },
     "execution_count": 73,
     "metadata": {},
     "output_type": "execute_result"
    }
   ],
   "source": [
    "test_tensor=torch.tensor([1,2,3])\n",
    "second_tensor=torch.tensor([10,20,30])\n",
    "test_tensor, second_tensor"
   ]
  },
  {
   "cell_type": "code",
   "execution_count": 74,
   "id": "2c128403",
   "metadata": {},
   "outputs": [
    {
     "name": "stdout",
     "output_type": "stream",
     "text": [
      "CPU times: total: 0 ns\n",
      "Wall time: 70.1 μs\n"
     ]
    },
    {
     "data": {
      "text/plain": [
       "tensor([10, 40, 90])"
      ]
     },
     "execution_count": 74,
     "metadata": {},
     "output_type": "execute_result"
    }
   ],
   "source": [
    "%%time\n",
    "test_tensor*second_tensor"
   ]
  },
  {
   "cell_type": "code",
   "execution_count": 75,
   "id": "b57bf41b",
   "metadata": {},
   "outputs": [
    {
     "name": "stdout",
     "output_type": "stream",
     "text": [
      "CPU times: total: 0 ns\n",
      "Wall time: 49.6 μs\n"
     ]
    },
    {
     "data": {
      "text/plain": [
       "tensor(140)"
      ]
     },
     "execution_count": 75,
     "metadata": {},
     "output_type": "execute_result"
    }
   ],
   "source": [
    "%%time\n",
    "torch.matmul(test_tensor,second_tensor)"
   ]
  },
  {
   "cell_type": "code",
   "execution_count": 76,
   "id": "dda13c09",
   "metadata": {},
   "outputs": [
    {
     "data": {
      "text/plain": [
       "140"
      ]
     },
     "execution_count": 76,
     "metadata": {},
     "output_type": "execute_result"
    }
   ],
   "source": [
    "#matrix multiplication by hand\n",
    "1*10+2*20+3*30"
   ]
  },
  {
   "cell_type": "code",
   "execution_count": 77,
   "id": "64c4f899",
   "metadata": {},
   "outputs": [
    {
     "name": "stdout",
     "output_type": "stream",
     "text": [
      "tensor(140)\n",
      "CPU times: total: 0 ns\n",
      "Wall time: 1.11 ms\n"
     ]
    }
   ],
   "source": [
    "%%time\n",
    "val=0\n",
    "for i in range(len(test_tensor)):\n",
    "    val+=test_tensor[i]*second_tensor[i]\n",
    "print(val)"
   ]
  },
  {
   "cell_type": "markdown",
   "id": "a80cab39",
   "metadata": {},
   "source": [
    "### Finding min, max, mean ,sum , etc (tensor aggregation)"
   ]
  },
  {
   "cell_type": "code",
   "execution_count": 88,
   "id": "04dc08c8",
   "metadata": {},
   "outputs": [
    {
     "data": {
      "text/plain": [
       "(tensor([ 0, 10, 20, 30, 40, 50, 60, 70, 80, 90]), torch.int64)"
      ]
     },
     "execution_count": 88,
     "metadata": {},
     "output_type": "execute_result"
    }
   ],
   "source": [
    "x=torch.arange(0,100,10)\n",
    "x,x.dtype"
   ]
  },
  {
   "cell_type": "code",
   "execution_count": 89,
   "id": "84cc3050",
   "metadata": {},
   "outputs": [
    {
     "data": {
      "text/plain": [
       "(tensor(0), tensor(90), tensor(450))"
      ]
     },
     "execution_count": 89,
     "metadata": {},
     "output_type": "execute_result"
    }
   ],
   "source": [
    "torch.min(x),torch.max(x),torch.sum(x)"
   ]
  },
  {
   "cell_type": "code",
   "execution_count": 90,
   "id": "aaac8ffc",
   "metadata": {},
   "outputs": [
    {
     "data": {
      "text/plain": [
       "(tensor(45.), tensor(45.))"
      ]
     },
     "execution_count": 90,
     "metadata": {},
     "output_type": "execute_result"
    }
   ],
   "source": [
    "torch.mean(x.type(torch.float32)),x.type(torch.float32).mean() # mean requires float tensor"
   ]
  },
  {
   "cell_type": "code",
   "execution_count": 92,
   "id": "15fb7df3",
   "metadata": {},
   "outputs": [
    {
     "data": {
      "text/plain": [
       "(tensor(9), tensor(0))"
      ]
     },
     "execution_count": 92,
     "metadata": {},
     "output_type": "execute_result"
    }
   ],
   "source": [
    "#finding positional max and min\n",
    "x.argmax(),x.argmin()"
   ]
  },
  {
   "cell_type": "markdown",
   "id": "507a7742",
   "metadata": {},
   "source": [
    "### Reshaping, Stacking, Sqeezing and Unsqueeezing tensors"
   ]
  },
  {
   "cell_type": "code",
   "execution_count": 97,
   "id": "9c0e45e1",
   "metadata": {},
   "outputs": [
    {
     "data": {
      "text/plain": [
       "(tensor([1., 2., 3., 4., 5., 6., 7., 8., 9.]), torch.float32, torch.Size([9]))"
      ]
     },
     "execution_count": 97,
     "metadata": {},
     "output_type": "execute_result"
    }
   ],
   "source": [
    "x=torch.arange(1.,10.)\n",
    "x,x.dtype,x.shape"
   ]
  },
  {
   "cell_type": "code",
   "execution_count": null,
   "id": "a709de45",
   "metadata": {},
   "outputs": [
    {
     "data": {
      "text/plain": [
       "tensor([1., 2., 3., 4., 5., 6., 7., 8., 9.])"
      ]
     },
     "execution_count": 96,
     "metadata": {},
     "output_type": "execute_result"
    }
   ],
   "source": [
    "x_reshaped=x.reshape(1,9)\n",
    "### Creating tensors"
   ]
  },
  {
   "cell_type": "code",
   "execution_count": null,
   "id": "ab05ddbc",
   "metadata": {},
   "outputs": [],
   "source": []
  }
 ],
 "metadata": {
  "kernelspec": {
   "display_name": "myenv",
   "language": "python",
   "name": "python3"
  },
  "language_info": {
   "codemirror_mode": {
    "name": "ipython",
    "version": 3
   },
   "file_extension": ".py",
   "mimetype": "text/x-python",
   "name": "python",
   "nbconvert_exporter": "python",
   "pygments_lexer": "ipython3",
   "version": "3.13.5"
  }
 },
 "nbformat": 4,
 "nbformat_minor": 5
}
