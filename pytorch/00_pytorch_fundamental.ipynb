{
 "cells": [
  {
   "cell_type": "code",
   "execution_count": 1,
   "id": "d843d47f",
   "metadata": {},
   "outputs": [
    {
     "name": "stdout",
     "output_type": "stream",
     "text": [
      "2.7.1+cpu\n"
     ]
    }
   ],
   "source": [
    "import torch\n",
    "import pandas as pd\n",
    "import numpy as np\n",
    "import matplotlib.pyplot as plt\n",
    "import seaborn as sn\n",
    "print(torch.__version__)"
   ]
  },
  {
   "cell_type": "markdown",
   "id": "b95b319f",
   "metadata": {},
   "source": [
    "## Intoduction to Tensors"
   ]
  },
  {
   "cell_type": "markdown",
   "id": "6c953f75",
   "metadata": {},
   "source": [
    "### Creating tensors"
   ]
  },
  {
   "cell_type": "code",
   "execution_count": 2,
   "id": "799ac83a",
   "metadata": {},
   "outputs": [
    {
     "data": {
      "text/plain": [
       "tensor(7)"
      ]
     },
     "execution_count": 2,
     "metadata": {},
     "output_type": "execute_result"
    }
   ],
   "source": [
    "#scalar\n",
    "scalar=torch.tensor(7)\n",
    "scalar"
   ]
  },
  {
   "cell_type": "code",
   "execution_count": 3,
   "id": "c20234b3",
   "metadata": {},
   "outputs": [
    {
     "data": {
      "text/plain": [
       "tensor(7)"
      ]
     },
     "execution_count": 3,
     "metadata": {},
     "output_type": "execute_result"
    }
   ],
   "source": [
    "#scalar\n",
    "scalar=torch.tensor(7)\n",
    "scalar"
   ]
  },
  {
   "cell_type": "code",
   "execution_count": 4,
   "id": "699e4aaf",
   "metadata": {},
   "outputs": [
    {
     "data": {
      "text/plain": [
       "0"
      ]
     },
     "execution_count": 4,
     "metadata": {},
     "output_type": "execute_result"
    }
   ],
   "source": [
    "scalar.ndim\n"
   ]
  },
  {
   "cell_type": "code",
   "execution_count": 5,
   "id": "9044a72e",
   "metadata": {},
   "outputs": [
    {
     "data": {
      "text/plain": [
       "7"
      ]
     },
     "execution_count": 5,
     "metadata": {},
     "output_type": "execute_result"
    }
   ],
   "source": [
    "#get tensor back as python int\n",
    "scalar.item()"
   ]
  },
  {
   "cell_type": "code",
   "execution_count": 6,
   "id": "61ee28b4",
   "metadata": {},
   "outputs": [
    {
     "data": {
      "text/plain": [
       "tensor([ 7, 11])"
      ]
     },
     "execution_count": 6,
     "metadata": {},
     "output_type": "execute_result"
    }
   ],
   "source": [
    "#vector\n",
    "vector=torch.tensor((7,11))\n",
    "vector"
   ]
  },
  {
   "cell_type": "code",
   "execution_count": 7,
   "id": "ef67a4ff",
   "metadata": {},
   "outputs": [
    {
     "data": {
      "text/plain": [
       "1"
      ]
     },
     "execution_count": 7,
     "metadata": {},
     "output_type": "execute_result"
    }
   ],
   "source": [
    "vector.ndim\n"
   ]
  },
  {
   "cell_type": "code",
   "execution_count": 8,
   "id": "9f460299",
   "metadata": {},
   "outputs": [
    {
     "data": {
      "text/plain": [
       "torch.Size([2])"
      ]
     },
     "execution_count": 8,
     "metadata": {},
     "output_type": "execute_result"
    }
   ],
   "source": [
    "vector.shape\n"
   ]
  },
  {
   "cell_type": "code",
   "execution_count": 9,
   "id": "c624c5fe",
   "metadata": {},
   "outputs": [
    {
     "data": {
      "text/plain": [
       "tensor([[ 7,  8],\n",
       "        [ 9, 10]])"
      ]
     },
     "execution_count": 9,
     "metadata": {},
     "output_type": "execute_result"
    }
   ],
   "source": [
    "#matrix\n",
    "MATRIX=torch.tensor([[7,8],[9,10]])\n",
    "MATRIX"
   ]
  },
  {
   "cell_type": "code",
   "execution_count": 10,
   "id": "9f405ef0",
   "metadata": {},
   "outputs": [
    {
     "data": {
      "text/plain": [
       "2"
      ]
     },
     "execution_count": 10,
     "metadata": {},
     "output_type": "execute_result"
    }
   ],
   "source": [
    "MATRIX.ndim\n"
   ]
  },
  {
   "cell_type": "code",
   "execution_count": 11,
   "id": "c807f6d6",
   "metadata": {},
   "outputs": [
    {
     "data": {
      "text/plain": [
       "torch.Size([2, 2])"
      ]
     },
     "execution_count": 11,
     "metadata": {},
     "output_type": "execute_result"
    }
   ],
   "source": [
    "MATRIX.shape\n"
   ]
  },
  {
   "cell_type": "code",
   "execution_count": 12,
   "id": "fbb7940d",
   "metadata": {},
   "outputs": [
    {
     "data": {
      "text/plain": [
       "tensor([[[ 1,  2,  3],\n",
       "         [ 4,  5,  6],\n",
       "         [ 7,  8,  9]],\n",
       "\n",
       "        [[11, 12, 13],\n",
       "         [14, 15, 16],\n",
       "         [17, 18, 19]]])"
      ]
     },
     "execution_count": 12,
     "metadata": {},
     "output_type": "execute_result"
    }
   ],
   "source": [
    "TENSOR=torch.tensor([[[1,2,3],[4,5,6],[7,8,9]],[[11,12,13],[14,15,16],[17,18,19]]])\n",
    "TENSOR"
   ]
  },
  {
   "cell_type": "code",
   "execution_count": 13,
   "id": "506e8ffb",
   "metadata": {},
   "outputs": [
    {
     "data": {
      "text/plain": [
       "3"
      ]
     },
     "execution_count": 13,
     "metadata": {},
     "output_type": "execute_result"
    }
   ],
   "source": [
    "TENSOR.ndim"
   ]
  },
  {
   "cell_type": "code",
   "execution_count": 14,
   "id": "4df4f4ca",
   "metadata": {},
   "outputs": [
    {
     "data": {
      "text/plain": [
       "torch.Size([2, 3, 3])"
      ]
     },
     "execution_count": 14,
     "metadata": {},
     "output_type": "execute_result"
    }
   ],
   "source": [
    "TENSOR.shape"
   ]
  },
  {
   "cell_type": "code",
   "execution_count": 15,
   "id": "6d4e1a99",
   "metadata": {},
   "outputs": [
    {
     "data": {
      "text/plain": [
       "tensor([[1, 2, 3],\n",
       "        [4, 5, 6],\n",
       "        [7, 8, 9]])"
      ]
     },
     "execution_count": 15,
     "metadata": {},
     "output_type": "execute_result"
    }
   ],
   "source": [
    "TENSOR[0]"
   ]
  },
  {
   "cell_type": "code",
   "execution_count": 16,
   "id": "e4ccba45",
   "metadata": {},
   "outputs": [
    {
     "data": {
      "text/plain": [
       "tensor([1, 2, 3])"
      ]
     },
     "execution_count": 16,
     "metadata": {},
     "output_type": "execute_result"
    }
   ],
   "source": [
    "TENSOR[0][0]"
   ]
  },
  {
   "cell_type": "code",
   "execution_count": 17,
   "id": "c14831df",
   "metadata": {},
   "outputs": [
    {
     "data": {
      "text/plain": [
       "tensor(1)"
      ]
     },
     "execution_count": 17,
     "metadata": {},
     "output_type": "execute_result"
    }
   ],
   "source": [
    "TENSOR[0][0][0]"
   ]
  },
  {
   "cell_type": "markdown",
   "id": "15ef419d",
   "metadata": {},
   "source": [
    "### Random Tensors"
   ]
  },
  {
   "cell_type": "code",
   "execution_count": 18,
   "id": "dc706407",
   "metadata": {},
   "outputs": [
    {
     "data": {
      "text/plain": [
       "tensor([[[0.5341, 0.1281, 0.4287],\n",
       "         [0.4682, 0.8114, 0.1881],\n",
       "         [0.7664, 0.9262, 0.2085]],\n",
       "\n",
       "        [[0.3593, 0.8794, 0.4526],\n",
       "         [0.3659, 0.9897, 0.8812],\n",
       "         [0.4574, 0.3759, 0.6074]]])"
      ]
     },
     "execution_count": 18,
     "metadata": {},
     "output_type": "execute_result"
    }
   ],
   "source": [
    "#creating a random tensors\n",
    "random_tensor=torch.rand(2,3,3)\n",
    "random_tensor"
   ]
  },
  {
   "cell_type": "code",
   "execution_count": 19,
   "id": "efde6b37",
   "metadata": {},
   "outputs": [
    {
     "data": {
      "text/plain": [
       "3"
      ]
     },
     "execution_count": 19,
     "metadata": {},
     "output_type": "execute_result"
    }
   ],
   "source": [
    "random_tensor.ndim"
   ]
  },
  {
   "cell_type": "code",
   "execution_count": 20,
   "id": "3dffc7af",
   "metadata": {},
   "outputs": [
    {
     "data": {
      "text/plain": [
       "tensor([[[0.6011, 0.1524, 0.6820,  ..., 0.9271, 0.5525, 0.6520],\n",
       "         [0.8790, 0.0620, 0.8490,  ..., 0.5154, 0.8861, 0.5986],\n",
       "         [0.1645, 0.3614, 0.4636,  ..., 0.0292, 0.4254, 0.5479],\n",
       "         ...,\n",
       "         [0.3779, 0.7639, 0.5964,  ..., 0.2630, 0.0366, 0.6310],\n",
       "         [0.2030, 0.4572, 0.9504,  ..., 0.2197, 0.6620, 0.4625],\n",
       "         [0.8482, 0.2336, 0.5502,  ..., 0.0504, 0.1605, 0.3668]],\n",
       "\n",
       "        [[0.3986, 0.8077, 0.0765,  ..., 0.8512, 0.1122, 0.8841],\n",
       "         [0.6019, 0.4783, 0.5622,  ..., 0.0596, 0.3727, 0.9784],\n",
       "         [0.4479, 0.7496, 0.4591,  ..., 0.5645, 0.5006, 0.9613],\n",
       "         ...,\n",
       "         [0.3749, 0.8400, 0.6630,  ..., 0.3179, 0.2303, 0.7713],\n",
       "         [0.6557, 0.5400, 0.1026,  ..., 0.7112, 0.0771, 0.4298],\n",
       "         [0.0082, 0.0791, 0.7100,  ..., 0.0278, 0.5617, 0.3979]],\n",
       "\n",
       "        [[0.6855, 0.7759, 0.2227,  ..., 0.7382, 0.7283, 0.5741],\n",
       "         [0.8796, 0.4665, 0.4943,  ..., 0.0131, 0.3495, 0.3140],\n",
       "         [0.1383, 0.7942, 0.5404,  ..., 0.9932, 0.3366, 0.3737],\n",
       "         ...,\n",
       "         [0.8487, 0.6544, 0.7794,  ..., 0.8296, 0.5705, 0.1099],\n",
       "         [0.4795, 0.2994, 0.3135,  ..., 0.8079, 0.7671, 0.7552],\n",
       "         [0.7218, 0.1088, 0.4956,  ..., 0.6134, 0.6955, 0.9524]]])"
      ]
     },
     "execution_count": 20,
     "metadata": {},
     "output_type": "execute_result"
    }
   ],
   "source": [
    "#creating a random tensor with similar shape to a image tensor\n",
    "random_image_tensor=torch.rand(size=(3,244,224))#colour channel, height and width \n",
    "random_image_tensor"
   ]
  },
  {
   "cell_type": "code",
   "execution_count": 21,
   "id": "b0e970c6",
   "metadata": {},
   "outputs": [
    {
     "data": {
      "text/plain": [
       "(torch.Size([3, 244, 224]), 3)"
      ]
     },
     "execution_count": 21,
     "metadata": {},
     "output_type": "execute_result"
    }
   ],
   "source": [
    "random_image_tensor.shape, random_image_tensor.ndim"
   ]
  },
  {
   "cell_type": "markdown",
   "id": "2549832f",
   "metadata": {},
   "source": [
    "### Zeros and Ones"
   ]
  },
  {
   "cell_type": "code",
   "execution_count": 22,
   "id": "5044c108",
   "metadata": {},
   "outputs": [
    {
     "data": {
      "text/plain": [
       "tensor([[0., 0., 0.],\n",
       "        [0., 0., 0.],\n",
       "        [0., 0., 0.]])"
      ]
     },
     "execution_count": 22,
     "metadata": {},
     "output_type": "execute_result"
    }
   ],
   "source": [
    "#creating all zeros\n",
    "zeros=torch.zeros(size=(3,3))\n",
    "zeros"
   ]
  },
  {
   "cell_type": "code",
   "execution_count": 23,
   "id": "7ecfa2e1",
   "metadata": {},
   "outputs": [
    {
     "data": {
      "text/plain": [
       "tensor([[[0., 0., 0.],\n",
       "         [0., 0., 0.],\n",
       "         [0., 0., 0.]],\n",
       "\n",
       "        [[0., 0., 0.],\n",
       "         [0., 0., 0.],\n",
       "         [0., 0., 0.]]])"
      ]
     },
     "execution_count": 23,
     "metadata": {},
     "output_type": "execute_result"
    }
   ],
   "source": [
    "zeros*random_tensor"
   ]
  },
  {
   "cell_type": "code",
   "execution_count": 24,
   "id": "9615e611",
   "metadata": {},
   "outputs": [
    {
     "data": {
      "text/plain": [
       "tensor([[1., 1., 1.],\n",
       "        [1., 1., 1.],\n",
       "        [1., 1., 1.]])"
      ]
     },
     "execution_count": 24,
     "metadata": {},
     "output_type": "execute_result"
    }
   ],
   "source": [
    "#creating all ones\n",
    "ones=torch.ones(size=(3,3))\n",
    "ones"
   ]
  },
  {
   "cell_type": "code",
   "execution_count": 25,
   "id": "1f67de7e",
   "metadata": {},
   "outputs": [
    {
     "data": {
      "text/plain": [
       "torch.float32"
      ]
     },
     "execution_count": 25,
     "metadata": {},
     "output_type": "execute_result"
    }
   ],
   "source": [
    "ones.dtype"
   ]
  },
  {
   "cell_type": "markdown",
   "id": "051e39e0",
   "metadata": {},
   "source": [
    "### Creating tensors with a range"
   ]
  },
  {
   "cell_type": "code",
   "execution_count": 26,
   "id": "4cdc22f4",
   "metadata": {},
   "outputs": [
    {
     "data": {
      "text/plain": [
       "tensor([ 0,  9, 18, 27, 36, 45, 54, 63, 72, 81, 90, 99])"
      ]
     },
     "execution_count": 26,
     "metadata": {},
     "output_type": "execute_result"
    }
   ],
   "source": [
    "one_to_hundred=torch.arange(start=0,end=100,step=9)\n",
    "one_to_hundred"
   ]
  },
  {
   "cell_type": "code",
   "execution_count": 27,
   "id": "7117111d",
   "metadata": {},
   "outputs": [
    {
     "data": {
      "text/plain": [
       "tensor([0, 0, 0, 0, 0, 0, 0, 0, 0, 0, 0, 0])"
      ]
     },
     "execution_count": 27,
     "metadata": {},
     "output_type": "execute_result"
    }
   ],
   "source": [
    "#creating a tensor like\n",
    "hundred_zeros=torch.zeros_like(input=one_to_hundred)\n",
    "hundred_zeros"
   ]
  },
  {
   "cell_type": "markdown",
   "id": "0be26942",
   "metadata": {},
   "source": [
    "### Tensor datatypes"
   ]
  },
  {
   "cell_type": "code",
   "execution_count": 28,
   "id": "7dbef23e",
   "metadata": {},
   "outputs": [
    {
     "data": {
      "text/plain": [
       "(tensor([3., 6., 9.]), torch.float32)"
      ]
     },
     "execution_count": 28,
     "metadata": {},
     "output_type": "execute_result"
    }
   ],
   "source": [
    "#lfoat 32\n",
    "float_32_tensor=torch.tensor([3.0,6.0,9.0], \n",
    "                             dtype=None, # specify dtype of tensor, if None, it will be inferred from data\n",
    "                             device=None, # specify device of tensor, if None, it will be inferred from data\n",
    "                             requires_grad=False # specify if tensor requires gradient, default is False\n",
    "                             )\n",
    "float_32_tensor, float_32_tensor.dtype\n"
   ]
  },
  {
   "cell_type": "code",
   "execution_count": 29,
   "id": "fb55d5f5",
   "metadata": {},
   "outputs": [
    {
     "data": {
      "text/plain": [
       "(tensor([3., 6., 9.], dtype=torch.float16), torch.float16)"
      ]
     },
     "execution_count": 29,
     "metadata": {},
     "output_type": "execute_result"
    }
   ],
   "source": [
    "floar_16_tensor=float_32_tensor.type(torch.float16)\n",
    "floar_16_tensor, floar_16_tensor.dtype\n"
   ]
  },
  {
   "cell_type": "code",
   "execution_count": 30,
   "id": "84585f21",
   "metadata": {},
   "outputs": [
    {
     "data": {
      "text/plain": [
       "(tensor([ 9., 36., 81.]), torch.float32)"
      ]
     },
     "execution_count": 30,
     "metadata": {},
     "output_type": "execute_result"
    }
   ],
   "source": [
    "float_32_tensor*floar_16_tensor,(float_32_tensor*floar_16_tensor).dtype"
   ]
  },
  {
   "cell_type": "code",
   "execution_count": 31,
   "id": "5bad1421",
   "metadata": {},
   "outputs": [
    {
     "data": {
      "text/plain": [
       "(tensor([3, 6, 9], dtype=torch.int32), torch.int32)"
      ]
     },
     "execution_count": 31,
     "metadata": {},
     "output_type": "execute_result"
    }
   ],
   "source": [
    "int_32_tensor=torch.tensor([3,6,9], dtype=torch.int32)\n",
    "int_32_tensor, int_32_tensor.dtype"
   ]
  },
  {
   "cell_type": "code",
   "execution_count": 32,
   "id": "5025e9a7",
   "metadata": {},
   "outputs": [
    {
     "data": {
      "text/plain": [
       "(tensor([ 9., 36., 81.], dtype=torch.float16), torch.float16)"
      ]
     },
     "execution_count": 32,
     "metadata": {},
     "output_type": "execute_result"
    }
   ],
   "source": [
    "int_32_tensor*floar_16_tensor,(int_32_tensor*floar_16_tensor).dtype"
   ]
  },
  {
   "cell_type": "markdown",
   "id": "a53b93d1",
   "metadata": {},
   "source": [
    "### Getting info from Tensors\n",
    "info like: datatype, shape of tensor and device its present"
   ]
  },
  {
   "cell_type": "code",
   "execution_count": 33,
   "id": "89cf8ca0",
   "metadata": {},
   "outputs": [
    {
     "data": {
      "text/plain": [
       "tensor([[0.9180, 0.7168, 0.1688, 0.6830],\n",
       "        [0.9528, 0.8959, 0.4347, 0.8527],\n",
       "        [0.5125, 0.2681, 0.4367, 0.6388]])"
      ]
     },
     "execution_count": 33,
     "metadata": {},
     "output_type": "execute_result"
    }
   ],
   "source": [
    "#creating a general tensor\n",
    "some_tensor=torch.rand(3,4)\n",
    "some_tensor"
   ]
  },
  {
   "cell_type": "code",
   "execution_count": 34,
   "id": "6b9e4eec",
   "metadata": {},
   "outputs": [
    {
     "name": "stdout",
     "output_type": "stream",
     "text": [
      "Datatype of Tensor:  torch.float32\n",
      "Shape of Tensor:  torch.Size([3, 4])\n",
      "Device of Tensor:  cpu\n"
     ]
    }
   ],
   "source": [
    "print('Datatype of Tensor: ',some_tensor.dtype)\n",
    "print('Shape of Tensor: ',some_tensor.shape)\n",
    "print('Device of Tensor: ',some_tensor.device)"
   ]
  },
  {
   "cell_type": "markdown",
   "id": "1c22dd90",
   "metadata": {},
   "source": [
    "### Manipulating a tensor"
   ]
  },
  {
   "cell_type": "code",
   "execution_count": 35,
   "id": "1893e069",
   "metadata": {},
   "outputs": [
    {
     "data": {
      "text/plain": [
       "tensor([101, 102, 103])"
      ]
     },
     "execution_count": 35,
     "metadata": {},
     "output_type": "execute_result"
    }
   ],
   "source": [
    "#creating a dummy tensor\n",
    "dummy_tensor=torch.tensor([1,2,3])\n",
    "dummy_tensor+100"
   ]
  },
  {
   "cell_type": "code",
   "execution_count": 36,
   "id": "127d04bf",
   "metadata": {},
   "outputs": [
    {
     "data": {
      "text/plain": [
       "tensor([100, 200, 300])"
      ]
     },
     "execution_count": 36,
     "metadata": {},
     "output_type": "execute_result"
    }
   ],
   "source": [
    "dummy_tensor*100"
   ]
  },
  {
   "cell_type": "code",
   "execution_count": 37,
   "id": "fce0ca91",
   "metadata": {},
   "outputs": [
    {
     "data": {
      "text/plain": [
       "tensor([-99, -98, -97])"
      ]
     },
     "execution_count": 37,
     "metadata": {},
     "output_type": "execute_result"
    }
   ],
   "source": [
    "dummy_tensor-100"
   ]
  },
  {
   "cell_type": "code",
   "execution_count": 38,
   "id": "a93b966e",
   "metadata": {},
   "outputs": [
    {
     "data": {
      "text/plain": [
       "tensor([10, 20, 30])"
      ]
     },
     "execution_count": 38,
     "metadata": {},
     "output_type": "execute_result"
    }
   ],
   "source": [
    "torch.mul(dummy_tensor,10)"
   ]
  },
  {
   "cell_type": "code",
   "execution_count": 39,
   "id": "5b2dd279",
   "metadata": {},
   "outputs": [
    {
     "data": {
      "text/plain": [
       "tensor([11, 12, 13])"
      ]
     },
     "execution_count": 39,
     "metadata": {},
     "output_type": "execute_result"
    }
   ],
   "source": [
    "torch.add(dummy_tensor,10)"
   ]
  },
  {
   "cell_type": "markdown",
   "id": "5faa7836",
   "metadata": {},
   "source": [
    "### Matrix mulltiplication"
   ]
  },
  {
   "cell_type": "code",
   "execution_count": 40,
   "id": "3266354b",
   "metadata": {},
   "outputs": [
    {
     "data": {
      "text/plain": [
       "(tensor([1, 2, 3]), tensor([10, 20, 30]))"
      ]
     },
     "execution_count": 40,
     "metadata": {},
     "output_type": "execute_result"
    }
   ],
   "source": [
    "test_tensor=torch.tensor([1,2,3])\n",
    "second_tensor=torch.tensor([10,20,30])\n",
    "test_tensor, second_tensor"
   ]
  },
  {
   "cell_type": "code",
   "execution_count": 41,
   "id": "2c128403",
   "metadata": {},
   "outputs": [
    {
     "name": "stdout",
     "output_type": "stream",
     "text": [
      "CPU times: total: 0 ns\n",
      "Wall time: 141 μs\n"
     ]
    },
    {
     "data": {
      "text/plain": [
       "tensor([10, 40, 90])"
      ]
     },
     "execution_count": 41,
     "metadata": {},
     "output_type": "execute_result"
    }
   ],
   "source": [
    "%%time\n",
    "test_tensor*second_tensor"
   ]
  },
  {
   "cell_type": "code",
   "execution_count": 42,
   "id": "b57bf41b",
   "metadata": {},
   "outputs": [
    {
     "name": "stdout",
     "output_type": "stream",
     "text": [
      "CPU times: total: 0 ns\n",
      "Wall time: 428 μs\n"
     ]
    },
    {
     "data": {
      "text/plain": [
       "tensor(140)"
      ]
     },
     "execution_count": 42,
     "metadata": {},
     "output_type": "execute_result"
    }
   ],
   "source": [
    "%%time\n",
    "torch.matmul(test_tensor,second_tensor)"
   ]
  },
  {
   "cell_type": "code",
   "execution_count": 43,
   "id": "dda13c09",
   "metadata": {},
   "outputs": [
    {
     "data": {
      "text/plain": [
       "140"
      ]
     },
     "execution_count": 43,
     "metadata": {},
     "output_type": "execute_result"
    }
   ],
   "source": [
    "#matrix multiplication by hand\n",
    "1*10+2*20+3*30"
   ]
  },
  {
   "cell_type": "code",
   "execution_count": 44,
   "id": "64c4f899",
   "metadata": {},
   "outputs": [
    {
     "name": "stdout",
     "output_type": "stream",
     "text": [
      "tensor(140)\n",
      "CPU times: total: 0 ns\n",
      "Wall time: 1.36 ms\n"
     ]
    }
   ],
   "source": [
    "%%time\n",
    "val=0\n",
    "for i in range(len(test_tensor)):\n",
    "    val+=test_tensor[i]*second_tensor[i]\n",
    "print(val)"
   ]
  },
  {
   "cell_type": "markdown",
   "id": "a80cab39",
   "metadata": {},
   "source": [
    "### Finding min, max, mean ,sum , etc (tensor aggregation)"
   ]
  },
  {
   "cell_type": "code",
   "execution_count": 45,
   "id": "04dc08c8",
   "metadata": {},
   "outputs": [
    {
     "data": {
      "text/plain": [
       "(tensor([ 0, 10, 20, 30, 40, 50, 60, 70, 80, 90]), torch.int64)"
      ]
     },
     "execution_count": 45,
     "metadata": {},
     "output_type": "execute_result"
    }
   ],
   "source": [
    "x=torch.arange(0,100,10)\n",
    "x,x.dtype"
   ]
  },
  {
   "cell_type": "code",
   "execution_count": 46,
   "id": "84cc3050",
   "metadata": {},
   "outputs": [
    {
     "data": {
      "text/plain": [
       "(tensor(0), tensor(90), tensor(450))"
      ]
     },
     "execution_count": 46,
     "metadata": {},
     "output_type": "execute_result"
    }
   ],
   "source": [
    "torch.min(x),torch.max(x),torch.sum(x)"
   ]
  },
  {
   "cell_type": "code",
   "execution_count": 47,
   "id": "aaac8ffc",
   "metadata": {},
   "outputs": [
    {
     "data": {
      "text/plain": [
       "(tensor(45.), tensor(45.))"
      ]
     },
     "execution_count": 47,
     "metadata": {},
     "output_type": "execute_result"
    }
   ],
   "source": [
    "torch.mean(x.type(torch.float32)),x.type(torch.float32).mean() # mean requires float tensor"
   ]
  },
  {
   "cell_type": "code",
   "execution_count": 48,
   "id": "15fb7df3",
   "metadata": {},
   "outputs": [
    {
     "data": {
      "text/plain": [
       "(tensor(9), tensor(0))"
      ]
     },
     "execution_count": 48,
     "metadata": {},
     "output_type": "execute_result"
    }
   ],
   "source": [
    "#finding positional max and min\n",
    "x.argmax(),x.argmin()"
   ]
  },
  {
   "cell_type": "markdown",
   "id": "507a7742",
   "metadata": {},
   "source": [
    "### Reshaping, Stacking, Sqeezing and Unsqueeezing tensors"
   ]
  },
  {
   "cell_type": "code",
   "execution_count": 82,
   "id": "9c0e45e1",
   "metadata": {},
   "outputs": [
    {
     "data": {
      "text/plain": [
       "(tensor([1., 2., 3., 4., 5., 6., 7., 8., 9.]), torch.float32, torch.Size([9]))"
      ]
     },
     "execution_count": 82,
     "metadata": {},
     "output_type": "execute_result"
    }
   ],
   "source": [
    "x=torch.arange(1.,10.)\n",
    "x,x.dtype,x.shape"
   ]
  },
  {
   "cell_type": "code",
   "execution_count": 83,
   "id": "a709de45",
   "metadata": {},
   "outputs": [
    {
     "data": {
      "text/plain": [
       "(tensor([[[1., 2., 3.],\n",
       "          [4., 5., 6.],\n",
       "          [7., 8., 9.]]]),\n",
       " torch.float32,\n",
       " torch.Size([1, 3, 3]))"
      ]
     },
     "execution_count": 83,
     "metadata": {},
     "output_type": "execute_result"
    }
   ],
   "source": [
    "x_reshaped=x.reshape(1,3,3)\n",
    "x_reshaped,x_reshaped.dtype,x_reshaped.shape"
   ]
  },
  {
   "cell_type": "code",
   "execution_count": 84,
   "id": "ab05ddbc",
   "metadata": {},
   "outputs": [
    {
     "data": {
      "text/plain": [
       "(tensor([[1., 2., 3.],\n",
       "         [4., 5., 6.],\n",
       "         [7., 8., 9.]]),\n",
       " torch.float32,\n",
       " torch.Size([3, 3]))"
      ]
     },
     "execution_count": 84,
     "metadata": {},
     "output_type": "execute_result"
    }
   ],
   "source": [
    "z=x.view(3,3)\n",
    "z,z.dtype,z.shape"
   ]
  },
  {
   "cell_type": "code",
   "execution_count": 85,
   "id": "d669c177",
   "metadata": {},
   "outputs": [
    {
     "name": "stdout",
     "output_type": "stream",
     "text": [
      "original x: tensor([1., 2., 3., 4., 5., 6., 7., 8., 9.]), z: tensor([[1., 2., 3.],\n",
      "        [4., 5., 6.],\n",
      "        [7., 8., 9.]])\n",
      "After changeing z x: tensor([9., 2., 3., 9., 5., 6., 9., 8., 9.]), z: tensor([[9., 2., 3.],\n",
      "        [9., 5., 6.],\n",
      "        [9., 8., 9.]])\n"
     ]
    }
   ],
   "source": [
    "print(f\"original x: {x}, z: {z}\")\n",
    "z[:,0]=9\n",
    "print(f\"After changeing z x: {x}, z: {z}\")"
   ]
  },
  {
   "cell_type": "code",
   "execution_count": 86,
   "id": "7903207b",
   "metadata": {},
   "outputs": [
    {
     "data": {
      "text/plain": [
       "(tensor([[9., 2., 3., 9., 5., 6., 9., 8., 9.],\n",
       "         [9., 2., 3., 9., 5., 6., 9., 8., 9.],\n",
       "         [9., 2., 3., 9., 5., 6., 9., 8., 9.],\n",
       "         [9., 2., 3., 9., 5., 6., 9., 8., 9.]]),\n",
       " torch.float32,\n",
       " torch.Size([4, 9]))"
      ]
     },
     "execution_count": 86,
     "metadata": {},
     "output_type": "execute_result"
    }
   ],
   "source": [
    "x_stacked=torch.stack([x,x,x,x],dim=0)\n",
    "x_stacked,x_stacked.dtype,x_stacked.shape"
   ]
  },
  {
   "cell_type": "code",
   "execution_count": 87,
   "id": "2fed2823",
   "metadata": {},
   "outputs": [
    {
     "name": "stdout",
     "output_type": "stream",
     "text": [
      "tensor([[[9., 2., 3.],\n",
      "         [9., 5., 6.],\n",
      "         [9., 8., 9.]]]) torch.float32 torch.Size([1, 3, 3])\n",
      "tensor([[9., 2., 3.],\n",
      "        [9., 5., 6.],\n",
      "        [9., 8., 9.]]) torch.float32 torch.Size([3, 3])\n"
     ]
    }
   ],
   "source": [
    "print(x_reshaped,x_reshaped.dtype,x_reshaped.shape)\n",
    "x_squeezed=x_reshaped.squeeze()\n",
    "print(x_squeezed,x_squeezed.dtype,x_squeezed.shape)"
   ]
  },
  {
   "cell_type": "code",
   "execution_count": 91,
   "id": "e0855909",
   "metadata": {},
   "outputs": [
    {
     "name": "stdout",
     "output_type": "stream",
     "text": [
      "tensor([[9., 2., 3.],\n",
      "        [9., 5., 6.],\n",
      "        [9., 8., 9.]]) torch.float32 torch.Size([3, 3])\n",
      "tensor([[[9.],\n",
      "         [2.],\n",
      "         [3.]],\n",
      "\n",
      "        [[9.],\n",
      "         [5.],\n",
      "         [6.]],\n",
      "\n",
      "        [[9.],\n",
      "         [8.],\n",
      "         [9.]]]) torch.float32 torch.Size([3, 3, 1])\n"
     ]
    }
   ],
   "source": [
    "print(x_squeezed,x_squeezed.dtype,x_squeezed.shape)\n",
    "x_unsqueezed=x_squeezed.unsqueeze(dim=2)\n",
    "print(x_unsqueezed,x_unsqueezed.dtype,x_unsqueezed.shape)"
   ]
  },
  {
   "cell_type": "markdown",
   "id": "f39f6f8a",
   "metadata": {},
   "source": [
    "## Indexing (Selecting data from tensors)"
   ]
  },
  {
   "cell_type": "code",
   "execution_count": 92,
   "id": "b799370b",
   "metadata": {},
   "outputs": [
    {
     "data": {
      "text/plain": [
       "(tensor([[[1., 2., 3.],\n",
       "          [4., 5., 6.],\n",
       "          [7., 8., 9.]]]),\n",
       " torch.float32,\n",
       " torch.Size([1, 3, 3]))"
      ]
     },
     "execution_count": 92,
     "metadata": {},
     "output_type": "execute_result"
    }
   ],
   "source": [
    "x=torch.arange(1.,10.).reshape(1,3,3)\n",
    "x,x.dtype,x.shape"
   ]
  },
  {
   "cell_type": "code",
   "execution_count": 93,
   "id": "0d705978",
   "metadata": {},
   "outputs": [
    {
     "data": {
      "text/plain": [
       "tensor([[1., 2., 3.],\n",
       "        [4., 5., 6.],\n",
       "        [7., 8., 9.]])"
      ]
     },
     "execution_count": 93,
     "metadata": {},
     "output_type": "execute_result"
    }
   ],
   "source": [
    "x[0]"
   ]
  },
  {
   "cell_type": "code",
   "execution_count": 94,
   "id": "9703f055",
   "metadata": {},
   "outputs": [
    {
     "data": {
      "text/plain": [
       "tensor([1., 2., 3.])"
      ]
     },
     "execution_count": 94,
     "metadata": {},
     "output_type": "execute_result"
    }
   ],
   "source": [
    "x[0][0]"
   ]
  },
  {
   "cell_type": "code",
   "execution_count": 95,
   "id": "8ed3dcc6",
   "metadata": {},
   "outputs": [
    {
     "data": {
      "text/plain": [
       "tensor(1.)"
      ]
     },
     "execution_count": 95,
     "metadata": {},
     "output_type": "execute_result"
    }
   ],
   "source": [
    "x[0][0][0]"
   ]
  },
  {
   "cell_type": "code",
   "execution_count": 97,
   "id": "9a80c48c",
   "metadata": {},
   "outputs": [
    {
     "data": {
      "text/plain": [
       "tensor([[1., 2., 3.]])"
      ]
     },
     "execution_count": 97,
     "metadata": {},
     "output_type": "execute_result"
    }
   ],
   "source": [
    "x[:,0]"
   ]
  },
  {
   "cell_type": "code",
   "execution_count": 98,
   "id": "86a9dbf9",
   "metadata": {},
   "outputs": [
    {
     "data": {
      "text/plain": [
       "tensor([[1., 4., 7.]])"
      ]
     },
     "execution_count": 98,
     "metadata": {},
     "output_type": "execute_result"
    }
   ],
   "source": [
    "x[:,:,0]"
   ]
  },
  {
   "cell_type": "code",
   "execution_count": 100,
   "id": "a8a91312",
   "metadata": {},
   "outputs": [
    {
     "data": {
      "text/plain": [
       "tensor([4., 5., 6.])"
      ]
     },
     "execution_count": 100,
     "metadata": {},
     "output_type": "execute_result"
    }
   ],
   "source": [
    "x[0,1,:]"
   ]
  },
  {
   "cell_type": "markdown",
   "id": "f04c214b",
   "metadata": {},
   "source": [
    "## Reproducbility(trying to kake random out of random)"
   ]
  },
  {
   "cell_type": "code",
   "execution_count": 110,
   "id": "d0de2ce8",
   "metadata": {},
   "outputs": [
    {
     "name": "stdout",
     "output_type": "stream",
     "text": [
      "tensor([[0.8694, 0.5677, 0.7411, 0.4294],\n",
      "        [0.8854, 0.5739, 0.2666, 0.6274],\n",
      "        [0.2696, 0.4414, 0.2969, 0.8317]]) tensor([[0.1053, 0.2695, 0.3588, 0.1994],\n",
      "        [0.5472, 0.0062, 0.9516, 0.0753],\n",
      "        [0.8860, 0.5832, 0.3376, 0.8090]]) tensor([[False, False, False, False],\n",
      "        [False, False, False, False],\n",
      "        [False, False, False, False]])\n"
     ]
    }
   ],
   "source": [
    "import torch\n",
    "\n",
    "rand_tensor_a=torch.rand(3,4)\n",
    "rand_tensor_b=torch.rand(3,4)\n",
    "\n",
    "print(rand_tensor_a, rand_tensor_b,rand_tensor_a==rand_tensor_b)"
   ]
  },
  {
   "cell_type": "code",
   "execution_count": 111,
   "id": "97999c91",
   "metadata": {},
   "outputs": [
    {
     "name": "stdout",
     "output_type": "stream",
     "text": [
      "tensor([[0.8823, 0.9150, 0.3829, 0.9593],\n",
      "        [0.3904, 0.6009, 0.2566, 0.7936],\n",
      "        [0.9408, 0.1332, 0.9346, 0.5936]]) tensor([[0.8823, 0.9150, 0.3829, 0.9593],\n",
      "        [0.3904, 0.6009, 0.2566, 0.7936],\n",
      "        [0.9408, 0.1332, 0.9346, 0.5936]]) tensor([[True, True, True, True],\n",
      "        [True, True, True, True],\n",
      "        [True, True, True, True]])\n"
     ]
    }
   ],
   "source": [
    "import torch\n",
    "\n",
    "RANDOM_SEED=42\n",
    "\n",
    "torch.manual_seed(RANDOM_SEED)  # Set seed for reproducibility\n",
    "\n",
    "rand_tensor_c=torch.rand(3,4)\n",
    "\n",
    "torch.manual_seed(RANDOM_SEED)  # Set seed for reproducibility\n",
    "\n",
    "rand_tensor_d=torch.rand(3,4)\n",
    "\n",
    "print(rand_tensor_c, rand_tensor_d,rand_tensor_c==rand_tensor_d)"
   ]
  },
  {
   "cell_type": "code",
   "execution_count": null,
   "id": "6f054e2e",
   "metadata": {},
   "outputs": [],
   "source": []
  },
  {
   "cell_type": "code",
   "execution_count": null,
   "id": "134c7f71",
   "metadata": {},
   "outputs": [],
   "source": []
  },
  {
   "cell_type": "code",
   "execution_count": null,
   "id": "08c41297",
   "metadata": {},
   "outputs": [],
   "source": []
  }
 ],
 "metadata": {
  "kernelspec": {
   "display_name": "myenv",
   "language": "python",
   "name": "python3"
  },
  "language_info": {
   "codemirror_mode": {
    "name": "ipython",
    "version": 3
   },
   "file_extension": ".py",
   "mimetype": "text/x-python",
   "name": "python",
   "nbconvert_exporter": "python",
   "pygments_lexer": "ipython3",
   "version": "3.13.5"
  }
 },
 "nbformat": 4,
 "nbformat_minor": 5
}
