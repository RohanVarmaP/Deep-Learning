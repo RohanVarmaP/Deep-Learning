{
 "cells": [
  {
   "cell_type": "code",
   "execution_count": 80,
   "id": "d843d47f",
   "metadata": {},
   "outputs": [
    {
     "name": "stdout",
     "output_type": "stream",
     "text": [
      "2.7.1+cu118\n"
     ]
    }
   ],
   "source": [
    "import torch\n",
    "import pandas as pd\n",
    "import numpy as np\n",
    "import matplotlib.pyplot as plt\n",
    "import seaborn as sn\n",
    "print(torch.__version__)"
   ]
  },
  {
   "cell_type": "markdown",
   "id": "b95b319f",
   "metadata": {},
   "source": [
    "## Intoduction to Tensors"
   ]
  },
  {
   "cell_type": "markdown",
   "id": "6c953f75",
   "metadata": {},
   "source": [
    "### Creating tensors"
   ]
  },
  {
   "cell_type": "code",
   "execution_count": 81,
   "id": "799ac83a",
   "metadata": {},
   "outputs": [
    {
     "data": {
      "text/plain": [
       "tensor(7)"
      ]
     },
     "execution_count": 81,
     "metadata": {},
     "output_type": "execute_result"
    }
   ],
   "source": [
    "#scalar\n",
    "scalar=torch.tensor(7)\n",
    "scalar"
   ]
  },
  {
   "cell_type": "code",
   "execution_count": 82,
   "id": "c20234b3",
   "metadata": {},
   "outputs": [
    {
     "data": {
      "text/plain": [
       "tensor(7)"
      ]
     },
     "execution_count": 82,
     "metadata": {},
     "output_type": "execute_result"
    }
   ],
   "source": [
    "#scalar\n",
    "scalar=torch.tensor(7)\n",
    "scalar"
   ]
  },
  {
   "cell_type": "code",
   "execution_count": 83,
   "id": "699e4aaf",
   "metadata": {},
   "outputs": [
    {
     "data": {
      "text/plain": [
       "0"
      ]
     },
     "execution_count": 83,
     "metadata": {},
     "output_type": "execute_result"
    }
   ],
   "source": [
    "scalar.ndim\n"
   ]
  },
  {
   "cell_type": "code",
   "execution_count": 84,
   "id": "9044a72e",
   "metadata": {},
   "outputs": [
    {
     "data": {
      "text/plain": [
       "7"
      ]
     },
     "execution_count": 84,
     "metadata": {},
     "output_type": "execute_result"
    }
   ],
   "source": [
    "#get tensor back as python int\n",
    "scalar.item()"
   ]
  },
  {
   "cell_type": "code",
   "execution_count": 85,
   "id": "61ee28b4",
   "metadata": {},
   "outputs": [
    {
     "data": {
      "text/plain": [
       "tensor([ 7, 11])"
      ]
     },
     "execution_count": 85,
     "metadata": {},
     "output_type": "execute_result"
    }
   ],
   "source": [
    "#vector\n",
    "vector=torch.tensor((7,11))\n",
    "vector"
   ]
  },
  {
   "cell_type": "code",
   "execution_count": 86,
   "id": "ef67a4ff",
   "metadata": {},
   "outputs": [
    {
     "data": {
      "text/plain": [
       "1"
      ]
     },
     "execution_count": 86,
     "metadata": {},
     "output_type": "execute_result"
    }
   ],
   "source": [
    "vector.ndim\n"
   ]
  },
  {
   "cell_type": "code",
   "execution_count": 87,
   "id": "9f460299",
   "metadata": {},
   "outputs": [
    {
     "data": {
      "text/plain": [
       "torch.Size([2])"
      ]
     },
     "execution_count": 87,
     "metadata": {},
     "output_type": "execute_result"
    }
   ],
   "source": [
    "vector.shape\n"
   ]
  },
  {
   "cell_type": "code",
   "execution_count": 88,
   "id": "c624c5fe",
   "metadata": {},
   "outputs": [
    {
     "data": {
      "text/plain": [
       "tensor([[ 7,  8],\n",
       "        [ 9, 10]])"
      ]
     },
     "execution_count": 88,
     "metadata": {},
     "output_type": "execute_result"
    }
   ],
   "source": [
    "#matrix\n",
    "MATRIX=torch.tensor([[7,8],[9,10]])\n",
    "MATRIX"
   ]
  },
  {
   "cell_type": "code",
   "execution_count": 89,
   "id": "9f405ef0",
   "metadata": {},
   "outputs": [
    {
     "data": {
      "text/plain": [
       "2"
      ]
     },
     "execution_count": 89,
     "metadata": {},
     "output_type": "execute_result"
    }
   ],
   "source": [
    "MATRIX.ndim\n"
   ]
  },
  {
   "cell_type": "code",
   "execution_count": 90,
   "id": "c807f6d6",
   "metadata": {},
   "outputs": [
    {
     "data": {
      "text/plain": [
       "torch.Size([2, 2])"
      ]
     },
     "execution_count": 90,
     "metadata": {},
     "output_type": "execute_result"
    }
   ],
   "source": [
    "MATRIX.shape\n"
   ]
  },
  {
   "cell_type": "code",
   "execution_count": 91,
   "id": "fbb7940d",
   "metadata": {},
   "outputs": [
    {
     "data": {
      "text/plain": [
       "tensor([[[ 1,  2,  3],\n",
       "         [ 4,  5,  6],\n",
       "         [ 7,  8,  9]],\n",
       "\n",
       "        [[11, 12, 13],\n",
       "         [14, 15, 16],\n",
       "         [17, 18, 19]]])"
      ]
     },
     "execution_count": 91,
     "metadata": {},
     "output_type": "execute_result"
    }
   ],
   "source": [
    "TENSOR=torch.tensor([[[1,2,3],[4,5,6],[7,8,9]],[[11,12,13],[14,15,16],[17,18,19]]])\n",
    "TENSOR"
   ]
  },
  {
   "cell_type": "code",
   "execution_count": 92,
   "id": "506e8ffb",
   "metadata": {},
   "outputs": [
    {
     "data": {
      "text/plain": [
       "3"
      ]
     },
     "execution_count": 92,
     "metadata": {},
     "output_type": "execute_result"
    }
   ],
   "source": [
    "TENSOR.ndim"
   ]
  },
  {
   "cell_type": "code",
   "execution_count": 93,
   "id": "4df4f4ca",
   "metadata": {},
   "outputs": [
    {
     "data": {
      "text/plain": [
       "torch.Size([2, 3, 3])"
      ]
     },
     "execution_count": 93,
     "metadata": {},
     "output_type": "execute_result"
    }
   ],
   "source": [
    "TENSOR.shape"
   ]
  },
  {
   "cell_type": "code",
   "execution_count": 94,
   "id": "6d4e1a99",
   "metadata": {},
   "outputs": [
    {
     "data": {
      "text/plain": [
       "tensor([[1, 2, 3],\n",
       "        [4, 5, 6],\n",
       "        [7, 8, 9]])"
      ]
     },
     "execution_count": 94,
     "metadata": {},
     "output_type": "execute_result"
    }
   ],
   "source": [
    "TENSOR[0]"
   ]
  },
  {
   "cell_type": "code",
   "execution_count": 95,
   "id": "e4ccba45",
   "metadata": {},
   "outputs": [
    {
     "data": {
      "text/plain": [
       "tensor([1, 2, 3])"
      ]
     },
     "execution_count": 95,
     "metadata": {},
     "output_type": "execute_result"
    }
   ],
   "source": [
    "TENSOR[0][0]"
   ]
  },
  {
   "cell_type": "code",
   "execution_count": 96,
   "id": "c14831df",
   "metadata": {},
   "outputs": [
    {
     "data": {
      "text/plain": [
       "tensor(1)"
      ]
     },
     "execution_count": 96,
     "metadata": {},
     "output_type": "execute_result"
    }
   ],
   "source": [
    "TENSOR[0][0][0]"
   ]
  },
  {
   "cell_type": "markdown",
   "id": "15ef419d",
   "metadata": {},
   "source": [
    "### Random Tensors"
   ]
  },
  {
   "cell_type": "code",
   "execution_count": 97,
   "id": "dc706407",
   "metadata": {},
   "outputs": [
    {
     "data": {
      "text/plain": [
       "tensor([[[0.8694, 0.5677, 0.7411],\n",
       "         [0.4294, 0.8854, 0.5739],\n",
       "         [0.2666, 0.6274, 0.2696]],\n",
       "\n",
       "        [[0.4414, 0.2969, 0.8317],\n",
       "         [0.1053, 0.2695, 0.3588],\n",
       "         [0.1994, 0.5472, 0.0062]]])"
      ]
     },
     "execution_count": 97,
     "metadata": {},
     "output_type": "execute_result"
    }
   ],
   "source": [
    "#creating a random tensors\n",
    "random_tensor=torch.rand(2,3,3)\n",
    "random_tensor"
   ]
  },
  {
   "cell_type": "code",
   "execution_count": 98,
   "id": "efde6b37",
   "metadata": {},
   "outputs": [
    {
     "data": {
      "text/plain": [
       "3"
      ]
     },
     "execution_count": 98,
     "metadata": {},
     "output_type": "execute_result"
    }
   ],
   "source": [
    "random_tensor.ndim"
   ]
  },
  {
   "cell_type": "code",
   "execution_count": 99,
   "id": "3dffc7af",
   "metadata": {},
   "outputs": [
    {
     "data": {
      "text/plain": [
       "tensor([[[0.9516, 0.0753, 0.8860,  ..., 0.1332, 0.4118, 0.2576],\n",
       "         [0.3470, 0.0240, 0.7797,  ..., 0.7498, 0.2409, 0.1626],\n",
       "         [0.3403, 0.6049, 0.7574,  ..., 0.9597, 0.8029, 0.2662],\n",
       "         ...,\n",
       "         [0.9581, 0.3374, 0.5838,  ..., 0.6053, 0.4600, 0.2569],\n",
       "         [0.6966, 0.7573, 0.0894,  ..., 0.5751, 0.6938, 0.7547],\n",
       "         [0.7779, 0.0320, 0.5874,  ..., 0.7081, 0.6833, 0.4138]],\n",
       "\n",
       "        [[0.8463, 0.2374, 0.0065,  ..., 0.1270, 0.2590, 0.3408],\n",
       "         [0.9384, 0.7282, 0.0803,  ..., 0.4074, 0.7965, 0.6587],\n",
       "         [0.3127, 0.4278, 0.5464,  ..., 0.7450, 0.3476, 0.5245],\n",
       "         ...,\n",
       "         [0.9072, 0.9405, 0.7242,  ..., 0.7469, 0.5791, 0.6606],\n",
       "         [0.1196, 0.4621, 0.5850,  ..., 0.4959, 0.9773, 0.2584],\n",
       "         [0.6194, 0.7278, 0.1385,  ..., 0.9007, 0.5399, 0.7978]],\n",
       "\n",
       "        [[0.4431, 0.7507, 0.1253,  ..., 0.5450, 0.4651, 0.0590],\n",
       "         [0.9339, 0.5573, 0.8824,  ..., 0.1711, 0.6248, 0.6398],\n",
       "         [0.9061, 0.1220, 0.0480,  ..., 0.7191, 0.5014, 0.3565],\n",
       "         ...,\n",
       "         [0.3828, 0.2583, 0.7070,  ..., 0.9435, 0.8174, 0.8626],\n",
       "         [0.2345, 0.6799, 0.3574,  ..., 0.4663, 0.4864, 0.9062],\n",
       "         [0.0952, 0.2932, 0.2590,  ..., 0.6430, 0.3079, 0.6259]]])"
      ]
     },
     "execution_count": 99,
     "metadata": {},
     "output_type": "execute_result"
    }
   ],
   "source": [
    "#creating a random tensor with similar shape to a image tensor\n",
    "random_image_tensor=torch.rand(size=(3,244,224))#colour channel, height and width \n",
    "random_image_tensor"
   ]
  },
  {
   "cell_type": "code",
   "execution_count": 100,
   "id": "b0e970c6",
   "metadata": {},
   "outputs": [
    {
     "data": {
      "text/plain": [
       "(torch.Size([3, 244, 224]), 3)"
      ]
     },
     "execution_count": 100,
     "metadata": {},
     "output_type": "execute_result"
    }
   ],
   "source": [
    "random_image_tensor.shape, random_image_tensor.ndim"
   ]
  },
  {
   "cell_type": "markdown",
   "id": "2549832f",
   "metadata": {},
   "source": [
    "### Zeros and Ones"
   ]
  },
  {
   "cell_type": "code",
   "execution_count": 101,
   "id": "5044c108",
   "metadata": {},
   "outputs": [
    {
     "data": {
      "text/plain": [
       "tensor([[0., 0., 0.],\n",
       "        [0., 0., 0.],\n",
       "        [0., 0., 0.]])"
      ]
     },
     "execution_count": 101,
     "metadata": {},
     "output_type": "execute_result"
    }
   ],
   "source": [
    "#creating all zeros\n",
    "zeros=torch.zeros(size=(3,3))\n",
    "zeros"
   ]
  },
  {
   "cell_type": "code",
   "execution_count": 102,
   "id": "7ecfa2e1",
   "metadata": {},
   "outputs": [
    {
     "data": {
      "text/plain": [
       "tensor([[[0., 0., 0.],\n",
       "         [0., 0., 0.],\n",
       "         [0., 0., 0.]],\n",
       "\n",
       "        [[0., 0., 0.],\n",
       "         [0., 0., 0.],\n",
       "         [0., 0., 0.]]])"
      ]
     },
     "execution_count": 102,
     "metadata": {},
     "output_type": "execute_result"
    }
   ],
   "source": [
    "zeros*random_tensor"
   ]
  },
  {
   "cell_type": "code",
   "execution_count": 103,
   "id": "9615e611",
   "metadata": {},
   "outputs": [
    {
     "data": {
      "text/plain": [
       "tensor([[1., 1., 1.],\n",
       "        [1., 1., 1.],\n",
       "        [1., 1., 1.]])"
      ]
     },
     "execution_count": 103,
     "metadata": {},
     "output_type": "execute_result"
    }
   ],
   "source": [
    "#creating all ones\n",
    "ones=torch.ones(size=(3,3))\n",
    "ones"
   ]
  },
  {
   "cell_type": "code",
   "execution_count": 104,
   "id": "1f67de7e",
   "metadata": {},
   "outputs": [
    {
     "data": {
      "text/plain": [
       "torch.float32"
      ]
     },
     "execution_count": 104,
     "metadata": {},
     "output_type": "execute_result"
    }
   ],
   "source": [
    "ones.dtype"
   ]
  },
  {
   "cell_type": "markdown",
   "id": "051e39e0",
   "metadata": {},
   "source": [
    "### Creating tensors with a range"
   ]
  },
  {
   "cell_type": "code",
   "execution_count": 105,
   "id": "4cdc22f4",
   "metadata": {},
   "outputs": [
    {
     "data": {
      "text/plain": [
       "tensor([ 0,  9, 18, 27, 36, 45, 54, 63, 72, 81, 90, 99])"
      ]
     },
     "execution_count": 105,
     "metadata": {},
     "output_type": "execute_result"
    }
   ],
   "source": [
    "one_to_hundred=torch.arange(start=0,end=100,step=9)\n",
    "one_to_hundred"
   ]
  },
  {
   "cell_type": "code",
   "execution_count": 106,
   "id": "7117111d",
   "metadata": {},
   "outputs": [
    {
     "data": {
      "text/plain": [
       "tensor([0, 0, 0, 0, 0, 0, 0, 0, 0, 0, 0, 0])"
      ]
     },
     "execution_count": 106,
     "metadata": {},
     "output_type": "execute_result"
    }
   ],
   "source": [
    "#creating a tensor like\n",
    "hundred_zeros=torch.zeros_like(input=one_to_hundred)\n",
    "hundred_zeros"
   ]
  },
  {
   "cell_type": "markdown",
   "id": "0be26942",
   "metadata": {},
   "source": [
    "### Tensor datatypes"
   ]
  },
  {
   "cell_type": "code",
   "execution_count": 107,
   "id": "7dbef23e",
   "metadata": {},
   "outputs": [
    {
     "data": {
      "text/plain": [
       "(tensor([3., 6., 9.]), torch.float32)"
      ]
     },
     "execution_count": 107,
     "metadata": {},
     "output_type": "execute_result"
    }
   ],
   "source": [
    "#lfoat 32\n",
    "float_32_tensor=torch.tensor([3.0,6.0,9.0], \n",
    "                             dtype=None, # specify dtype of tensor, if None, it will be inferred from data\n",
    "                             device=None, # specify device of tensor, if None, it will be inferred from data\n",
    "                             requires_grad=False # specify if tensor requires gradient, default is False\n",
    "                             )\n",
    "float_32_tensor, float_32_tensor.dtype\n"
   ]
  },
  {
   "cell_type": "code",
   "execution_count": 108,
   "id": "fb55d5f5",
   "metadata": {},
   "outputs": [
    {
     "data": {
      "text/plain": [
       "(tensor([3., 6., 9.], dtype=torch.float16), torch.float16)"
      ]
     },
     "execution_count": 108,
     "metadata": {},
     "output_type": "execute_result"
    }
   ],
   "source": [
    "floar_16_tensor=float_32_tensor.type(torch.float16)\n",
    "floar_16_tensor, floar_16_tensor.dtype\n"
   ]
  },
  {
   "cell_type": "code",
   "execution_count": 109,
   "id": "84585f21",
   "metadata": {},
   "outputs": [
    {
     "data": {
      "text/plain": [
       "(tensor([ 9., 36., 81.]), torch.float32)"
      ]
     },
     "execution_count": 109,
     "metadata": {},
     "output_type": "execute_result"
    }
   ],
   "source": [
    "float_32_tensor*floar_16_tensor,(float_32_tensor*floar_16_tensor).dtype"
   ]
  },
  {
   "cell_type": "code",
   "execution_count": 110,
   "id": "5bad1421",
   "metadata": {},
   "outputs": [
    {
     "data": {
      "text/plain": [
       "(tensor([3, 6, 9], dtype=torch.int32), torch.int32)"
      ]
     },
     "execution_count": 110,
     "metadata": {},
     "output_type": "execute_result"
    }
   ],
   "source": [
    "int_32_tensor=torch.tensor([3,6,9], dtype=torch.int32)\n",
    "int_32_tensor, int_32_tensor.dtype"
   ]
  },
  {
   "cell_type": "code",
   "execution_count": 111,
   "id": "5025e9a7",
   "metadata": {},
   "outputs": [
    {
     "data": {
      "text/plain": [
       "(tensor([ 9., 36., 81.], dtype=torch.float16), torch.float16)"
      ]
     },
     "execution_count": 111,
     "metadata": {},
     "output_type": "execute_result"
    }
   ],
   "source": [
    "int_32_tensor*floar_16_tensor,(int_32_tensor*floar_16_tensor).dtype"
   ]
  },
  {
   "cell_type": "markdown",
   "id": "a53b93d1",
   "metadata": {},
   "source": [
    "### Getting info from Tensors\n",
    "info like: datatype, shape of tensor and device its present"
   ]
  },
  {
   "cell_type": "code",
   "execution_count": 112,
   "id": "89cf8ca0",
   "metadata": {},
   "outputs": [
    {
     "data": {
      "text/plain": [
       "tensor([[0.3214, 0.7572, 0.2080, 0.1460],\n",
       "        [0.6122, 0.0052, 0.8830, 0.2791],\n",
       "        [0.4999, 0.1466, 0.1136, 0.2463]])"
      ]
     },
     "execution_count": 112,
     "metadata": {},
     "output_type": "execute_result"
    }
   ],
   "source": [
    "#creating a general tensor\n",
    "some_tensor=torch.rand(3,4)\n",
    "some_tensor"
   ]
  },
  {
   "cell_type": "code",
   "execution_count": 113,
   "id": "6b9e4eec",
   "metadata": {},
   "outputs": [
    {
     "name": "stdout",
     "output_type": "stream",
     "text": [
      "Datatype of Tensor:  torch.float32\n",
      "Shape of Tensor:  torch.Size([3, 4])\n",
      "Device of Tensor:  cpu\n"
     ]
    }
   ],
   "source": [
    "print('Datatype of Tensor: ',some_tensor.dtype)\n",
    "print('Shape of Tensor: ',some_tensor.shape)\n",
    "print('Device of Tensor: ',some_tensor.device)"
   ]
  },
  {
   "cell_type": "markdown",
   "id": "1c22dd90",
   "metadata": {},
   "source": [
    "### Manipulating a tensor"
   ]
  },
  {
   "cell_type": "code",
   "execution_count": 114,
   "id": "1893e069",
   "metadata": {},
   "outputs": [
    {
     "data": {
      "text/plain": [
       "tensor([101, 102, 103])"
      ]
     },
     "execution_count": 114,
     "metadata": {},
     "output_type": "execute_result"
    }
   ],
   "source": [
    "#creating a dummy tensor\n",
    "dummy_tensor=torch.tensor([1,2,3])\n",
    "dummy_tensor+100"
   ]
  },
  {
   "cell_type": "code",
   "execution_count": 115,
   "id": "127d04bf",
   "metadata": {},
   "outputs": [
    {
     "data": {
      "text/plain": [
       "tensor([100, 200, 300])"
      ]
     },
     "execution_count": 115,
     "metadata": {},
     "output_type": "execute_result"
    }
   ],
   "source": [
    "dummy_tensor*100"
   ]
  },
  {
   "cell_type": "code",
   "execution_count": 116,
   "id": "fce0ca91",
   "metadata": {},
   "outputs": [
    {
     "data": {
      "text/plain": [
       "tensor([-99, -98, -97])"
      ]
     },
     "execution_count": 116,
     "metadata": {},
     "output_type": "execute_result"
    }
   ],
   "source": [
    "dummy_tensor-100"
   ]
  },
  {
   "cell_type": "code",
   "execution_count": 117,
   "id": "a93b966e",
   "metadata": {},
   "outputs": [
    {
     "data": {
      "text/plain": [
       "tensor([10, 20, 30])"
      ]
     },
     "execution_count": 117,
     "metadata": {},
     "output_type": "execute_result"
    }
   ],
   "source": [
    "torch.mul(dummy_tensor,10)"
   ]
  },
  {
   "cell_type": "code",
   "execution_count": 118,
   "id": "5b2dd279",
   "metadata": {},
   "outputs": [
    {
     "data": {
      "text/plain": [
       "tensor([11, 12, 13])"
      ]
     },
     "execution_count": 118,
     "metadata": {},
     "output_type": "execute_result"
    }
   ],
   "source": [
    "torch.add(dummy_tensor,10)"
   ]
  },
  {
   "cell_type": "markdown",
   "id": "5faa7836",
   "metadata": {},
   "source": [
    "### Matrix mulltiplication"
   ]
  },
  {
   "cell_type": "code",
   "execution_count": 119,
   "id": "3266354b",
   "metadata": {},
   "outputs": [
    {
     "data": {
      "text/plain": [
       "(tensor([1, 2, 3]), tensor([10, 20, 30]))"
      ]
     },
     "execution_count": 119,
     "metadata": {},
     "output_type": "execute_result"
    }
   ],
   "source": [
    "test_tensor=torch.tensor([1,2,3])\n",
    "second_tensor=torch.tensor([10,20,30])\n",
    "test_tensor, second_tensor"
   ]
  },
  {
   "cell_type": "code",
   "execution_count": 120,
   "id": "2c128403",
   "metadata": {},
   "outputs": [
    {
     "name": "stdout",
     "output_type": "stream",
     "text": [
      "CPU times: total: 0 ns\n",
      "Wall time: 74.4 μs\n"
     ]
    },
    {
     "data": {
      "text/plain": [
       "tensor([10, 40, 90])"
      ]
     },
     "execution_count": 120,
     "metadata": {},
     "output_type": "execute_result"
    }
   ],
   "source": [
    "%%time\n",
    "test_tensor*second_tensor"
   ]
  },
  {
   "cell_type": "code",
   "execution_count": 121,
   "id": "b57bf41b",
   "metadata": {},
   "outputs": [
    {
     "name": "stdout",
     "output_type": "stream",
     "text": [
      "CPU times: total: 0 ns\n",
      "Wall time: 277 μs\n"
     ]
    },
    {
     "data": {
      "text/plain": [
       "tensor(140)"
      ]
     },
     "execution_count": 121,
     "metadata": {},
     "output_type": "execute_result"
    }
   ],
   "source": [
    "%%time\n",
    "torch.matmul(test_tensor,second_tensor)"
   ]
  },
  {
   "cell_type": "code",
   "execution_count": 122,
   "id": "dda13c09",
   "metadata": {},
   "outputs": [
    {
     "data": {
      "text/plain": [
       "140"
      ]
     },
     "execution_count": 122,
     "metadata": {},
     "output_type": "execute_result"
    }
   ],
   "source": [
    "#matrix multiplication by hand\n",
    "1*10+2*20+3*30"
   ]
  },
  {
   "cell_type": "code",
   "execution_count": 123,
   "id": "64c4f899",
   "metadata": {},
   "outputs": [
    {
     "name": "stdout",
     "output_type": "stream",
     "text": [
      "tensor(140)\n",
      "CPU times: total: 0 ns\n",
      "Wall time: 1.21 ms\n"
     ]
    }
   ],
   "source": [
    "%%time\n",
    "val=0\n",
    "for i in range(len(test_tensor)):\n",
    "    val+=test_tensor[i]*second_tensor[i]\n",
    "print(val)"
   ]
  },
  {
   "cell_type": "markdown",
   "id": "a80cab39",
   "metadata": {},
   "source": [
    "### Finding min, max, mean ,sum , etc (tensor aggregation)"
   ]
  },
  {
   "cell_type": "code",
   "execution_count": 124,
   "id": "04dc08c8",
   "metadata": {},
   "outputs": [
    {
     "data": {
      "text/plain": [
       "(tensor([ 0, 10, 20, 30, 40, 50, 60, 70, 80, 90]), torch.int64)"
      ]
     },
     "execution_count": 124,
     "metadata": {},
     "output_type": "execute_result"
    }
   ],
   "source": [
    "x=torch.arange(0,100,10)\n",
    "x,x.dtype"
   ]
  },
  {
   "cell_type": "code",
   "execution_count": 125,
   "id": "84cc3050",
   "metadata": {},
   "outputs": [
    {
     "data": {
      "text/plain": [
       "(tensor(0), tensor(90), tensor(450))"
      ]
     },
     "execution_count": 125,
     "metadata": {},
     "output_type": "execute_result"
    }
   ],
   "source": [
    "torch.min(x),torch.max(x),torch.sum(x)"
   ]
  },
  {
   "cell_type": "code",
   "execution_count": 126,
   "id": "aaac8ffc",
   "metadata": {},
   "outputs": [
    {
     "data": {
      "text/plain": [
       "(tensor(45.), tensor(45.))"
      ]
     },
     "execution_count": 126,
     "metadata": {},
     "output_type": "execute_result"
    }
   ],
   "source": [
    "torch.mean(x.type(torch.float32)),x.type(torch.float32).mean() # mean requires float tensor"
   ]
  },
  {
   "cell_type": "code",
   "execution_count": 127,
   "id": "15fb7df3",
   "metadata": {},
   "outputs": [
    {
     "data": {
      "text/plain": [
       "(tensor(9), tensor(0))"
      ]
     },
     "execution_count": 127,
     "metadata": {},
     "output_type": "execute_result"
    }
   ],
   "source": [
    "#finding positional max and min\n",
    "x.argmax(),x.argmin()"
   ]
  },
  {
   "cell_type": "markdown",
   "id": "507a7742",
   "metadata": {},
   "source": [
    "### Reshaping, Stacking, Sqeezing and Unsqueeezing tensors"
   ]
  },
  {
   "cell_type": "code",
   "execution_count": 128,
   "id": "9c0e45e1",
   "metadata": {},
   "outputs": [
    {
     "data": {
      "text/plain": [
       "(tensor([1., 2., 3., 4., 5., 6., 7., 8., 9.]), torch.float32, torch.Size([9]))"
      ]
     },
     "execution_count": 128,
     "metadata": {},
     "output_type": "execute_result"
    }
   ],
   "source": [
    "x=torch.arange(1.,10.)\n",
    "x,x.dtype,x.shape"
   ]
  },
  {
   "cell_type": "code",
   "execution_count": 129,
   "id": "a709de45",
   "metadata": {},
   "outputs": [
    {
     "data": {
      "text/plain": [
       "(tensor([[[1., 2., 3.],\n",
       "          [4., 5., 6.],\n",
       "          [7., 8., 9.]]]),\n",
       " torch.float32,\n",
       " torch.Size([1, 3, 3]))"
      ]
     },
     "execution_count": 129,
     "metadata": {},
     "output_type": "execute_result"
    }
   ],
   "source": [
    "x_reshaped=x.reshape(1,3,3)\n",
    "x_reshaped,x_reshaped.dtype,x_reshaped.shape"
   ]
  },
  {
   "cell_type": "code",
   "execution_count": 130,
   "id": "ab05ddbc",
   "metadata": {},
   "outputs": [
    {
     "data": {
      "text/plain": [
       "(tensor([[1., 2., 3.],\n",
       "         [4., 5., 6.],\n",
       "         [7., 8., 9.]]),\n",
       " torch.float32,\n",
       " torch.Size([3, 3]))"
      ]
     },
     "execution_count": 130,
     "metadata": {},
     "output_type": "execute_result"
    }
   ],
   "source": [
    "z=x.view(3,3)\n",
    "z,z.dtype,z.shape"
   ]
  },
  {
   "cell_type": "code",
   "execution_count": 131,
   "id": "d669c177",
   "metadata": {},
   "outputs": [
    {
     "name": "stdout",
     "output_type": "stream",
     "text": [
      "original x: tensor([1., 2., 3., 4., 5., 6., 7., 8., 9.]), z: tensor([[1., 2., 3.],\n",
      "        [4., 5., 6.],\n",
      "        [7., 8., 9.]])\n",
      "After changeing z x: tensor([9., 2., 3., 9., 5., 6., 9., 8., 9.]), z: tensor([[9., 2., 3.],\n",
      "        [9., 5., 6.],\n",
      "        [9., 8., 9.]])\n"
     ]
    }
   ],
   "source": [
    "print(f\"original x: {x}, z: {z}\")\n",
    "z[:,0]=9\n",
    "print(f\"After changeing z x: {x}, z: {z}\")"
   ]
  },
  {
   "cell_type": "code",
   "execution_count": 132,
   "id": "7903207b",
   "metadata": {},
   "outputs": [
    {
     "data": {
      "text/plain": [
       "(tensor([[9., 2., 3., 9., 5., 6., 9., 8., 9.],\n",
       "         [9., 2., 3., 9., 5., 6., 9., 8., 9.],\n",
       "         [9., 2., 3., 9., 5., 6., 9., 8., 9.],\n",
       "         [9., 2., 3., 9., 5., 6., 9., 8., 9.]]),\n",
       " torch.float32,\n",
       " torch.Size([4, 9]))"
      ]
     },
     "execution_count": 132,
     "metadata": {},
     "output_type": "execute_result"
    }
   ],
   "source": [
    "x_stacked=torch.stack([x,x,x,x],dim=0)\n",
    "x_stacked,x_stacked.dtype,x_stacked.shape"
   ]
  },
  {
   "cell_type": "code",
   "execution_count": 133,
   "id": "2fed2823",
   "metadata": {},
   "outputs": [
    {
     "name": "stdout",
     "output_type": "stream",
     "text": [
      "tensor([[[9., 2., 3.],\n",
      "         [9., 5., 6.],\n",
      "         [9., 8., 9.]]]) torch.float32 torch.Size([1, 3, 3])\n",
      "tensor([[9., 2., 3.],\n",
      "        [9., 5., 6.],\n",
      "        [9., 8., 9.]]) torch.float32 torch.Size([3, 3])\n"
     ]
    }
   ],
   "source": [
    "print(x_reshaped,x_reshaped.dtype,x_reshaped.shape)\n",
    "x_squeezed=x_reshaped.squeeze()\n",
    "print(x_squeezed,x_squeezed.dtype,x_squeezed.shape)"
   ]
  },
  {
   "cell_type": "code",
   "execution_count": 134,
   "id": "e0855909",
   "metadata": {},
   "outputs": [
    {
     "name": "stdout",
     "output_type": "stream",
     "text": [
      "tensor([[9., 2., 3.],\n",
      "        [9., 5., 6.],\n",
      "        [9., 8., 9.]]) torch.float32 torch.Size([3, 3])\n",
      "tensor([[[9.],\n",
      "         [2.],\n",
      "         [3.]],\n",
      "\n",
      "        [[9.],\n",
      "         [5.],\n",
      "         [6.]],\n",
      "\n",
      "        [[9.],\n",
      "         [8.],\n",
      "         [9.]]]) torch.float32 torch.Size([3, 3, 1])\n"
     ]
    }
   ],
   "source": [
    "print(x_squeezed,x_squeezed.dtype,x_squeezed.shape)\n",
    "x_unsqueezed=x_squeezed.unsqueeze(dim=2)\n",
    "print(x_unsqueezed,x_unsqueezed.dtype,x_unsqueezed.shape)"
   ]
  },
  {
   "cell_type": "markdown",
   "id": "f39f6f8a",
   "metadata": {},
   "source": [
    "## Indexing (Selecting data from tensors)"
   ]
  },
  {
   "cell_type": "code",
   "execution_count": 135,
   "id": "b799370b",
   "metadata": {},
   "outputs": [
    {
     "data": {
      "text/plain": [
       "(tensor([[[1., 2., 3.],\n",
       "          [4., 5., 6.],\n",
       "          [7., 8., 9.]]]),\n",
       " torch.float32,\n",
       " torch.Size([1, 3, 3]))"
      ]
     },
     "execution_count": 135,
     "metadata": {},
     "output_type": "execute_result"
    }
   ],
   "source": [
    "x=torch.arange(1.,10.).reshape(1,3,3)\n",
    "x,x.dtype,x.shape"
   ]
  },
  {
   "cell_type": "code",
   "execution_count": 136,
   "id": "0d705978",
   "metadata": {},
   "outputs": [
    {
     "data": {
      "text/plain": [
       "tensor([[1., 2., 3.],\n",
       "        [4., 5., 6.],\n",
       "        [7., 8., 9.]])"
      ]
     },
     "execution_count": 136,
     "metadata": {},
     "output_type": "execute_result"
    }
   ],
   "source": [
    "x[0]"
   ]
  },
  {
   "cell_type": "code",
   "execution_count": 137,
   "id": "9703f055",
   "metadata": {},
   "outputs": [
    {
     "data": {
      "text/plain": [
       "tensor([1., 2., 3.])"
      ]
     },
     "execution_count": 137,
     "metadata": {},
     "output_type": "execute_result"
    }
   ],
   "source": [
    "x[0][0]"
   ]
  },
  {
   "cell_type": "code",
   "execution_count": 138,
   "id": "8ed3dcc6",
   "metadata": {},
   "outputs": [
    {
     "data": {
      "text/plain": [
       "tensor(1.)"
      ]
     },
     "execution_count": 138,
     "metadata": {},
     "output_type": "execute_result"
    }
   ],
   "source": [
    "x[0][0][0]"
   ]
  },
  {
   "cell_type": "code",
   "execution_count": 139,
   "id": "9a80c48c",
   "metadata": {},
   "outputs": [
    {
     "data": {
      "text/plain": [
       "tensor([[1., 2., 3.]])"
      ]
     },
     "execution_count": 139,
     "metadata": {},
     "output_type": "execute_result"
    }
   ],
   "source": [
    "x[:,0]"
   ]
  },
  {
   "cell_type": "code",
   "execution_count": 140,
   "id": "86a9dbf9",
   "metadata": {},
   "outputs": [
    {
     "data": {
      "text/plain": [
       "tensor([[1., 4., 7.]])"
      ]
     },
     "execution_count": 140,
     "metadata": {},
     "output_type": "execute_result"
    }
   ],
   "source": [
    "x[:,:,0]"
   ]
  },
  {
   "cell_type": "code",
   "execution_count": 141,
   "id": "a8a91312",
   "metadata": {},
   "outputs": [
    {
     "data": {
      "text/plain": [
       "tensor([4., 5., 6.])"
      ]
     },
     "execution_count": 141,
     "metadata": {},
     "output_type": "execute_result"
    }
   ],
   "source": [
    "x[0,1,:]"
   ]
  },
  {
   "cell_type": "markdown",
   "id": "f04c214b",
   "metadata": {},
   "source": [
    "## Reproducbility(trying to kake random out of random)"
   ]
  },
  {
   "cell_type": "code",
   "execution_count": 142,
   "id": "d0de2ce8",
   "metadata": {},
   "outputs": [
    {
     "name": "stdout",
     "output_type": "stream",
     "text": [
      "tensor([[0.8139, 0.8667, 0.9803, 0.2567],\n",
      "        [0.0408, 0.1031, 0.7575, 0.9418],\n",
      "        [0.9886, 0.0870, 0.5018, 0.7681]]) tensor([[0.2231, 0.0379, 0.2087, 0.6413],\n",
      "        [0.6254, 0.1182, 0.0951, 0.0518],\n",
      "        [0.2511, 0.3214, 0.8627, 0.5522]]) tensor([[False, False, False, False],\n",
      "        [False, False, False, False],\n",
      "        [False, False, False, False]])\n"
     ]
    }
   ],
   "source": [
    "import torch\n",
    "\n",
    "rand_tensor_a=torch.rand(3,4)\n",
    "rand_tensor_b=torch.rand(3,4)\n",
    "\n",
    "print(rand_tensor_a, rand_tensor_b,rand_tensor_a==rand_tensor_b)"
   ]
  },
  {
   "cell_type": "code",
   "execution_count": 143,
   "id": "97999c91",
   "metadata": {},
   "outputs": [
    {
     "name": "stdout",
     "output_type": "stream",
     "text": [
      "tensor([[0.8823, 0.9150, 0.3829, 0.9593],\n",
      "        [0.3904, 0.6009, 0.2566, 0.7936],\n",
      "        [0.9408, 0.1332, 0.9346, 0.5936]]) tensor([[0.8823, 0.9150, 0.3829, 0.9593],\n",
      "        [0.3904, 0.6009, 0.2566, 0.7936],\n",
      "        [0.9408, 0.1332, 0.9346, 0.5936]]) tensor([[True, True, True, True],\n",
      "        [True, True, True, True],\n",
      "        [True, True, True, True]])\n"
     ]
    }
   ],
   "source": [
    "import torch\n",
    "\n",
    "RANDOM_SEED=42\n",
    "\n",
    "torch.manual_seed(RANDOM_SEED)  # Set seed for reproducibility\n",
    "\n",
    "rand_tensor_c=torch.rand(3,4)\n",
    "\n",
    "torch.manual_seed(RANDOM_SEED)  # Set seed for reproducibility\n",
    "\n",
    "rand_tensor_d=torch.rand(3,4)\n",
    "\n",
    "print(rand_tensor_c, rand_tensor_d,rand_tensor_c==rand_tensor_d)"
   ]
  },
  {
   "cell_type": "markdown",
   "id": "9db3430c",
   "metadata": {},
   "source": [
    "## Running tensors and Pytorch objects on the GPUs"
   ]
  },
  {
   "cell_type": "code",
   "execution_count": 144,
   "id": "6f054e2e",
   "metadata": {},
   "outputs": [
    {
     "name": "stdout",
     "output_type": "stream",
     "text": [
      "2.7.1+cu118\n",
      "11.8\n",
      "True\n"
     ]
    }
   ],
   "source": [
    "import torch\n",
    "print(torch.__version__)\n",
    "print(torch.version.cuda)\n",
    "print(torch.cuda.is_available())\n"
   ]
  },
  {
   "cell_type": "code",
   "execution_count": 145,
   "id": "134c7f71",
   "metadata": {},
   "outputs": [
    {
     "name": "stdout",
     "output_type": "stream",
     "text": [
      "Using device: cuda\n"
     ]
    }
   ],
   "source": [
    "device = \"cuda\" if torch.cuda.is_available() else \"cpu\"\n",
    "print(f\"Using device: {device}\")\n"
   ]
  },
  {
   "cell_type": "code",
   "execution_count": 146,
   "id": "08c41297",
   "metadata": {},
   "outputs": [
    {
     "data": {
      "text/plain": [
       "1"
      ]
     },
     "execution_count": 146,
     "metadata": {},
     "output_type": "execute_result"
    }
   ],
   "source": [
    "torch.cuda.device_count()"
   ]
  },
  {
   "cell_type": "markdown",
   "id": "62df9233",
   "metadata": {},
   "source": [
    "## Putting tensors (and Models) on GPU"
   ]
  },
  {
   "cell_type": "code",
   "execution_count": 147,
   "id": "b865b5bd",
   "metadata": {},
   "outputs": [
    {
     "name": "stdout",
     "output_type": "stream",
     "text": [
      "tensor([1, 2, 3]) cpu\n"
     ]
    },
    {
     "name": "stdout",
     "output_type": "stream",
     "text": [
      "tensor([1, 2, 3], device='cuda:0') cuda:0\n"
     ]
    }
   ],
   "source": [
    "tensor=torch.tensor([1,2,3])\n",
    "print(tensor,tensor.device)\n",
    "tensor_on_gpu=torch.tensor([1,2,3],device=device)\n",
    "print(tensor_on_gpu,tensor_on_gpu.device)"
   ]
  },
  {
   "cell_type": "markdown",
   "id": "3ccc375e",
   "metadata": {},
   "source": [
    "## Moving tensors back to CPU"
   ]
  },
  {
   "cell_type": "code",
   "execution_count": 148,
   "id": "507e8c28",
   "metadata": {},
   "outputs": [
    {
     "ename": "TypeError",
     "evalue": "can't convert cuda:0 device type tensor to numpy. Use Tensor.cpu() to copy the tensor to host memory first.",
     "output_type": "error",
     "traceback": [
      "\u001b[31m---------------------------------------------------------------------------\u001b[39m",
      "\u001b[31mTypeError\u001b[39m                                 Traceback (most recent call last)",
      "\u001b[36mCell\u001b[39m\u001b[36m \u001b[39m\u001b[32mIn[148]\u001b[39m\u001b[32m, line 1\u001b[39m\n\u001b[32m----> \u001b[39m\u001b[32m1\u001b[39m \u001b[43mtensor_on_gpu\u001b[49m\u001b[43m.\u001b[49m\u001b[43mnumpy\u001b[49m\u001b[43m(\u001b[49m\u001b[43m)\u001b[49m\u001b[38;5;66;03m#can't use numpy on gpu\u001b[39;00m\n",
      "\u001b[31mTypeError\u001b[39m: can't convert cuda:0 device type tensor to numpy. Use Tensor.cpu() to copy the tensor to host memory first."
     ]
    }
   ],
   "source": [
    "tensor_on_gpu.numpy()#can't use numpy on gpu"
   ]
  },
  {
   "cell_type": "code",
   "execution_count": 149,
   "id": "02057ac3",
   "metadata": {},
   "outputs": [
    {
     "data": {
      "text/plain": [
       "array([1, 2, 3])"
      ]
     },
     "execution_count": 149,
     "metadata": {},
     "output_type": "execute_result"
    }
   ],
   "source": [
    "tensor_backto_cpu=tensor_on_gpu.cpu().numpy()#converting to cpu just before changing to numpy\n",
    "tensor_backto_cpu"
   ]
  },
  {
   "cell_type": "code",
   "execution_count": null,
   "id": "df6c4e7a",
   "metadata": {},
   "outputs": [],
   "source": []
  }
 ],
 "metadata": {
  "kernelspec": {
   "display_name": "myenv",
   "language": "python",
   "name": "python3"
  },
  "language_info": {
   "codemirror_mode": {
    "name": "ipython",
    "version": 3
   },
   "file_extension": ".py",
   "mimetype": "text/x-python",
   "name": "python",
   "nbconvert_exporter": "python",
   "pygments_lexer": "ipython3",
   "version": "3.13.5"
  }
 },
 "nbformat": 4,
 "nbformat_minor": 5
}
