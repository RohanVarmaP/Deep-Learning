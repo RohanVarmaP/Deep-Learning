{
 "cells": [
  {
   "cell_type": "code",
   "execution_count": 24,
   "id": "d843d47f",
   "metadata": {},
   "outputs": [
    {
     "name": "stdout",
     "output_type": "stream",
     "text": [
      "2.7.1+cpu\n"
     ]
    }
   ],
   "source": [
    "import torch\n",
    "import pandas as pd\n",
    "import numpy as np\n",
    "import matplotlib.pyplot as plt\n",
    "import seaborn as sn\n",
    "print(torch.__version__)"
   ]
  },
  {
   "cell_type": "markdown",
   "id": "b95b319f",
   "metadata": {},
   "source": [
    "## Intoduction to Tensors\n",
    "\n",
    "\n",
    "### Creating tensors"
   ]
  },
  {
   "cell_type": "code",
   "execution_count": 41,
   "id": "799ac83a",
   "metadata": {},
   "outputs": [
    {
     "data": {
      "text/plain": [
       "tensor(7)"
      ]
     },
     "execution_count": 41,
     "metadata": {},
     "output_type": "execute_result"
    }
   ],
   "source": [
    "#scalar\n",
    "scalar=torch.tensor(7)\n",
    "scalar"
   ]
  },
  {
   "cell_type": "code",
   "execution_count": 42,
   "id": "c20234b3",
   "metadata": {},
   "outputs": [
    {
     "data": {
      "text/plain": [
       "tensor(7)"
      ]
     },
     "execution_count": 42,
     "metadata": {},
     "output_type": "execute_result"
    }
   ],
   "source": [
    "#scalar\n",
    "scalar=torch.tensor(7)\n",
    "scalar"
   ]
  },
  {
   "cell_type": "code",
   "execution_count": 43,
   "id": "699e4aaf",
   "metadata": {},
   "outputs": [
    {
     "data": {
      "text/plain": [
       "0"
      ]
     },
     "execution_count": 43,
     "metadata": {},
     "output_type": "execute_result"
    }
   ],
   "source": [
    "scalar.ndim\n"
   ]
  },
  {
   "cell_type": "code",
   "execution_count": 44,
   "id": "9044a72e",
   "metadata": {},
   "outputs": [
    {
     "data": {
      "text/plain": [
       "7"
      ]
     },
     "execution_count": 44,
     "metadata": {},
     "output_type": "execute_result"
    }
   ],
   "source": [
    "#get tensor back as python int\n",
    "scalar.item()"
   ]
  },
  {
   "cell_type": "code",
   "execution_count": 45,
   "id": "61ee28b4",
   "metadata": {},
   "outputs": [
    {
     "data": {
      "text/plain": [
       "tensor([ 7, 11])"
      ]
     },
     "execution_count": 45,
     "metadata": {},
     "output_type": "execute_result"
    }
   ],
   "source": [
    "#vector\n",
    "vector=torch.tensor((7,11))\n",
    "vector"
   ]
  },
  {
   "cell_type": "code",
   "execution_count": 46,
   "id": "ef67a4ff",
   "metadata": {},
   "outputs": [
    {
     "data": {
      "text/plain": [
       "1"
      ]
     },
     "execution_count": 46,
     "metadata": {},
     "output_type": "execute_result"
    }
   ],
   "source": [
    "vector.ndim\n"
   ]
  },
  {
   "cell_type": "code",
   "execution_count": 47,
   "id": "9f460299",
   "metadata": {},
   "outputs": [
    {
     "data": {
      "text/plain": [
       "torch.Size([2])"
      ]
     },
     "execution_count": 47,
     "metadata": {},
     "output_type": "execute_result"
    }
   ],
   "source": [
    "vector.shape\n"
   ]
  },
  {
   "cell_type": "code",
   "execution_count": 48,
   "id": "c624c5fe",
   "metadata": {},
   "outputs": [
    {
     "data": {
      "text/plain": [
       "tensor([[ 7,  8],\n",
       "        [ 9, 10]])"
      ]
     },
     "execution_count": 48,
     "metadata": {},
     "output_type": "execute_result"
    }
   ],
   "source": [
    "#matrix\n",
    "MATRIX=torch.tensor([[7,8],[9,10]])\n",
    "MATRIX"
   ]
  },
  {
   "cell_type": "code",
   "execution_count": 49,
   "id": "9f405ef0",
   "metadata": {},
   "outputs": [
    {
     "data": {
      "text/plain": [
       "2"
      ]
     },
     "execution_count": 49,
     "metadata": {},
     "output_type": "execute_result"
    }
   ],
   "source": [
    "MATRIX.ndim\n"
   ]
  },
  {
   "cell_type": "code",
   "execution_count": 50,
   "id": "c807f6d6",
   "metadata": {},
   "outputs": [
    {
     "data": {
      "text/plain": [
       "torch.Size([2, 2])"
      ]
     },
     "execution_count": 50,
     "metadata": {},
     "output_type": "execute_result"
    }
   ],
   "source": [
    "MATRIX.shape\n"
   ]
  },
  {
   "cell_type": "code",
   "execution_count": 51,
   "id": "fbb7940d",
   "metadata": {},
   "outputs": [
    {
     "data": {
      "text/plain": [
       "tensor([[[ 1,  2,  3],\n",
       "         [ 4,  5,  6],\n",
       "         [ 7,  8,  9]],\n",
       "\n",
       "        [[11, 12, 13],\n",
       "         [14, 15, 16],\n",
       "         [17, 18, 19]]])"
      ]
     },
     "execution_count": 51,
     "metadata": {},
     "output_type": "execute_result"
    }
   ],
   "source": [
    "TENSOR=torch.tensor([[[1,2,3],[4,5,6],[7,8,9]],[[11,12,13],[14,15,16],[17,18,19]]])\n",
    "TENSOR"
   ]
  },
  {
   "cell_type": "code",
   "execution_count": 52,
   "id": "506e8ffb",
   "metadata": {},
   "outputs": [
    {
     "data": {
      "text/plain": [
       "3"
      ]
     },
     "execution_count": 52,
     "metadata": {},
     "output_type": "execute_result"
    }
   ],
   "source": [
    "TENSOR.ndim"
   ]
  },
  {
   "cell_type": "code",
   "execution_count": 53,
   "id": "4df4f4ca",
   "metadata": {},
   "outputs": [
    {
     "data": {
      "text/plain": [
       "torch.Size([2, 3, 3])"
      ]
     },
     "execution_count": 53,
     "metadata": {},
     "output_type": "execute_result"
    }
   ],
   "source": [
    "TENSOR.shape"
   ]
  },
  {
   "cell_type": "code",
   "execution_count": 54,
   "id": "6d4e1a99",
   "metadata": {},
   "outputs": [
    {
     "data": {
      "text/plain": [
       "tensor([[1, 2, 3],\n",
       "        [4, 5, 6],\n",
       "        [7, 8, 9]])"
      ]
     },
     "execution_count": 54,
     "metadata": {},
     "output_type": "execute_result"
    }
   ],
   "source": [
    "TENSOR[0]"
   ]
  },
  {
   "cell_type": "code",
   "execution_count": 55,
   "id": "e4ccba45",
   "metadata": {},
   "outputs": [
    {
     "data": {
      "text/plain": [
       "tensor([1, 2, 3])"
      ]
     },
     "execution_count": 55,
     "metadata": {},
     "output_type": "execute_result"
    }
   ],
   "source": [
    "TENSOR[0][0]"
   ]
  },
  {
   "cell_type": "code",
   "execution_count": 56,
   "id": "c14831df",
   "metadata": {},
   "outputs": [
    {
     "data": {
      "text/plain": [
       "tensor(1)"
      ]
     },
     "execution_count": 56,
     "metadata": {},
     "output_type": "execute_result"
    }
   ],
   "source": [
    "TENSOR[0][0][0]"
   ]
  },
  {
   "cell_type": "markdown",
   "id": "15ef419d",
   "metadata": {},
   "source": [
    "### Random Tensors"
   ]
  },
  {
   "cell_type": "code",
   "execution_count": 60,
   "id": "dc706407",
   "metadata": {},
   "outputs": [
    {
     "data": {
      "text/plain": [
       "tensor([[[0.0937, 0.3030, 0.6819],\n",
       "         [0.6403, 0.9223, 0.3751],\n",
       "         [0.5902, 0.3721, 0.4733]],\n",
       "\n",
       "        [[0.1648, 0.4131, 0.6029],\n",
       "         [0.4771, 0.0446, 0.6527],\n",
       "         [0.4122, 0.8250, 0.4627]]])"
      ]
     },
     "execution_count": 60,
     "metadata": {},
     "output_type": "execute_result"
    }
   ],
   "source": [
    "#creating a random tensors\n",
    "random_tensor=torch.rand(2,3,3)\n",
    "random_tensor"
   ]
  },
  {
   "cell_type": "code",
   "execution_count": 61,
   "id": "efde6b37",
   "metadata": {},
   "outputs": [
    {
     "data": {
      "text/plain": [
       "3"
      ]
     },
     "execution_count": 61,
     "metadata": {},
     "output_type": "execute_result"
    }
   ],
   "source": [
    "random_tensor.ndim"
   ]
  },
  {
   "cell_type": "code",
   "execution_count": 64,
   "id": "3dffc7af",
   "metadata": {},
   "outputs": [
    {
     "data": {
      "text/plain": [
       "tensor([[[0.2964, 0.5461, 0.2810,  ..., 0.1188, 0.8217, 0.4865],\n",
       "         [0.3528, 0.9247, 0.1382,  ..., 0.0830, 0.1176, 0.9766],\n",
       "         [0.9444, 0.4440, 0.6139,  ..., 0.1073, 0.4217, 0.8759],\n",
       "         ...,\n",
       "         [0.0711, 0.6257, 0.0624,  ..., 0.4287, 0.4453, 0.1845],\n",
       "         [0.7180, 0.5840, 0.5005,  ..., 0.3559, 0.4621, 0.6499],\n",
       "         [0.8412, 0.0115, 0.1728,  ..., 0.4135, 0.3020, 0.7183]],\n",
       "\n",
       "        [[0.5488, 0.2380, 0.6929,  ..., 0.8368, 0.5576, 0.6019],\n",
       "         [0.5026, 0.7890, 0.3854,  ..., 0.4902, 0.2113, 0.2015],\n",
       "         [0.4312, 0.3557, 0.6430,  ..., 0.3588, 0.8787, 0.1931],\n",
       "         ...,\n",
       "         [0.8013, 0.5987, 0.3046,  ..., 0.7394, 0.9276, 0.3428],\n",
       "         [0.2633, 0.8883, 0.0235,  ..., 0.0942, 0.3300, 0.9633],\n",
       "         [0.1436, 0.5658, 0.2584,  ..., 0.3071, 0.8823, 0.8454]],\n",
       "\n",
       "        [[0.6421, 0.7376, 0.0669,  ..., 0.0088, 0.7930, 0.1395],\n",
       "         [0.2044, 0.0509, 0.9433,  ..., 0.4057, 0.8610, 0.2111],\n",
       "         [0.5353, 0.7546, 0.6681,  ..., 0.3421, 0.3236, 0.6379],\n",
       "         ...,\n",
       "         [0.0483, 0.7954, 0.9827,  ..., 0.9972, 0.9585, 0.4880],\n",
       "         [0.8538, 0.3865, 0.6669,  ..., 0.8425, 0.4937, 0.1391],\n",
       "         [0.1694, 0.3444, 0.8533,  ..., 0.2743, 0.9194, 0.4731]]])"
      ]
     },
     "execution_count": 64,
     "metadata": {},
     "output_type": "execute_result"
    }
   ],
   "source": [
    "#creating a random tensor with similar shape to a image tensor\n",
    "random_image_tensor=torch.rand(size=(3,244,224))#colour channel, height and width \n",
    "random_image_tensor"
   ]
  },
  {
   "cell_type": "code",
   "execution_count": 67,
   "id": "b0e970c6",
   "metadata": {},
   "outputs": [
    {
     "data": {
      "text/plain": [
       "(torch.Size([3, 244, 224]), 3)"
      ]
     },
     "execution_count": 67,
     "metadata": {},
     "output_type": "execute_result"
    }
   ],
   "source": [
    "random_image_tensor.shape, random_image_tensor.ndim"
   ]
  },
  {
   "cell_type": "markdown",
   "id": "2549832f",
   "metadata": {},
   "source": [
    "### Zeros and Ones"
   ]
  },
  {
   "cell_type": "code",
   "execution_count": 70,
   "id": "5044c108",
   "metadata": {},
   "outputs": [
    {
     "data": {
      "text/plain": [
       "tensor([[0., 0., 0.],\n",
       "        [0., 0., 0.],\n",
       "        [0., 0., 0.]])"
      ]
     },
     "execution_count": 70,
     "metadata": {},
     "output_type": "execute_result"
    }
   ],
   "source": [
    "#creating all zeros\n",
    "zeros=torch.zeros(size=(3,3))\n",
    "zeros"
   ]
  },
  {
   "cell_type": "code",
   "execution_count": 71,
   "id": "7ecfa2e1",
   "metadata": {},
   "outputs": [
    {
     "data": {
      "text/plain": [
       "tensor([[[0., 0., 0.],\n",
       "         [0., 0., 0.],\n",
       "         [0., 0., 0.]],\n",
       "\n",
       "        [[0., 0., 0.],\n",
       "         [0., 0., 0.],\n",
       "         [0., 0., 0.]]])"
      ]
     },
     "execution_count": 71,
     "metadata": {},
     "output_type": "execute_result"
    }
   ],
   "source": [
    "zeros*random_tensor"
   ]
  },
  {
   "cell_type": "code",
   "execution_count": 72,
   "id": "9615e611",
   "metadata": {},
   "outputs": [
    {
     "data": {
      "text/plain": [
       "tensor([[1., 1., 1.],\n",
       "        [1., 1., 1.],\n",
       "        [1., 1., 1.]])"
      ]
     },
     "execution_count": 72,
     "metadata": {},
     "output_type": "execute_result"
    }
   ],
   "source": [
    "#creating all ones\n",
    "ones=torch.ones(size=(3,3))\n",
    "ones"
   ]
  },
  {
   "cell_type": "code",
   "execution_count": 73,
   "id": "1f67de7e",
   "metadata": {},
   "outputs": [
    {
     "data": {
      "text/plain": [
       "torch.float32"
      ]
     },
     "execution_count": 73,
     "metadata": {},
     "output_type": "execute_result"
    }
   ],
   "source": [
    "ones.dtype"
   ]
  },
  {
   "cell_type": "markdown",
   "id": "051e39e0",
   "metadata": {},
   "source": [
    "### Creating tensors with a range"
   ]
  },
  {
   "cell_type": "code",
   "execution_count": 81,
   "id": "4cdc22f4",
   "metadata": {},
   "outputs": [
    {
     "data": {
      "text/plain": [
       "tensor([ 0,  9, 18, 27, 36, 45, 54, 63, 72, 81, 90, 99])"
      ]
     },
     "execution_count": 81,
     "metadata": {},
     "output_type": "execute_result"
    }
   ],
   "source": [
    "one_to_hundred=torch.arange(start=0,end=100,step=9)\n",
    "one_to_hundred"
   ]
  },
  {
   "cell_type": "code",
   "execution_count": 83,
   "id": "7117111d",
   "metadata": {},
   "outputs": [
    {
     "data": {
      "text/plain": [
       "tensor([0, 0, 0, 0, 0, 0, 0, 0, 0, 0, 0, 0])"
      ]
     },
     "execution_count": 83,
     "metadata": {},
     "output_type": "execute_result"
    }
   ],
   "source": [
    "#creating a tensor like\n",
    "hundred_zeros=torch.zeros_like(input=one_to_hundred)\n",
    "hundred_zeros"
   ]
  },
  {
   "cell_type": "code",
   "execution_count": null,
   "id": "7dbef23e",
   "metadata": {},
   "outputs": [],
   "source": []
  }
 ],
 "metadata": {
  "kernelspec": {
   "display_name": "myenv",
   "language": "python",
   "name": "python3"
  },
  "language_info": {
   "codemirror_mode": {
    "name": "ipython",
    "version": 3
   },
   "file_extension": ".py",
   "mimetype": "text/x-python",
   "name": "python",
   "nbconvert_exporter": "python",
   "pygments_lexer": "ipython3",
   "version": "3.13.2"
  }
 },
 "nbformat": 4,
 "nbformat_minor": 5
}
