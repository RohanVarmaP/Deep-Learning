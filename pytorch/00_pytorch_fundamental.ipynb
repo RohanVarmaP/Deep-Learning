{
 "cells": [
  {
   "cell_type": "code",
   "execution_count": 1,
   "id": "d843d47f",
   "metadata": {},
   "outputs": [
    {
     "name": "stdout",
     "output_type": "stream",
     "text": [
      "2.7.1+cpu\n"
     ]
    }
   ],
   "source": [
    "import torch\n",
    "import pandas as pd\n",
    "import numpy as np\n",
    "import matplotlib.pyplot as plt\n",
    "import seaborn as sn\n",
    "print(torch.__version__)"
   ]
  },
  {
   "cell_type": "markdown",
   "id": "b95b319f",
   "metadata": {},
   "source": [
    "## Intoduction to Tensors\n",
    "\n",
    "\n",
    "### Creating tensors"
   ]
  },
  {
   "cell_type": "code",
   "execution_count": 2,
   "id": "799ac83a",
   "metadata": {},
   "outputs": [
    {
     "data": {
      "text/plain": [
       "tensor(7)"
      ]
     },
     "execution_count": 2,
     "metadata": {},
     "output_type": "execute_result"
    }
   ],
   "source": [
    "#scalar\n",
    "scalar=torch.tensor(7)\n",
    "scalar"
   ]
  },
  {
   "cell_type": "code",
   "execution_count": 3,
   "id": "c20234b3",
   "metadata": {},
   "outputs": [
    {
     "data": {
      "text/plain": [
       "tensor(7)"
      ]
     },
     "execution_count": 3,
     "metadata": {},
     "output_type": "execute_result"
    }
   ],
   "source": [
    "#scalar\n",
    "scalar=torch.tensor(7)\n",
    "scalar"
   ]
  },
  {
   "cell_type": "code",
   "execution_count": 4,
   "id": "699e4aaf",
   "metadata": {},
   "outputs": [
    {
     "data": {
      "text/plain": [
       "0"
      ]
     },
     "execution_count": 4,
     "metadata": {},
     "output_type": "execute_result"
    }
   ],
   "source": [
    "scalar.ndim\n"
   ]
  },
  {
   "cell_type": "code",
   "execution_count": 5,
   "id": "9044a72e",
   "metadata": {},
   "outputs": [
    {
     "data": {
      "text/plain": [
       "7"
      ]
     },
     "execution_count": 5,
     "metadata": {},
     "output_type": "execute_result"
    }
   ],
   "source": [
    "#get tensor back as python int\n",
    "scalar.item()"
   ]
  },
  {
   "cell_type": "code",
   "execution_count": 6,
   "id": "61ee28b4",
   "metadata": {},
   "outputs": [
    {
     "data": {
      "text/plain": [
       "tensor([ 7, 11])"
      ]
     },
     "execution_count": 6,
     "metadata": {},
     "output_type": "execute_result"
    }
   ],
   "source": [
    "#vector\n",
    "vector=torch.tensor((7,11))\n",
    "vector"
   ]
  },
  {
   "cell_type": "code",
   "execution_count": 7,
   "id": "ef67a4ff",
   "metadata": {},
   "outputs": [
    {
     "data": {
      "text/plain": [
       "1"
      ]
     },
     "execution_count": 7,
     "metadata": {},
     "output_type": "execute_result"
    }
   ],
   "source": [
    "vector.ndim\n"
   ]
  },
  {
   "cell_type": "code",
   "execution_count": 8,
   "id": "9f460299",
   "metadata": {},
   "outputs": [
    {
     "data": {
      "text/plain": [
       "torch.Size([2])"
      ]
     },
     "execution_count": 8,
     "metadata": {},
     "output_type": "execute_result"
    }
   ],
   "source": [
    "vector.shape\n"
   ]
  },
  {
   "cell_type": "code",
   "execution_count": 9,
   "id": "c624c5fe",
   "metadata": {},
   "outputs": [
    {
     "data": {
      "text/plain": [
       "tensor([[ 7,  8],\n",
       "        [ 9, 10]])"
      ]
     },
     "execution_count": 9,
     "metadata": {},
     "output_type": "execute_result"
    }
   ],
   "source": [
    "#matrix\n",
    "MATRIX=torch.tensor([[7,8],[9,10]])\n",
    "MATRIX"
   ]
  },
  {
   "cell_type": "code",
   "execution_count": 10,
   "id": "9f405ef0",
   "metadata": {},
   "outputs": [
    {
     "data": {
      "text/plain": [
       "2"
      ]
     },
     "execution_count": 10,
     "metadata": {},
     "output_type": "execute_result"
    }
   ],
   "source": [
    "MATRIX.ndim\n"
   ]
  },
  {
   "cell_type": "code",
   "execution_count": 11,
   "id": "c807f6d6",
   "metadata": {},
   "outputs": [
    {
     "data": {
      "text/plain": [
       "torch.Size([2, 2])"
      ]
     },
     "execution_count": 11,
     "metadata": {},
     "output_type": "execute_result"
    }
   ],
   "source": [
    "MATRIX.shape\n"
   ]
  },
  {
   "cell_type": "code",
   "execution_count": 12,
   "id": "fbb7940d",
   "metadata": {},
   "outputs": [
    {
     "data": {
      "text/plain": [
       "tensor([[[ 1,  2,  3],\n",
       "         [ 4,  5,  6],\n",
       "         [ 7,  8,  9]],\n",
       "\n",
       "        [[11, 12, 13],\n",
       "         [14, 15, 16],\n",
       "         [17, 18, 19]]])"
      ]
     },
     "execution_count": 12,
     "metadata": {},
     "output_type": "execute_result"
    }
   ],
   "source": [
    "TENSOR=torch.tensor([[[1,2,3],[4,5,6],[7,8,9]],[[11,12,13],[14,15,16],[17,18,19]]])\n",
    "TENSOR"
   ]
  },
  {
   "cell_type": "code",
   "execution_count": 13,
   "id": "506e8ffb",
   "metadata": {},
   "outputs": [
    {
     "data": {
      "text/plain": [
       "3"
      ]
     },
     "execution_count": 13,
     "metadata": {},
     "output_type": "execute_result"
    }
   ],
   "source": [
    "TENSOR.ndim"
   ]
  },
  {
   "cell_type": "code",
   "execution_count": 14,
   "id": "4df4f4ca",
   "metadata": {},
   "outputs": [
    {
     "data": {
      "text/plain": [
       "torch.Size([2, 3, 3])"
      ]
     },
     "execution_count": 14,
     "metadata": {},
     "output_type": "execute_result"
    }
   ],
   "source": [
    "TENSOR.shape"
   ]
  },
  {
   "cell_type": "code",
   "execution_count": 15,
   "id": "6d4e1a99",
   "metadata": {},
   "outputs": [
    {
     "data": {
      "text/plain": [
       "tensor([[1, 2, 3],\n",
       "        [4, 5, 6],\n",
       "        [7, 8, 9]])"
      ]
     },
     "execution_count": 15,
     "metadata": {},
     "output_type": "execute_result"
    }
   ],
   "source": [
    "TENSOR[0]"
   ]
  },
  {
   "cell_type": "code",
   "execution_count": 16,
   "id": "e4ccba45",
   "metadata": {},
   "outputs": [
    {
     "data": {
      "text/plain": [
       "tensor([1, 2, 3])"
      ]
     },
     "execution_count": 16,
     "metadata": {},
     "output_type": "execute_result"
    }
   ],
   "source": [
    "TENSOR[0][0]"
   ]
  },
  {
   "cell_type": "code",
   "execution_count": 17,
   "id": "c14831df",
   "metadata": {},
   "outputs": [
    {
     "data": {
      "text/plain": [
       "tensor(1)"
      ]
     },
     "execution_count": 17,
     "metadata": {},
     "output_type": "execute_result"
    }
   ],
   "source": [
    "TENSOR[0][0][0]"
   ]
  },
  {
   "cell_type": "markdown",
   "id": "15ef419d",
   "metadata": {},
   "source": [
    "### Random Tensors"
   ]
  },
  {
   "cell_type": "code",
   "execution_count": 18,
   "id": "dc706407",
   "metadata": {},
   "outputs": [
    {
     "data": {
      "text/plain": [
       "tensor([[[0.2204, 0.8271, 0.4813],\n",
       "         [0.2156, 0.1572, 0.1353],\n",
       "         [0.6926, 0.7856, 0.5433]],\n",
       "\n",
       "        [[0.0761, 0.0659, 0.5193],\n",
       "         [0.0465, 0.2903, 0.5615],\n",
       "         [0.0341, 0.3397, 0.9645]]])"
      ]
     },
     "execution_count": 18,
     "metadata": {},
     "output_type": "execute_result"
    }
   ],
   "source": [
    "#creating a random tensors\n",
    "random_tensor=torch.rand(2,3,3)\n",
    "random_tensor"
   ]
  },
  {
   "cell_type": "code",
   "execution_count": 19,
   "id": "efde6b37",
   "metadata": {},
   "outputs": [
    {
     "data": {
      "text/plain": [
       "3"
      ]
     },
     "execution_count": 19,
     "metadata": {},
     "output_type": "execute_result"
    }
   ],
   "source": [
    "random_tensor.ndim"
   ]
  },
  {
   "cell_type": "code",
   "execution_count": 20,
   "id": "3dffc7af",
   "metadata": {},
   "outputs": [
    {
     "data": {
      "text/plain": [
       "tensor([[[0.1097, 0.4485, 0.2775,  ..., 0.0186, 0.3208, 0.1491],\n",
       "         [0.5230, 0.9888, 0.4031,  ..., 0.7913, 0.9232, 0.1532],\n",
       "         [0.9632, 0.5056, 0.0927,  ..., 0.1970, 0.2081, 0.4227],\n",
       "         ...,\n",
       "         [0.7393, 0.2854, 0.7947,  ..., 0.2229, 0.1038, 0.0775],\n",
       "         [0.5478, 0.2371, 0.6913,  ..., 0.5779, 0.0510, 0.5379],\n",
       "         [0.6986, 0.8200, 0.6517,  ..., 0.7395, 0.8167, 0.1361]],\n",
       "\n",
       "        [[0.0385, 0.5415, 0.9279,  ..., 0.7280, 0.6333, 0.9279],\n",
       "         [0.4990, 0.4964, 0.1813,  ..., 0.1287, 0.2715, 0.6934],\n",
       "         [0.2582, 0.9427, 0.2023,  ..., 0.4638, 0.1049, 0.9357],\n",
       "         ...,\n",
       "         [0.6780, 0.2435, 0.8161,  ..., 0.3047, 0.3814, 0.3935],\n",
       "         [0.8792, 0.5881, 0.0351,  ..., 0.0170, 0.5588, 0.3681],\n",
       "         [0.9821, 0.2575, 0.5620,  ..., 0.3092, 0.2325, 0.7168]],\n",
       "\n",
       "        [[0.4192, 0.7355, 0.5604,  ..., 0.7203, 0.0137, 0.9814],\n",
       "         [0.6458, 0.9577, 0.8969,  ..., 0.7989, 0.9547, 0.6039],\n",
       "         [0.4072, 0.6792, 0.5506,  ..., 0.9727, 0.2077, 0.5865],\n",
       "         ...,\n",
       "         [0.5413, 0.0864, 0.1875,  ..., 0.7859, 0.8668, 0.2090],\n",
       "         [0.6274, 0.8954, 0.8524,  ..., 0.8550, 0.3494, 0.1223],\n",
       "         [0.9186, 0.3938, 0.9341,  ..., 0.2136, 0.6641, 0.3326]]])"
      ]
     },
     "execution_count": 20,
     "metadata": {},
     "output_type": "execute_result"
    }
   ],
   "source": [
    "#creating a random tensor with similar shape to a image tensor\n",
    "random_image_tensor=torch.rand(size=(3,244,224))#colour channel, height and width \n",
    "random_image_tensor"
   ]
  },
  {
   "cell_type": "code",
   "execution_count": 21,
   "id": "b0e970c6",
   "metadata": {},
   "outputs": [
    {
     "data": {
      "text/plain": [
       "(torch.Size([3, 244, 224]), 3)"
      ]
     },
     "execution_count": 21,
     "metadata": {},
     "output_type": "execute_result"
    }
   ],
   "source": [
    "random_image_tensor.shape, random_image_tensor.ndim"
   ]
  },
  {
   "cell_type": "markdown",
   "id": "2549832f",
   "metadata": {},
   "source": [
    "### Zeros and Ones"
   ]
  },
  {
   "cell_type": "code",
   "execution_count": 22,
   "id": "5044c108",
   "metadata": {},
   "outputs": [
    {
     "data": {
      "text/plain": [
       "tensor([[0., 0., 0.],\n",
       "        [0., 0., 0.],\n",
       "        [0., 0., 0.]])"
      ]
     },
     "execution_count": 22,
     "metadata": {},
     "output_type": "execute_result"
    }
   ],
   "source": [
    "#creating all zeros\n",
    "zeros=torch.zeros(size=(3,3))\n",
    "zeros"
   ]
  },
  {
   "cell_type": "code",
   "execution_count": 23,
   "id": "7ecfa2e1",
   "metadata": {},
   "outputs": [
    {
     "data": {
      "text/plain": [
       "tensor([[[0., 0., 0.],\n",
       "         [0., 0., 0.],\n",
       "         [0., 0., 0.]],\n",
       "\n",
       "        [[0., 0., 0.],\n",
       "         [0., 0., 0.],\n",
       "         [0., 0., 0.]]])"
      ]
     },
     "execution_count": 23,
     "metadata": {},
     "output_type": "execute_result"
    }
   ],
   "source": [
    "zeros*random_tensor"
   ]
  },
  {
   "cell_type": "code",
   "execution_count": 24,
   "id": "9615e611",
   "metadata": {},
   "outputs": [
    {
     "data": {
      "text/plain": [
       "tensor([[1., 1., 1.],\n",
       "        [1., 1., 1.],\n",
       "        [1., 1., 1.]])"
      ]
     },
     "execution_count": 24,
     "metadata": {},
     "output_type": "execute_result"
    }
   ],
   "source": [
    "#creating all ones\n",
    "ones=torch.ones(size=(3,3))\n",
    "ones"
   ]
  },
  {
   "cell_type": "code",
   "execution_count": 25,
   "id": "1f67de7e",
   "metadata": {},
   "outputs": [
    {
     "data": {
      "text/plain": [
       "torch.float32"
      ]
     },
     "execution_count": 25,
     "metadata": {},
     "output_type": "execute_result"
    }
   ],
   "source": [
    "ones.dtype"
   ]
  },
  {
   "cell_type": "markdown",
   "id": "051e39e0",
   "metadata": {},
   "source": [
    "### Creating tensors with a range"
   ]
  },
  {
   "cell_type": "code",
   "execution_count": 26,
   "id": "4cdc22f4",
   "metadata": {},
   "outputs": [
    {
     "data": {
      "text/plain": [
       "tensor([ 0,  9, 18, 27, 36, 45, 54, 63, 72, 81, 90, 99])"
      ]
     },
     "execution_count": 26,
     "metadata": {},
     "output_type": "execute_result"
    }
   ],
   "source": [
    "one_to_hundred=torch.arange(start=0,end=100,step=9)\n",
    "one_to_hundred"
   ]
  },
  {
   "cell_type": "code",
   "execution_count": 27,
   "id": "7117111d",
   "metadata": {},
   "outputs": [
    {
     "data": {
      "text/plain": [
       "tensor([0, 0, 0, 0, 0, 0, 0, 0, 0, 0, 0, 0])"
      ]
     },
     "execution_count": 27,
     "metadata": {},
     "output_type": "execute_result"
    }
   ],
   "source": [
    "#creating a tensor like\n",
    "hundred_zeros=torch.zeros_like(input=one_to_hundred)\n",
    "hundred_zeros"
   ]
  },
  {
   "cell_type": "code",
   "execution_count": null,
   "id": "7dbef23e",
   "metadata": {},
   "outputs": [],
   "source": []
  }
 ],
 "metadata": {
  "kernelspec": {
   "display_name": "myenv",
   "language": "python",
   "name": "python3"
  },
  "language_info": {
   "codemirror_mode": {
    "name": "ipython",
    "version": 3
   },
   "file_extension": ".py",
   "mimetype": "text/x-python",
   "name": "python",
   "nbconvert_exporter": "python",
   "pygments_lexer": "ipython3",
   "version": "3.13.5"
  }
 },
 "nbformat": 4,
 "nbformat_minor": 5
}
